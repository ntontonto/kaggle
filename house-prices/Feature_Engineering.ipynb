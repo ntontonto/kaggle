{
  "cells": [
    {
      "cell_type": "markdown",
      "source": [
        "## 特徴量のカンペはこちら ⇒ https://docs.google.com/spreadsheets/d/1T59ieP110cFg8MfOtIbW2M60iWuSwnIf/edit?usp=share_link&ouid=111727008586725963366&rtpof=true&sd=true"
      ],
      "metadata": {
        "id": "AXi4WtN9fjQh"
      }
    },
    {
      "cell_type": "markdown",
      "metadata": {
        "id": "g4PtisoVRRWv"
      },
      "source": [
        "## Kaggle用データのインポート"
      ]
    },
    {
      "cell_type": "code",
      "execution_count": 1,
      "metadata": {
        "colab": {
          "base_uri": "https://localhost:8080/",
          "height": 112
        },
        "id": "4dUr5pkUwu0U",
        "outputId": "84a6f42b-f709-408a-d02c-22572c2172a9"
      },
      "outputs": [
        {
          "output_type": "stream",
          "name": "stdout",
          "text": [
            "Mounted at /content/drive\n"
          ]
        },
        {
          "output_type": "display_data",
          "data": {
            "text/plain": [
              "<IPython.core.display.HTML object>"
            ],
            "text/html": [
              "\n",
              "     <input type=\"file\" id=\"files-c8a1bc98-c4c6-446c-a54d-e6c8a5be1d75\" name=\"files[]\" multiple disabled\n",
              "        style=\"border:none\" />\n",
              "     <output id=\"result-c8a1bc98-c4c6-446c-a54d-e6c8a5be1d75\">\n",
              "      Upload widget is only available when the cell has been executed in the\n",
              "      current browser session. Please rerun this cell to enable.\n",
              "      </output>\n",
              "      <script>// Copyright 2017 Google LLC\n",
              "//\n",
              "// Licensed under the Apache License, Version 2.0 (the \"License\");\n",
              "// you may not use this file except in compliance with the License.\n",
              "// You may obtain a copy of the License at\n",
              "//\n",
              "//      http://www.apache.org/licenses/LICENSE-2.0\n",
              "//\n",
              "// Unless required by applicable law or agreed to in writing, software\n",
              "// distributed under the License is distributed on an \"AS IS\" BASIS,\n",
              "// WITHOUT WARRANTIES OR CONDITIONS OF ANY KIND, either express or implied.\n",
              "// See the License for the specific language governing permissions and\n",
              "// limitations under the License.\n",
              "\n",
              "/**\n",
              " * @fileoverview Helpers for google.colab Python module.\n",
              " */\n",
              "(function(scope) {\n",
              "function span(text, styleAttributes = {}) {\n",
              "  const element = document.createElement('span');\n",
              "  element.textContent = text;\n",
              "  for (const key of Object.keys(styleAttributes)) {\n",
              "    element.style[key] = styleAttributes[key];\n",
              "  }\n",
              "  return element;\n",
              "}\n",
              "\n",
              "// Max number of bytes which will be uploaded at a time.\n",
              "const MAX_PAYLOAD_SIZE = 100 * 1024;\n",
              "\n",
              "function _uploadFiles(inputId, outputId) {\n",
              "  const steps = uploadFilesStep(inputId, outputId);\n",
              "  const outputElement = document.getElementById(outputId);\n",
              "  // Cache steps on the outputElement to make it available for the next call\n",
              "  // to uploadFilesContinue from Python.\n",
              "  outputElement.steps = steps;\n",
              "\n",
              "  return _uploadFilesContinue(outputId);\n",
              "}\n",
              "\n",
              "// This is roughly an async generator (not supported in the browser yet),\n",
              "// where there are multiple asynchronous steps and the Python side is going\n",
              "// to poll for completion of each step.\n",
              "// This uses a Promise to block the python side on completion of each step,\n",
              "// then passes the result of the previous step as the input to the next step.\n",
              "function _uploadFilesContinue(outputId) {\n",
              "  const outputElement = document.getElementById(outputId);\n",
              "  const steps = outputElement.steps;\n",
              "\n",
              "  const next = steps.next(outputElement.lastPromiseValue);\n",
              "  return Promise.resolve(next.value.promise).then((value) => {\n",
              "    // Cache the last promise value to make it available to the next\n",
              "    // step of the generator.\n",
              "    outputElement.lastPromiseValue = value;\n",
              "    return next.value.response;\n",
              "  });\n",
              "}\n",
              "\n",
              "/**\n",
              " * Generator function which is called between each async step of the upload\n",
              " * process.\n",
              " * @param {string} inputId Element ID of the input file picker element.\n",
              " * @param {string} outputId Element ID of the output display.\n",
              " * @return {!Iterable<!Object>} Iterable of next steps.\n",
              " */\n",
              "function* uploadFilesStep(inputId, outputId) {\n",
              "  const inputElement = document.getElementById(inputId);\n",
              "  inputElement.disabled = false;\n",
              "\n",
              "  const outputElement = document.getElementById(outputId);\n",
              "  outputElement.innerHTML = '';\n",
              "\n",
              "  const pickedPromise = new Promise((resolve) => {\n",
              "    inputElement.addEventListener('change', (e) => {\n",
              "      resolve(e.target.files);\n",
              "    });\n",
              "  });\n",
              "\n",
              "  const cancel = document.createElement('button');\n",
              "  inputElement.parentElement.appendChild(cancel);\n",
              "  cancel.textContent = 'Cancel upload';\n",
              "  const cancelPromise = new Promise((resolve) => {\n",
              "    cancel.onclick = () => {\n",
              "      resolve(null);\n",
              "    };\n",
              "  });\n",
              "\n",
              "  // Wait for the user to pick the files.\n",
              "  const files = yield {\n",
              "    promise: Promise.race([pickedPromise, cancelPromise]),\n",
              "    response: {\n",
              "      action: 'starting',\n",
              "    }\n",
              "  };\n",
              "\n",
              "  cancel.remove();\n",
              "\n",
              "  // Disable the input element since further picks are not allowed.\n",
              "  inputElement.disabled = true;\n",
              "\n",
              "  if (!files) {\n",
              "    return {\n",
              "      response: {\n",
              "        action: 'complete',\n",
              "      }\n",
              "    };\n",
              "  }\n",
              "\n",
              "  for (const file of files) {\n",
              "    const li = document.createElement('li');\n",
              "    li.append(span(file.name, {fontWeight: 'bold'}));\n",
              "    li.append(span(\n",
              "        `(${file.type || 'n/a'}) - ${file.size} bytes, ` +\n",
              "        `last modified: ${\n",
              "            file.lastModifiedDate ? file.lastModifiedDate.toLocaleDateString() :\n",
              "                                    'n/a'} - `));\n",
              "    const percent = span('0% done');\n",
              "    li.appendChild(percent);\n",
              "\n",
              "    outputElement.appendChild(li);\n",
              "\n",
              "    const fileDataPromise = new Promise((resolve) => {\n",
              "      const reader = new FileReader();\n",
              "      reader.onload = (e) => {\n",
              "        resolve(e.target.result);\n",
              "      };\n",
              "      reader.readAsArrayBuffer(file);\n",
              "    });\n",
              "    // Wait for the data to be ready.\n",
              "    let fileData = yield {\n",
              "      promise: fileDataPromise,\n",
              "      response: {\n",
              "        action: 'continue',\n",
              "      }\n",
              "    };\n",
              "\n",
              "    // Use a chunked sending to avoid message size limits. See b/62115660.\n",
              "    let position = 0;\n",
              "    do {\n",
              "      const length = Math.min(fileData.byteLength - position, MAX_PAYLOAD_SIZE);\n",
              "      const chunk = new Uint8Array(fileData, position, length);\n",
              "      position += length;\n",
              "\n",
              "      const base64 = btoa(String.fromCharCode.apply(null, chunk));\n",
              "      yield {\n",
              "        response: {\n",
              "          action: 'append',\n",
              "          file: file.name,\n",
              "          data: base64,\n",
              "        },\n",
              "      };\n",
              "\n",
              "      let percentDone = fileData.byteLength === 0 ?\n",
              "          100 :\n",
              "          Math.round((position / fileData.byteLength) * 100);\n",
              "      percent.textContent = `${percentDone}% done`;\n",
              "\n",
              "    } while (position < fileData.byteLength);\n",
              "  }\n",
              "\n",
              "  // All done.\n",
              "  yield {\n",
              "    response: {\n",
              "      action: 'complete',\n",
              "    }\n",
              "  };\n",
              "}\n",
              "\n",
              "scope.google = scope.google || {};\n",
              "scope.google.colab = scope.google.colab || {};\n",
              "scope.google.colab._files = {\n",
              "  _uploadFiles,\n",
              "  _uploadFilesContinue,\n",
              "};\n",
              "})(self);\n",
              "</script> "
            ]
          },
          "metadata": {}
        },
        {
          "output_type": "stream",
          "name": "stdout",
          "text": [
            "Saving kaggle.json to kaggle.json\n"
          ]
        },
        {
          "output_type": "execute_result",
          "data": {
            "text/plain": [
              "{'kaggle.json': b'{\"username\":\"droeloe\",\"key\":\"c330037c8e955090c87e6872ec333b32\"}'}"
            ]
          },
          "metadata": {},
          "execution_count": 1
        }
      ],
      "source": [
        "from google.colab import drive\n",
        "drive.mount('/content/drive')\n",
        "\n",
        "COMPETITION = \"house-prices-advanced-regression-techniques\"\n",
        "WORK_DIR = \"/content/drive/MyDrive/Colab Notebooks/kaggle\"\n",
        "\n",
        "import os\n",
        "\n",
        "if not(os.path.exists(WORK_DIR)):\n",
        "  os.mkdir(WORK_DIR)\n",
        "os.chdir(WORK_DIR)\n",
        "\n",
        "from google.colab import files\n",
        "files.upload()"
      ]
    },
    {
      "cell_type": "code",
      "execution_count": 2,
      "metadata": {
        "colab": {
          "base_uri": "https://localhost:8080/"
        },
        "id": "Ejol7bfVxlgQ",
        "outputId": "6e6314bf-2eb6-4d4f-e825-41d1f3a0db00"
      },
      "outputs": [
        {
          "output_type": "stream",
          "name": "stdout",
          "text": [
            "Downloading house-prices-advanced-regression-techniques.zip to /content/drive/MyDrive/Colab Notebooks/kaggle\n",
            "\r  0% 0.00/199k [00:00<?, ?B/s]\n",
            "\r100% 199k/199k [00:00<00:00, 27.8MB/s]\n",
            "Archive:  house-prices-advanced-regression-techniques.zip\n",
            "  inflating: data_description.txt    \n",
            "  inflating: sample_submission.csv   \n",
            "  inflating: test.csv                \n",
            "  inflating: train.csv               \n"
          ]
        }
      ],
      "source": [
        "!mkdir -p ~/.kaggle\n",
        "!mv kaggle.json ~/.kaggle/\n",
        "! chmod 600 ~/.kaggle/kaggle.json\n",
        "!kaggle competitions download -c {COMPETITION} # copy from competition page!\n",
        "!unzip -o {COMPETITION}\n",
        "!rm {COMPETITION}.zip"
      ]
    },
    {
      "cell_type": "markdown",
      "metadata": {
        "id": "3QuY8halx1Op"
      },
      "source": [
        "## ライブラリのインポート"
      ]
    },
    {
      "cell_type": "code",
      "execution_count": 3,
      "metadata": {
        "id": "Qwl5SkWexlu0"
      },
      "outputs": [],
      "source": [
        "import numpy as np\n",
        "import pandas as pd\n",
        "import matplotlib.pyplot as plt\n",
        "import matplotlib.gridspec as gridspec\n",
        "import seaborn as sns\n",
        "from numpy import mean, std\n",
        "\n",
        "import statsmodels.formula.api as smf\n",
        "from statsmodels.stats import power\n",
        "import statsmodels.api as sm\n",
        "from scipy import stats\n",
        "import math\n",
        "import random\n",
        "import warnings\n",
        "warnings.filterwarnings('ignore')\n",
        "\n",
        "from sklearn.impute import SimpleImputer\n",
        "from sklearn.metrics import accuracy_score\n",
        "from sklearn.preprocessing import LabelEncoder, OneHotEncoder, OrdinalEncoder\n",
        "from sklearn.preprocessing import StandardScaler, PowerTransformer\n",
        "from sklearn.model_selection import StratifiedKFold, train_test_split, KFold\n",
        "\n",
        "import plotly.express as px\n",
        "from plotly.subplots import make_subplots\n",
        "import plotly.graph_objects as go\n",
        "\n",
        "PALETTE=['lightcoral', 'lightskyblue', 'gold', 'sandybrown', 'navajowhite',\n",
        "        'khaki', 'lightslategrey', 'turquoise', 'rosybrown', 'thistle', 'pink']\n",
        "sns.set_palette(PALETTE) # seabornのデフォルトの色を変更する\n",
        "BACKCOLOR = '#f6f5f5'\n",
        "\n",
        "from scipy.special import boxcox1p\n",
        "from IPython.core.display import HTML\n",
        "from scipy.stats import norm, skew #for some statistics\n",
        "import missingno as msno\n",
        "from sklearn.impute import SimpleImputer\n",
        "from sklearn.feature_selection import mutual_info_regression\n",
        "from sklearn.feature_selection import SelectKBest, SelectPercentile\n",
        "from sklearn.feature_selection import chi2\n",
        "from sklearn.preprocessing import MinMaxScaler\n",
        "from sklearn.feature_selection import RFE\n",
        "from sklearn.linear_model import LogisticRegression\n",
        "import lightgbm as lgb\n",
        "from sklearn.feature_selection import SelectFromModel\n",
        "from sklearn.ensemble import RandomForestRegressor\n",
        "from sklearn.pipeline import Pipeline\n",
        "from sklearn.compose import ColumnTransformer\n",
        "from sklearn.model_selection import cross_val_score, cross_validate\n",
        "from sklearn.model_selection import RepeatedKFold\n",
        "from scipy.stats import skew, boxcox_normmax\n",
        "from scipy.special import boxcox1p"
      ]
    },
    {
      "cell_type": "markdown",
      "metadata": {
        "id": "VvnspI2dk6Vi"
      },
      "source": [
        "### User modules"
      ]
    },
    {
      "cell_type": "code",
      "execution_count": 4,
      "metadata": {
        "id": "p1WYzSjVyzxG"
      },
      "outputs": [],
      "source": [
        "# 並び替え検定用の関数\n",
        "def perm_fun(x, nA, nB):\n",
        "    n = nA + nB\n",
        "    idx_B = set(random.sample(range(n), nB))\n",
        "    idx_A = set(range(n)) - idx_B\n",
        "    return x.loc[list(idx_B)].mean() - x.loc[list(idx_A)].mean()"
      ]
    },
    {
      "cell_type": "code",
      "execution_count": 5,
      "metadata": {
        "id": "PK8K5v9jvW-2"
      },
      "outputs": [],
      "source": [
        "# permutation test\n",
        "def permutation_test(data, var, target):\n",
        "\n",
        "  vA = data[var].dropna().unique()[0]\n",
        "  vB = data[var].dropna().unique()[1]\n",
        "  mean_a = data[data[var] == vA][target].mean()\n",
        "  mean_b = data[data[var] == vB][target].mean()\n",
        "  print(f\"{target} mean value with {var}={vA}: {mean_a}\")\n",
        "  print(f\"{target} mean value with {var}={vB}: {mean_b}\")\n",
        "  print(f\"{target} observed difference between ({var}={vA}) and ({var}={vB}): {mean_b - mean_a}\")\n",
        "  nA = data[data[var] == vA].shape[0]\n",
        "  nB = data[data[var] == vB].shape[0]\n",
        "\n",
        "  random.seed(1)\n",
        "  perm_diffs = pd.Series([perm_fun(data[target], nA, nB) for _ in range(1000)])\n",
        "  perm_diffs = perm_diffs.dropna()\n",
        "\n",
        "  fig, ax = plt.subplots(figsize=(5, 5))\n",
        "  ax.hist(perm_diffs, bins=11, rwidth=0.9)\n",
        "  ax.axvline(x = mean_b - mean_a, color='black', lw=2)\n",
        "  ax.text(mean_b - mean_a, 10, 'Observed\\ndifference', bbox={'facecolor':'white'})\n",
        "  ax.set_xlabel(f'{var} differences')\n",
        "  ax.set_ylabel('Frequency')\n",
        "\n",
        "  plt.tight_layout()\n",
        "  plt.show()\n",
        "\n",
        "  perm_diffs = np.array(perm_diffs)\n",
        "  print('p-value: ', (np.mean(perm_diffs > mean_b - mean_a)))"
      ]
    },
    {
      "cell_type": "code",
      "execution_count": 6,
      "metadata": {
        "id": "uwS3lLWzQcLp"
      },
      "outputs": [],
      "source": [
        "def multi_table(table_list):\n",
        "    return HTML(\n",
        "        f\"<table><tr> {''.join(['<td>' + table._repr_html_() + '</td>' for table in table_list])} </tr></table>\")"
      ]
    },
    {
      "cell_type": "code",
      "execution_count": 7,
      "metadata": {
        "id": "O1IzxNO-Qg_z"
      },
      "outputs": [],
      "source": [
        "def cat_dist(data, var, hue, msg_show=True):\n",
        "    total_cnt = data[var].count()\n",
        "    f, ax = plt.subplots(1, 2, figsize=(25, 8))\n",
        "    hues = [None, hue]\n",
        "    titles = [f\"{var}'s distribution\", f\"{var}'s distribution by {hue}\"]\n",
        "\n",
        "    for i in range(2):\n",
        "        sns.countplot(data[var], edgecolor='black', hue=hues[i], linewidth=1, ax=ax[i], data=data)\n",
        "        ax[i].set_xlabel(var, weight='bold', size=13)\n",
        "        ax[i].set_ylabel('Count', weight='bold', size=13)\n",
        "        ax[i].set_facecolor(BACKCOLOR)\n",
        "        ax[i].spines['top'].set_visible(False)\n",
        "        ax[i].spines['right'].set_visible(False)\n",
        "        ax[i].set_title(titles[i], size=15, weight='bold')\n",
        "        for patch in ax[i].patches:\n",
        "            x, height, width = patch.get_x(), patch.get_height(), patch.get_width()\n",
        "            if msg_show:\n",
        "                ax[i].text(x + width / 2, height + 3, f'{height} \\n({height / total_cnt * 100:2.2f}%)', va='center', ha='center', size=12, bbox={'facecolor': 'white', 'boxstyle': 'round'})\n",
        "    plt.show()"
      ]
    },
    {
      "cell_type": "code",
      "execution_count": 8,
      "metadata": {
        "id": "TIrhiw56QkPc"
      },
      "outputs": [],
      "source": [
        "def continuous_dist(data, x, y):\n",
        "    f, ax = plt.subplots(1, 4, figsize=(35, 10))\n",
        "    sns.histplot(data=train, x=y, hue=x, ax=ax[0], element='step')\n",
        "    sns.violinplot(x=data[x], y=data[y], ax=ax[1], edgecolor='black', linewidth=1)\n",
        "    sns.boxplot(x=data[x], y=data[y], ax=ax[2])\n",
        "    sns.stripplot(x=data[x], y=data[y], ax=ax[3])\n",
        "    for i in range(4):\n",
        "        ax[i].spines['top'].set_visible(False)\n",
        "        ax[i].spines['right'].set_visible(False)\n",
        "        ax[i].set_xlabel(x, weight='bold', size=20)\n",
        "        ax[i].set_ylabel(y, weight='bold', size=20)\n",
        "        ax[i].set_facecolor(BACKCOLOR)\n",
        "    f.suptitle(f\"{y}'s distribution by {x}\", weight='bold', size=25)\n",
        "    plt.show()"
      ]
    },
    {
      "cell_type": "code",
      "execution_count": 9,
      "metadata": {
        "id": "lJOOyi7WpmNe"
      },
      "outputs": [],
      "source": [
        "# ANOVA using permutation test\n",
        "# Image size が ～～～ のエラーが出た場合は logx = True に設定する\n",
        "def anova_perm(data, var, target, logx=False):\n",
        "\n",
        "  # Creating crosstab\n",
        "  crosstb = pd.crosstab(data[var], data[target])\n",
        "  \n",
        "  # Creating barplot\n",
        "  # pl = crosstb.plot(kind=\"bar\", stacked=True, rot=0)\n",
        "\n",
        "  for col in data[var].unique():\n",
        "      try:\n",
        "          true_ratio = len(data[(data[var]==col)&(data[target]==True)]) / len(data[data[var]==col])\n",
        "      except:\n",
        "          break\n",
        "      print(col, true_ratio)\n",
        "\n",
        "  observed_variance = data.groupby(var).mean().var()[target] # グループごとの平均値を求め、その平均値の分散を計算している\n",
        "  print('Observed means:', data.groupby(var).mean()[target].values.ravel()) # ravel: 横方向の1次元のベクトルを返す\n",
        "  print('Variance:', observed_variance)\n",
        "  # Permutation test example with stickiness\n",
        "  def perm_test(data):\n",
        "      data = data.copy()\n",
        "      data[target] = np.random.permutation(data[target].values)\n",
        "      return data.groupby(var).mean().var()[target]\n",
        "    \n",
        "  random.seed(1)\n",
        "  perm_variance = [perm_test(data) for _ in range(3000)]\n",
        "  print('Pr(Prob)', np.mean([var > observed_variance for var in perm_variance]))\n",
        "\n",
        "  if logx == True:\n",
        "    # 横長のグラフになってしまうので自然対数を取った（通常は下記2行は不要）\n",
        "    observed_variance_log = np.log(observed_variance)\n",
        "    perm_variance_log = np.log(perm_variance)\n",
        "\n",
        "    fig, ax = plt.subplots(figsize=(5, 5))\n",
        "    ax.hist(perm_variance_log, bins=11, rwidth=0.9)\n",
        "\n",
        "    # 横長のグラフになってしまうので自然対数を取った（通常はxにobserved_varianceを指定）\n",
        "    ax.axvline(x = observed_variance_log, color='black', lw=2)\n",
        "    ax.text(observed_variance, ax.get_ylim()[1]*0.8, 'Observed\\nvariance', bbox={'facecolor':'white'})\n",
        "    ax.set_xlabel('Variance')\n",
        "    ax.set_ylabel('Frequency')\n",
        "\n",
        "    plt.tight_layout()\n",
        "    plt.show()\n",
        "  else:\n",
        "    fig, ax = plt.subplots(figsize=(5, 5))\n",
        "    ax.hist(perm_variance, bins=11, rwidth=0.9)\n",
        "\n",
        "    ax.axvline(x = observed_variance, color='black', lw=2)\n",
        "    ax.text(observed_variance, ax.get_ylim()[1]*0.8, 'Observed\\nvariance', bbox={'facecolor':'white'})\n",
        "    ax.set_xlabel('Variance')\n",
        "    ax.set_ylabel('Frequency')\n",
        "\n",
        "    plt.tight_layout()\n",
        "    plt.show()"
      ]
    },
    {
      "cell_type": "code",
      "source": [
        "# column_transformer 利用後のカラム名を取得する関数\n",
        "def get_feature_names(column_transformer):\n",
        "    \"\"\"Get feature names from all transformers.\n",
        "    Returns\n",
        "    -------\n",
        "    feature_names : list of strings\n",
        "        Names of the features produced by transform.\n",
        "    \"\"\"\n",
        "    # Remove the internal helper function\n",
        "    #check_is_fitted(column_transformer)\n",
        "    \n",
        "    # Turn loopkup into function for better handling with pipeline later\n",
        "    def get_names(trans):\n",
        "        # >> Original get_feature_names() method\n",
        "        if trans == 'drop' or (\n",
        "                hasattr(column, '__len__') and not len(column)):\n",
        "            return []\n",
        "        if trans == 'passthrough':\n",
        "            if hasattr(column_transformer, '_df_columns'):\n",
        "                if ((not isinstance(column, slice))\n",
        "                        and all(isinstance(col, str) for col in column)):\n",
        "                    return column\n",
        "                else:\n",
        "                    return column_transformer._df_columns[column]\n",
        "            else:\n",
        "                indices = np.arange(column_transformer._n_features)\n",
        "                return ['x%d' % i for i in indices[column]]\n",
        "        if not hasattr(trans, 'get_feature_names'):\n",
        "        # >>> Change: Return input column names if no method avaiable\n",
        "            # Turn error into a warning\n",
        "            warnings.warn(\"Transformer %s (type %s) does not \"\n",
        "                                 \"provide get_feature_names. \"\n",
        "                                 \"Will return input column names if available\"\n",
        "                                 % (str(name), type(trans).__name__))\n",
        "            # For transformers without a get_features_names method, use the input\n",
        "            # names to the column transformer\n",
        "            if column is None:\n",
        "                return []\n",
        "            else:\n",
        "                return [name + \"__\" + f for f in column]\n",
        "\n",
        "        return [name + \"__\" + f for f in trans.get_feature_names()]\n",
        "    \n",
        "    ### Start of processing\n",
        "    feature_names = []\n",
        "    \n",
        "    # Allow transformers to be pipelines. Pipeline steps are named differently, so preprocessing is needed\n",
        "    if type(column_transformer) == Pipeline:\n",
        "        l_transformers = [(name, trans, None, None) for step, name, trans in column_transformer._iter()]\n",
        "    else:\n",
        "        # For column transformers, follow the original method\n",
        "        l_transformers = list(column_transformer._iter(fitted=True))\n",
        "    \n",
        "    \n",
        "    for name, trans, column, _ in l_transformers: \n",
        "        if type(trans) == Pipeline:\n",
        "            # Recursive call on pipeline\n",
        "            _names = get_feature_names(trans)\n",
        "            # if pipeline has no transformer that returns names\n",
        "            if len(_names)==0:\n",
        "                _names = [name + \"__\" + f for f in column]\n",
        "            feature_names.extend(_names)\n",
        "        else:\n",
        "            feature_names.extend(get_names(trans))\n",
        "    \n",
        "    return feature_names\n",
        "# get_feature_names(preprocessor)"
      ],
      "metadata": {
        "id": "kRCCF9crjuF3"
      },
      "execution_count": 10,
      "outputs": []
    },
    {
      "cell_type": "code",
      "source": [
        "def scatter_hist(data, xlabel, ylabel):\n",
        "  x = data[xlabel]\n",
        "  y = data[ylabel]\n",
        "\n",
        "  fig = plt.figure(figsize=(8,8))\n",
        "  gs = gridspec.GridSpec(3, 3)\n",
        "  ax_main = plt.subplot(gs[1:3, :2])\n",
        "  ax_xDist = plt.subplot(gs[0, :2],sharex=ax_main)\n",
        "  ax_yDist = plt.subplot(gs[1:3, 2],sharey=ax_main)\n",
        "      \n",
        "  ax_main.scatter(x,y,marker='.')\n",
        "  ax_main.set(xlabel=xlabel, ylabel=ylabel)\n",
        "\n",
        "  ax_xDist.hist(x,bins=100,align='mid')\n",
        "  ax_xDist.set(ylabel='count')\n",
        "  ax_xCumDist = ax_xDist.twinx()\n",
        "  ax_xCumDist.hist(x,bins=100,cumulative=True,histtype='step',density=True,color='r',align='mid')\n",
        "  ax_xCumDist.tick_params('y', colors='r')\n",
        "  ax_xCumDist.set_ylabel('cumulative',color='r')\n",
        "\n",
        "  ax_yDist.hist(y,bins=100,orientation='horizontal',align='mid')\n",
        "  ax_yDist.set(xlabel='count')\n",
        "  ax_yCumDist = ax_yDist.twiny()\n",
        "  ax_yCumDist.hist(y,bins=100,cumulative=True,histtype='step',density=True,color='r',align='mid',orientation='horizontal')\n",
        "  ax_yCumDist.tick_params('x', colors='r')\n",
        "  ax_yCumDist.set_xlabel('cumulative',color='r')\n",
        "\n",
        "  plt.show()"
      ],
      "metadata": {
        "id": "8nYZEi_kz6rJ"
      },
      "execution_count": 11,
      "outputs": []
    },
    {
      "cell_type": "markdown",
      "metadata": {
        "id": "rD1J7WwsQymh"
      },
      "source": [
        "## データのダウンロード"
      ]
    },
    {
      "cell_type": "code",
      "execution_count": 12,
      "metadata": {
        "id": "_qJslWxbx52t"
      },
      "outputs": [],
      "source": [
        "train = pd.read_csv(\"train.csv\")\n",
        "test = pd.read_csv(\"test.csv\")\n",
        "submission = pd.read_csv(\"sample_submission.csv\")\n",
        "\n",
        "all_data = pd.concat([train, test], axis=0)"
      ]
    },
    {
      "cell_type": "code",
      "execution_count": 13,
      "metadata": {
        "colab": {
          "base_uri": "https://localhost:8080/"
        },
        "id": "uzg1avyoRM_X",
        "outputId": "0df72f01-412a-4ae4-cb32-5723a3993b1b"
      },
      "outputs": [
        {
          "output_type": "stream",
          "name": "stdout",
          "text": [
            "\u001b[32mtrain size : 1460 x 81\n",
            "\u001b[32mtest size : 1459 x 80\n",
            "\u001b[32mtotal size : 2919 x 81\n"
          ]
        }
      ],
      "source": [
        "print(f'\\033[32mtrain size : {train.shape[0]} x {train.shape[1]}')\n",
        "print(f'\\033[32mtest size : {test.shape[0]} x {test.shape[1]}')\n",
        "print(f'\\033[32mtotal size : {all_data.shape[0]} x {all_data.shape[1]}')"
      ]
    },
    {
      "cell_type": "markdown",
      "metadata": {
        "id": "3NDIkMcR50pd"
      },
      "source": [
        "## カテゴリ変数の定義"
      ]
    },
    {
      "cell_type": "markdown",
      "metadata": {
        "id": "MZhlwcWViuvU"
      },
      "source": [
        "### 量的変数、カテゴリ変数の定義\n",
        "自動で数的変数、カテゴリ変数、名義尺度 等を判別する"
      ]
    },
    {
      "cell_type": "code",
      "source": [
        "categorical_cols = []\n",
        "numerical_cols = []\n",
        "for i in all_data.columns.tolist():\n",
        "    if all_data[i].dtype=='object':\n",
        "        categorical_cols.append(i)\n",
        "    else:\n",
        "        numerical_cols.append(i)\n",
        "print('Number of categorical features:', str(len(categorical_cols)))\n",
        "print('Number of numerical features:', str(len(numerical_cols)))"
      ],
      "metadata": {
        "colab": {
          "base_uri": "https://localhost:8080/"
        },
        "id": "bgfugrvRqzrq",
        "outputId": "b00d5bb8-55b7-4a3f-815c-787fd7717046"
      },
      "execution_count": 14,
      "outputs": [
        {
          "output_type": "stream",
          "name": "stdout",
          "text": [
            "Number of categorical features: 43\n",
            "Number of numerical features: 38\n"
          ]
        }
      ]
    },
    {
      "cell_type": "markdown",
      "metadata": {
        "id": "WCNXVM0wLCiL"
      },
      "source": [
        "# データの概形確認"
      ]
    },
    {
      "cell_type": "markdown",
      "metadata": {
        "id": "Mf7qCG7QLISE"
      },
      "source": [
        "## 欠損値の確認"
      ]
    },
    {
      "cell_type": "code",
      "execution_count": 15,
      "metadata": {
        "colab": {
          "base_uri": "https://localhost:8080/",
          "height": 627
        },
        "id": "DQRUIVdJLK-3",
        "outputId": "31d5197d-a334-4826-976f-e4b952f0d000"
      },
      "outputs": [
        {
          "output_type": "execute_result",
          "data": {
            "text/plain": [
              "<Axes: >"
            ]
          },
          "metadata": {},
          "execution_count": 15
        },
        {
          "output_type": "display_data",
          "data": {
            "text/plain": [
              "<Figure size 2500x1000 with 2 Axes>"
            ],
            "image/png": "[encoded data removed]"
          },
          "metadata": {}
        }
      ],
      "source": [
        "msno.matrix(all_data)"
      ]
    },
    {
      "cell_type": "markdown",
      "source": [
        "# 現時点でのスコアを確認する（0.13489）"
      ],
      "metadata": {
        "id": "YWukP6LS_0o_"
      }
    },
    {
      "cell_type": "markdown",
      "source": [
        "### categorical や numerical の定義"
      ],
      "metadata": {
        "id": "vx9-LrIMFl-0"
      }
    },
    {
      "cell_type": "code",
      "source": [
        "target = \"SalePrice\"\n",
        "feature_cols = all_data.columns.drop(target)\n",
        "\n",
        "all_data[\"MSSubClass\"] = all_data[\"MSSubClass\"].astype(\"object\")\n",
        "\n",
        "categorical_cols = []\n",
        "numerical_cols = []\n",
        "for i in feature_cols:\n",
        "    if all_data[i].dtype=='object':\n",
        "        categorical_cols.append(i)\n",
        "    else:\n",
        "        numerical_cols.append(i)\n",
        "\n",
        "print('Number of categorical features:', str(len(categorical_cols)))\n",
        "print('Number of numerical features:', str(len(numerical_cols)))\n",
        "print(categorical_cols)\n",
        "print(numerical_cols)"
      ],
      "metadata": {
        "colab": {
          "base_uri": "https://localhost:8080/"
        },
        "id": "xMllquDqFxGK",
        "outputId": "653195cc-87da-443b-ea3e-a26a53afaa00"
      },
      "execution_count": 51,
      "outputs": [
        {
          "output_type": "stream",
          "name": "stdout",
          "text": [
            "Number of categorical features: 44\n",
            "Number of numerical features: 36\n"
          ]
        }
      ]
    },
    {
      "cell_type": "code",
      "source": [
        "def get_num_cat_column_names(df, target):\n",
        "  feature_cols = df.columns.drop(target)\n",
        "  categorical_cols = []\n",
        "  numerical_cols = []\n",
        "  for i in feature_cols:\n",
        "      if df[i].dtype=='object':\n",
        "          categorical_cols.append(i)\n",
        "      else:\n",
        "          numerical_cols.append(i)\n",
        " \n",
        "  return categorical_cols, numerical_cols"
      ],
      "metadata": {
        "id": "7heiTuQJTzjI"
      },
      "execution_count": 81,
      "outputs": []
    },
    {
      "cell_type": "markdown",
      "source": [
        "### BoxCox変換する特徴量を決める"
      ],
      "metadata": {
        "id": "C_PVFbzKHmFt"
      }
    },
    {
      "cell_type": "code",
      "source": [
        "# Check the skew of all numerical features\n",
        "skewed_feats = all_data[numerical_cols].apply(lambda x: skew(x.dropna())).sort_values(ascending=False)\n",
        "print(\"\\nSkew in numerical features: \\n\")\n",
        "skewness = pd.DataFrame({'Skew' :skewed_feats})\n",
        "skewness = skewness[skewness.abs() > 0.75]\n",
        "skewness.dropna(inplace=True)\n",
        "skewed_features = skewness.index.copy()\n",
        "print(\"There are {} skewed numerical features to Box Cox transform\".format(skewness.shape[0]))"
      ],
      "metadata": {
        "colab": {
          "base_uri": "https://localhost:8080/"
        },
        "outputId": "d296726c-d352-46ae-dea3-a221e89b6dae",
        "id": "rf8XrauiHUVv"
      },
      "execution_count": 18,
      "outputs": [
        {
          "output_type": "stream",
          "name": "stdout",
          "text": [
            "\n",
            "Skew in numerical features: \n",
            "\n",
            "There are 21 skewed numerical features to Box Cox transform\n"
          ]
        }
      ]
    },
    {
      "cell_type": "code",
      "source": [
        "def get_skewed_column_names(df, numerical_cols):\n",
        "  skewed_feats = df[numerical_cols].apply(lambda x: skew(x.dropna())).sort_values(ascending=False)\n",
        "  skewness = pd.DataFrame({'Skew' :skewed_feats})\n",
        "  skewness = skewness[skewness.abs() > 0.75]\n",
        "  skewness.dropna(inplace=True)\n",
        "  skewed_features = skewness.index.copy()\n",
        " \n",
        "  return skewed_features"
      ],
      "metadata": {
        "id": "ZxwziBzPUvgN"
      },
      "execution_count": 83,
      "outputs": []
    },
    {
      "cell_type": "markdown",
      "source": [
        "### Preprocessor"
      ],
      "metadata": {
        "id": "nrx32forAz_d"
      }
    },
    {
      "cell_type": "code",
      "source": [
        "# 量的変数の前処理\n",
        "numeric_transformer = Pipeline(steps=[('num_imputer', SimpleImputer(strategy=\"median\")), (\"scaler\", StandardScaler())])\n",
        "skewed_transformer = Pipeline(steps=[('num_imputer', SimpleImputer(strategy=\"median\")), (\"scaler\", StandardScaler()), (\"power\", PowerTransformer(method='yeo-johnson'))])\n",
        "\n",
        "# カテゴリ変数の前処理\n",
        "categorical_transformer = Pipeline(steps=[(\"cat_imputer\", SimpleImputer(strategy=\"constant\", fill_value=\"unknown\")), (\"encoder\", OrdinalEncoder())])\n",
        "\n",
        "# ColumnTransformerの作成\n",
        "preprocessor = ColumnTransformer(transformers=[(\"num\", numeric_transformer, list(set(numerical_cols)-set(skewed_features))), (\"cat\", categorical_transformer, categorical_cols), (\"skew\", skewed_transformer, skewed_features)])"
      ],
      "metadata": {
        "id": "rHce1aTQA2yy"
      },
      "execution_count": 90,
      "outputs": []
    },
    {
      "cell_type": "markdown",
      "source": [
        "### Define Pipeline"
      ],
      "metadata": {
        "id": "bHu6vgAsCPzO"
      }
    },
    {
      "cell_type": "code",
      "source": [
        "model = lgb.LGBMRegressor()\n",
        "pipe = Pipeline(steps=[('preprocessor',preprocessor),('model',model)])\n",
        "pipe"
      ],
      "metadata": {
        "id": "CqPm1ZIkVYyv",
        "colab": {
          "base_uri": "https://localhost:8080/",
          "height": 262
        },
        "outputId": "2795390e-6c81-452b-faf4-753f96077156"
      },
      "execution_count": 20,
      "outputs": [
        {
          "output_type": "execute_result",
          "data": {
            "text/plain": [
              "Pipeline(steps=[('preprocessor',\n",
              "                 ColumnTransformer(transformers=[('num',\n",
              "                                                  Pipeline(steps=[('num_imputer',\n",
              "                                                                   SimpleImputer(strategy='median')),\n",
              "                                                                  ('scaler',\n",
              "                                                                   StandardScaler())]),\n",
              "                                                  ['YrSold', 'Id',\n",
              "                                                   'YearRemodAdd',\n",
              "                                                   'GarageYrBlt', 'MoSold',\n",
              "                                                   'BedroomAbvGr', 'YearBuilt',\n",
              "                                                   'OverallCond', 'GarageArea',\n",
              "                                                   'OverallQual', 'GarageCars',\n",
              "                                                   'FullBath', 'BsmtFullBath',\n",
              "                                                   'HalfBath', 'Fireplaces']...\n",
              "                                                                   PowerTransformer())]),\n",
              "                                                  Index(['MiscVal', 'PoolArea', 'LotArea', 'LowQualFinSF', '3SsnPorch',\n",
              "       'KitchenAbvGr', 'BsmtFinSF2', 'EnclosedPorch', 'ScreenPorch',\n",
              "       'BsmtHalfBath', 'MasVnrArea', 'OpenPorchSF', 'WoodDeckSF',\n",
              "       'LotFrontage', '1stFlrSF', 'BsmtFinSF1', 'GrLivArea', 'TotalBsmtSF',\n",
              "       'BsmtUnfSF', '2ndFlrSF', 'TotRmsAbvGrd'],\n",
              "      dtype='object'))])),\n",
              "                ('model', LGBMRegressor())])"
            ],
            "text/html": [
              "<style>#sk-container-id-1 {color: black;background-color: white;}#sk-container-id-1 pre{padding: 0;}#sk-container-id-1 div.sk-toggleable {background-color: white;}#sk-container-id-1 label.sk-toggleable__label {cursor: pointer;display: block;width: 100%;margin-bottom: 0;padding: 0.3em;box-sizing: border-box;text-align: center;}#sk-container-id-1 label.sk-toggleable__label-arrow:before {content: \"▸\";float: left;margin-right: 0.25em;color: #696969;}#sk-container-id-1 label.sk-toggleable__label-arrow:hover:before {color: black;}#sk-container-id-1 div.sk-estimator:hover label.sk-toggleable__label-arrow:before {color: black;}#sk-container-id-1 div.sk-toggleable__content {max-height: 0;max-width: 0;overflow: hidden;text-align: left;background-color: #f0f8ff;}#sk-container-id-1 div.sk-toggleable__content pre {margin: 0.2em;color: black;border-radius: 0.25em;background-color: #f0f8ff;}#sk-container-id-1 input.sk-toggleable__control:checked~div.sk-toggleable__content {max-height: 200px;max-width: 100%;overflow: auto;}#sk-container-id-1 input.sk-toggleable__control:checked~label.sk-toggleable__label-arrow:before {content: \"▾\";}#sk-container-id-1 div.sk-estimator input.sk-toggleable__control:checked~label.sk-toggleable__label {background-color: #d4ebff;}#sk-container-id-1 div.sk-label input.sk-toggleable__control:checked~label.sk-toggleable__label {background-color: #d4ebff;}#sk-container-id-1 input.sk-hidden--visually {border: 0;clip: rect(1px 1px 1px 1px);clip: rect(1px, 1px, 1px, 1px);height: 1px;margin: -1px;overflow: hidden;padding: 0;position: absolute;width: 1px;}#sk-container-id-1 div.sk-estimator {font-family: monospace;background-color: #f0f8ff;border: 1px dotted black;border-radius: 0.25em;box-sizing: border-box;margin-bottom: 0.5em;}#sk-container-id-1 div.sk-estimator:hover {background-color: #d4ebff;}#sk-container-id-1 div.sk-parallel-item::after {content: \"\";width: 100%;border-bottom: 1px solid gray;flex-grow: 1;}#sk-container-id-1 div.sk-label:hover label.sk-toggleable__label {background-color: #d4ebff;}#sk-container-id-1 div.sk-serial::before {content: \"\";position: absolute;border-left: 1px solid gray;box-sizing: border-box;top: 0;bottom: 0;left: 50%;z-index: 0;}#sk-container-id-1 div.sk-serial {display: flex;flex-direction: column;align-items: center;background-color: white;padding-right: 0.2em;padding-left: 0.2em;position: relative;}#sk-container-id-1 div.sk-item {position: relative;z-index: 1;}#sk-container-id-1 div.sk-parallel {display: flex;align-items: stretch;justify-content: center;background-color: white;position: relative;}#sk-container-id-1 div.sk-item::before, #sk-container-id-1 div.sk-parallel-item::before {content: \"\";position: absolute;border-left: 1px solid gray;box-sizing: border-box;top: 0;bottom: 0;left: 50%;z-index: -1;}#sk-container-id-1 div.sk-parallel-item {display: flex;flex-direction: column;z-index: 1;position: relative;background-color: white;}#sk-container-id-1 div.sk-parallel-item:first-child::after {align-self: flex-end;width: 50%;}#sk-container-id-1 div.sk-parallel-item:last-child::after {align-self: flex-start;width: 50%;}#sk-container-id-1 div.sk-parallel-item:only-child::after {width: 0;}#sk-container-id-1 div.sk-dashed-wrapped {border: 1px dashed gray;margin: 0 0.4em 0.5em 0.4em;box-sizing: border-box;padding-bottom: 0.4em;background-color: white;}#sk-container-id-1 div.sk-label label {font-family: monospace;font-weight: bold;display: inline-block;line-height: 1.2em;}#sk-container-id-1 div.sk-label-container {text-align: center;}#sk-container-id-1 div.sk-container {/* jupyter's `normalize.less` sets `[hidden] { display: none; }` but bootstrap.min.css set `[hidden] { display: none !important; }` so we also need the `!important` here to be able to override the default hidden behavior on the sphinx rendered scikit-learn.org. See: https://github.com/scikit-learn/scikit-learn/issues/21755 */display: inline-block !important;position: relative;}#sk-container-id-1 div.sk-text-repr-fallback {display: none;}</style><div id=\"sk-container-id-1\" class=\"sk-top-container\"><div class=\"sk-text-repr-fallback\"><pre>Pipeline(steps=[(&#x27;preprocessor&#x27;,\n",
              "                 ColumnTransformer(transformers=[(&#x27;num&#x27;,\n",
              "                                                  Pipeline(steps=[(&#x27;num_imputer&#x27;,\n",
              "                                                                   SimpleImputer(strategy=&#x27;median&#x27;)),\n",
              "                                                                  (&#x27;scaler&#x27;,\n",
              "                                                                   StandardScaler())]),\n",
              "                                                  [&#x27;YrSold&#x27;, &#x27;Id&#x27;,\n",
              "                                                   &#x27;YearRemodAdd&#x27;,\n",
              "                                                   &#x27;GarageYrBlt&#x27;, &#x27;MoSold&#x27;,\n",
              "                                                   &#x27;BedroomAbvGr&#x27;, &#x27;YearBuilt&#x27;,\n",
              "                                                   &#x27;OverallCond&#x27;, &#x27;GarageArea&#x27;,\n",
              "                                                   &#x27;OverallQual&#x27;, &#x27;GarageCars&#x27;,\n",
              "                                                   &#x27;FullBath&#x27;, &#x27;BsmtFullBath&#x27;,\n",
              "                                                   &#x27;HalfBath&#x27;, &#x27;Fireplaces&#x27;]...\n",
              "                                                                   PowerTransformer())]),\n",
              "                                                  Index([&#x27;MiscVal&#x27;, &#x27;PoolArea&#x27;, &#x27;LotArea&#x27;, &#x27;LowQualFinSF&#x27;, &#x27;3SsnPorch&#x27;,\n",
              "       &#x27;KitchenAbvGr&#x27;, &#x27;BsmtFinSF2&#x27;, &#x27;EnclosedPorch&#x27;, &#x27;ScreenPorch&#x27;,\n",
              "       &#x27;BsmtHalfBath&#x27;, &#x27;MasVnrArea&#x27;, &#x27;OpenPorchSF&#x27;, &#x27;WoodDeckSF&#x27;,\n",
              "       &#x27;LotFrontage&#x27;, &#x27;1stFlrSF&#x27;, &#x27;BsmtFinSF1&#x27;, &#x27;GrLivArea&#x27;, &#x27;TotalBsmtSF&#x27;,\n",
              "       &#x27;BsmtUnfSF&#x27;, &#x27;2ndFlrSF&#x27;, &#x27;TotRmsAbvGrd&#x27;],\n",
              "      dtype=&#x27;object&#x27;))])),\n",
              "                (&#x27;model&#x27;, LGBMRegressor())])</pre><b>In a Jupyter environment, please rerun this cell to show the HTML representation or trust the notebook. <br />On GitHub, the HTML representation is unable to render, please try loading this page with nbviewer.org.</b></div><div class=\"sk-container\" hidden><div class=\"sk-item sk-dashed-wrapped\"><div class=\"sk-label-container\"><div class=\"sk-label sk-toggleable\"><input class=\"sk-toggleable__control sk-hidden--visually\" id=\"sk-estimator-id-1\" type=\"checkbox\" ><label for=\"sk-estimator-id-1\" class=\"sk-toggleable__label sk-toggleable__label-arrow\">Pipeline</label><div class=\"sk-toggleable__content\"><pre>Pipeline(steps=[(&#x27;preprocessor&#x27;,\n",
              "                 ColumnTransformer(transformers=[(&#x27;num&#x27;,\n",
              "                                                  Pipeline(steps=[(&#x27;num_imputer&#x27;,\n",
              "                                                                   SimpleImputer(strategy=&#x27;median&#x27;)),\n",
              "                                                                  (&#x27;scaler&#x27;,\n",
              "                                                                   StandardScaler())]),\n",
              "                                                  [&#x27;YrSold&#x27;, &#x27;Id&#x27;,\n",
              "                                                   &#x27;YearRemodAdd&#x27;,\n",
              "                                                   &#x27;GarageYrBlt&#x27;, &#x27;MoSold&#x27;,\n",
              "                                                   &#x27;BedroomAbvGr&#x27;, &#x27;YearBuilt&#x27;,\n",
              "                                                   &#x27;OverallCond&#x27;, &#x27;GarageArea&#x27;,\n",
              "                                                   &#x27;OverallQual&#x27;, &#x27;GarageCars&#x27;,\n",
              "                                                   &#x27;FullBath&#x27;, &#x27;BsmtFullBath&#x27;,\n",
              "                                                   &#x27;HalfBath&#x27;, &#x27;Fireplaces&#x27;]...\n",
              "                                                                   PowerTransformer())]),\n",
              "                                                  Index([&#x27;MiscVal&#x27;, &#x27;PoolArea&#x27;, &#x27;LotArea&#x27;, &#x27;LowQualFinSF&#x27;, &#x27;3SsnPorch&#x27;,\n",
              "       &#x27;KitchenAbvGr&#x27;, &#x27;BsmtFinSF2&#x27;, &#x27;EnclosedPorch&#x27;, &#x27;ScreenPorch&#x27;,\n",
              "       &#x27;BsmtHalfBath&#x27;, &#x27;MasVnrArea&#x27;, &#x27;OpenPorchSF&#x27;, &#x27;WoodDeckSF&#x27;,\n",
              "       &#x27;LotFrontage&#x27;, &#x27;1stFlrSF&#x27;, &#x27;BsmtFinSF1&#x27;, &#x27;GrLivArea&#x27;, &#x27;TotalBsmtSF&#x27;,\n",
              "       &#x27;BsmtUnfSF&#x27;, &#x27;2ndFlrSF&#x27;, &#x27;TotRmsAbvGrd&#x27;],\n",
              "      dtype=&#x27;object&#x27;))])),\n",
              "                (&#x27;model&#x27;, LGBMRegressor())])</pre></div></div></div><div class=\"sk-serial\"><div class=\"sk-item sk-dashed-wrapped\"><div class=\"sk-label-container\"><div class=\"sk-label sk-toggleable\"><input class=\"sk-toggleable__control sk-hidden--visually\" id=\"sk-estimator-id-2\" type=\"checkbox\" ><label for=\"sk-estimator-id-2\" class=\"sk-toggleable__label sk-toggleable__label-arrow\">preprocessor: ColumnTransformer</label><div class=\"sk-toggleable__content\"><pre>ColumnTransformer(transformers=[(&#x27;num&#x27;,\n",
              "                                 Pipeline(steps=[(&#x27;num_imputer&#x27;,\n",
              "                                                  SimpleImputer(strategy=&#x27;median&#x27;)),\n",
              "                                                 (&#x27;scaler&#x27;, StandardScaler())]),\n",
              "                                 [&#x27;YrSold&#x27;, &#x27;Id&#x27;, &#x27;YearRemodAdd&#x27;, &#x27;GarageYrBlt&#x27;,\n",
              "                                  &#x27;MoSold&#x27;, &#x27;BedroomAbvGr&#x27;, &#x27;YearBuilt&#x27;,\n",
              "                                  &#x27;OverallCond&#x27;, &#x27;GarageArea&#x27;, &#x27;OverallQual&#x27;,\n",
              "                                  &#x27;GarageCars&#x27;, &#x27;FullBath&#x27;, &#x27;BsmtFullBath&#x27;,\n",
              "                                  &#x27;HalfBath&#x27;, &#x27;Fireplaces&#x27;]),\n",
              "                                (&#x27;cat&#x27;,\n",
              "                                 Pipeline(steps=[(&#x27;cat_i...\n",
              "                                                 (&#x27;scaler&#x27;, StandardScaler()),\n",
              "                                                 (&#x27;power&#x27;,\n",
              "                                                  PowerTransformer())]),\n",
              "                                 Index([&#x27;MiscVal&#x27;, &#x27;PoolArea&#x27;, &#x27;LotArea&#x27;, &#x27;LowQualFinSF&#x27;, &#x27;3SsnPorch&#x27;,\n",
              "       &#x27;KitchenAbvGr&#x27;, &#x27;BsmtFinSF2&#x27;, &#x27;EnclosedPorch&#x27;, &#x27;ScreenPorch&#x27;,\n",
              "       &#x27;BsmtHalfBath&#x27;, &#x27;MasVnrArea&#x27;, &#x27;OpenPorchSF&#x27;, &#x27;WoodDeckSF&#x27;,\n",
              "       &#x27;LotFrontage&#x27;, &#x27;1stFlrSF&#x27;, &#x27;BsmtFinSF1&#x27;, &#x27;GrLivArea&#x27;, &#x27;TotalBsmtSF&#x27;,\n",
              "       &#x27;BsmtUnfSF&#x27;, &#x27;2ndFlrSF&#x27;, &#x27;TotRmsAbvGrd&#x27;],\n",
              "      dtype=&#x27;object&#x27;))])</pre></div></div></div><div class=\"sk-parallel\"><div class=\"sk-parallel-item\"><div class=\"sk-item\"><div class=\"sk-label-container\"><div class=\"sk-label sk-toggleable\"><input class=\"sk-toggleable__control sk-hidden--visually\" id=\"sk-estimator-id-3\" type=\"checkbox\" ><label for=\"sk-estimator-id-3\" class=\"sk-toggleable__label sk-toggleable__label-arrow\">num</label><div class=\"sk-toggleable__content\"><pre>[&#x27;YrSold&#x27;, &#x27;Id&#x27;, &#x27;YearRemodAdd&#x27;, &#x27;GarageYrBlt&#x27;, &#x27;MoSold&#x27;, &#x27;BedroomAbvGr&#x27;, &#x27;YearBuilt&#x27;, &#x27;OverallCond&#x27;, &#x27;GarageArea&#x27;, &#x27;OverallQual&#x27;, &#x27;GarageCars&#x27;, &#x27;FullBath&#x27;, &#x27;BsmtFullBath&#x27;, &#x27;HalfBath&#x27;, &#x27;Fireplaces&#x27;]</pre></div></div></div><div class=\"sk-serial\"><div class=\"sk-item\"><div class=\"sk-serial\"><div class=\"sk-item\"><div class=\"sk-estimator sk-toggleable\"><input class=\"sk-toggleable__control sk-hidden--visually\" id=\"sk-estimator-id-4\" type=\"checkbox\" ><label for=\"sk-estimator-id-4\" class=\"sk-toggleable__label sk-toggleable__label-arrow\">SimpleImputer</label><div class=\"sk-toggleable__content\"><pre>SimpleImputer(strategy=&#x27;median&#x27;)</pre></div></div></div><div class=\"sk-item\"><div class=\"sk-estimator sk-toggleable\"><input class=\"sk-toggleable__control sk-hidden--visually\" id=\"sk-estimator-id-5\" type=\"checkbox\" ><label for=\"sk-estimator-id-5\" class=\"sk-toggleable__label sk-toggleable__label-arrow\">StandardScaler</label><div class=\"sk-toggleable__content\"><pre>StandardScaler()</pre></div></div></div></div></div></div></div></div><div class=\"sk-parallel-item\"><div class=\"sk-item\"><div class=\"sk-label-container\"><div class=\"sk-label sk-toggleable\"><input class=\"sk-toggleable__control sk-hidden--visually\" id=\"sk-estimator-id-6\" type=\"checkbox\" ><label for=\"sk-estimator-id-6\" class=\"sk-toggleable__label sk-toggleable__label-arrow\">cat</label><div class=\"sk-toggleable__content\"><pre>[&#x27;MSZoning&#x27;, &#x27;Street&#x27;, &#x27;Alley&#x27;, &#x27;LotShape&#x27;, &#x27;LandContour&#x27;, &#x27;Utilities&#x27;, &#x27;LotConfig&#x27;, &#x27;LandSlope&#x27;, &#x27;Neighborhood&#x27;, &#x27;Condition1&#x27;, &#x27;Condition2&#x27;, &#x27;BldgType&#x27;, &#x27;HouseStyle&#x27;, &#x27;RoofStyle&#x27;, &#x27;RoofMatl&#x27;, &#x27;Exterior1st&#x27;, &#x27;Exterior2nd&#x27;, &#x27;MasVnrType&#x27;, &#x27;ExterQual&#x27;, &#x27;ExterCond&#x27;, &#x27;Foundation&#x27;, &#x27;BsmtQual&#x27;, &#x27;BsmtCond&#x27;, &#x27;BsmtExposure&#x27;, &#x27;BsmtFinType1&#x27;, &#x27;BsmtFinType2&#x27;, &#x27;Heating&#x27;, &#x27;HeatingQC&#x27;, &#x27;CentralAir&#x27;, &#x27;Electrical&#x27;, &#x27;KitchenQual&#x27;, &#x27;Functional&#x27;, &#x27;FireplaceQu&#x27;, &#x27;GarageType&#x27;, &#x27;GarageFinish&#x27;, &#x27;GarageQual&#x27;, &#x27;GarageCond&#x27;, &#x27;PavedDrive&#x27;, &#x27;PoolQC&#x27;, &#x27;Fence&#x27;, &#x27;MiscFeature&#x27;, &#x27;SaleType&#x27;, &#x27;SaleCondition&#x27;, &#x27;MSSubClass&#x27;]</pre></div></div></div><div class=\"sk-serial\"><div class=\"sk-item\"><div class=\"sk-serial\"><div class=\"sk-item\"><div class=\"sk-estimator sk-toggleable\"><input class=\"sk-toggleable__control sk-hidden--visually\" id=\"sk-estimator-id-7\" type=\"checkbox\" ><label for=\"sk-estimator-id-7\" class=\"sk-toggleable__label sk-toggleable__label-arrow\">SimpleImputer</label><div class=\"sk-toggleable__content\"><pre>SimpleImputer(fill_value=&#x27;unknown&#x27;, strategy=&#x27;constant&#x27;)</pre></div></div></div><div class=\"sk-item\"><div class=\"sk-estimator sk-toggleable\"><input class=\"sk-toggleable__control sk-hidden--visually\" id=\"sk-estimator-id-8\" type=\"checkbox\" ><label for=\"sk-estimator-id-8\" class=\"sk-toggleable__label sk-toggleable__label-arrow\">OrdinalEncoder</label><div class=\"sk-toggleable__content\"><pre>OrdinalEncoder()</pre></div></div></div></div></div></div></div></div><div class=\"sk-parallel-item\"><div class=\"sk-item\"><div class=\"sk-label-container\"><div class=\"sk-label sk-toggleable\"><input class=\"sk-toggleable__control sk-hidden--visually\" id=\"sk-estimator-id-9\" type=\"checkbox\" ><label for=\"sk-estimator-id-9\" class=\"sk-toggleable__label sk-toggleable__label-arrow\">skew</label><div class=\"sk-toggleable__content\"><pre>Index([&#x27;MiscVal&#x27;, &#x27;PoolArea&#x27;, &#x27;LotArea&#x27;, &#x27;LowQualFinSF&#x27;, &#x27;3SsnPorch&#x27;,\n",
              "       &#x27;KitchenAbvGr&#x27;, &#x27;BsmtFinSF2&#x27;, &#x27;EnclosedPorch&#x27;, &#x27;ScreenPorch&#x27;,\n",
              "       &#x27;BsmtHalfBath&#x27;, &#x27;MasVnrArea&#x27;, &#x27;OpenPorchSF&#x27;, &#x27;WoodDeckSF&#x27;,\n",
              "       &#x27;LotFrontage&#x27;, &#x27;1stFlrSF&#x27;, &#x27;BsmtFinSF1&#x27;, &#x27;GrLivArea&#x27;, &#x27;TotalBsmtSF&#x27;,\n",
              "       &#x27;BsmtUnfSF&#x27;, &#x27;2ndFlrSF&#x27;, &#x27;TotRmsAbvGrd&#x27;],\n",
              "      dtype=&#x27;object&#x27;)</pre></div></div></div><div class=\"sk-serial\"><div class=\"sk-item\"><div class=\"sk-serial\"><div class=\"sk-item\"><div class=\"sk-estimator sk-toggleable\"><input class=\"sk-toggleable__control sk-hidden--visually\" id=\"sk-estimator-id-10\" type=\"checkbox\" ><label for=\"sk-estimator-id-10\" class=\"sk-toggleable__label sk-toggleable__label-arrow\">SimpleImputer</label><div class=\"sk-toggleable__content\"><pre>SimpleImputer(strategy=&#x27;median&#x27;)</pre></div></div></div><div class=\"sk-item\"><div class=\"sk-estimator sk-toggleable\"><input class=\"sk-toggleable__control sk-hidden--visually\" id=\"sk-estimator-id-11\" type=\"checkbox\" ><label for=\"sk-estimator-id-11\" class=\"sk-toggleable__label sk-toggleable__label-arrow\">StandardScaler</label><div class=\"sk-toggleable__content\"><pre>StandardScaler()</pre></div></div></div><div class=\"sk-item\"><div class=\"sk-estimator sk-toggleable\"><input class=\"sk-toggleable__control sk-hidden--visually\" id=\"sk-estimator-id-12\" type=\"checkbox\" ><label for=\"sk-estimator-id-12\" class=\"sk-toggleable__label sk-toggleable__label-arrow\">PowerTransformer</label><div class=\"sk-toggleable__content\"><pre>PowerTransformer()</pre></div></div></div></div></div></div></div></div></div></div><div class=\"sk-item\"><div class=\"sk-estimator sk-toggleable\"><input class=\"sk-toggleable__control sk-hidden--visually\" id=\"sk-estimator-id-13\" type=\"checkbox\" ><label for=\"sk-estimator-id-13\" class=\"sk-toggleable__label sk-toggleable__label-arrow\">LGBMRegressor</label><div class=\"sk-toggleable__content\"><pre>LGBMRegressor()</pre></div></div></div></div></div></div></div>"
            ]
          },
          "metadata": {},
          "execution_count": 20
        }
      ]
    },
    {
      "cell_type": "code",
      "source": [
        "# preprocessor を Pipelineに含て Cross_validateするとエラーになるので、先に全データに対してPreprocessorをかける\n",
        "all_data_preprocessed = pd.DataFrame(preprocessor.fit_transform(all_data), columns=get_feature_names(preprocessor))\n",
        "all_data_preprocessed[target] = list(all_data[target])"
      ],
      "metadata": {
        "id": "pwBwd5AdcE0F"
      },
      "execution_count": 21,
      "outputs": []
    },
    {
      "cell_type": "code",
      "source": [
        "train_X = all_data_preprocessed.iloc[:train.shape[0]][all_data_preprocessed.columns.drop(target)]\n",
        "train_y = pd.DataFrame(all_data_preprocessed.iloc[:train.shape[0]][target], columns=[target])\n",
        "test_X = all_data_preprocessed.iloc[train.shape[0]:][all_data_preprocessed.columns.drop(target)]"
      ],
      "metadata": {
        "id": "pQYGrj6ddmSh"
      },
      "execution_count": 22,
      "outputs": []
    },
    {
      "cell_type": "code",
      "source": [
        "cv = StratifiedKFold(n_splits=5, shuffle=True, random_state=1)\n",
        "model = lgb.LGBMRegressor()\n",
        "scores = cross_validate(model, train_X, train_y, scoring='neg_root_mean_squared_error', cv=cv, n_jobs=-1, error_score='raise', return_estimator=False) # model の状態を確認したい場合はreturn_estimator をTrueにする\n",
        "score_mean = mean(scores[\"test_score\"])\n",
        "print(f\"score:{score_mean}\")\n",
        "original_score = score_mean"
      ],
      "metadata": {
        "colab": {
          "base_uri": "https://localhost:8080/"
        },
        "id": "4hvporLDDZzi",
        "outputId": "8daa8bb2-31ce-41d5-c991-f562c3cbbba4"
      },
      "execution_count": 34,
      "outputs": [
        {
          "output_type": "stream",
          "name": "stdout",
          "text": [
            "score:-29591.18786833986\n"
          ]
        }
      ]
    },
    {
      "cell_type": "markdown",
      "source": [
        "### 予測結果を提出する"
      ],
      "metadata": {
        "id": "w6WRe4jBQhMl"
      }
    },
    {
      "cell_type": "code",
      "source": [
        "model.fit(train_X, train_y)\n",
        "y_pred = model.predict(test_X)\n",
        "y_pred\n",
        "output = pd.DataFrame({'Id': test[\"Id\"],\n",
        "                       'SalePrice': y_pred})\n",
        "\n",
        "path = \"/content/drive/MyDrive/Colab Notebooks/data/output.csv\"\n",
        "output.to_csv(path, index=False)\n",
        "output"
      ],
      "metadata": {
        "colab": {
          "base_uri": "https://localhost:8080/",
          "height": 424
        },
        "id": "R3cR4oSAQgbE",
        "outputId": "f7d788a2-d75c-4a8d-8d8f-b3af0f9e3e0f"
      },
      "execution_count": 24,
      "outputs": [
        {
          "output_type": "execute_result",
          "data": {
            "text/plain": [
              "        Id      SalePrice\n",
              "0     1461  125755.889991\n",
              "1     1462  161939.801245\n",
              "2     1463  180095.575544\n",
              "3     1464  185476.285562\n",
              "4     1465  199553.419602\n",
              "...    ...            ...\n",
              "1454  2915   78951.479182\n",
              "1455  2916   84616.317882\n",
              "1456  2917  164014.404945\n",
              "1457  2918  115501.713017\n",
              "1458  2919  215251.067587\n",
              "\n",
              "[1459 rows x 2 columns]"
            ],
            "text/html": [
              "\n",
              "  <div id=\"df-6cbcc68e-1596-44f2-a93f-853c0a42398f\">\n",
              "    <div class=\"colab-df-container\">\n",
              "      <div>\n",
              "<style scoped>\n",
              "    .dataframe tbody tr th:only-of-type {\n",
              "        vertical-align: middle;\n",
              "    }\n",
              "\n",
              "    .dataframe tbody tr th {\n",
              "        vertical-align: top;\n",
              "    }\n",
              "\n",
              "    .dataframe thead th {\n",
              "        text-align: right;\n",
              "    }\n",
              "</style>\n",
              "<table border=\"1\" class=\"dataframe\">\n",
              "  <thead>\n",
              "    <tr style=\"text-align: right;\">\n",
              "      <th></th>\n",
              "      <th>Id</th>\n",
              "      <th>SalePrice</th>\n",
              "    </tr>\n",
              "  </thead>\n",
              "  <tbody>\n",
              "    <tr>\n",
              "      <th>0</th>\n",
              "      <td>1461</td>\n",
              "      <td>125755.889991</td>\n",
              "    </tr>\n",
              "    <tr>\n",
              "      <th>1</th>\n",
              "      <td>1462</td>\n",
              "      <td>161939.801245</td>\n",
              "    </tr>\n",
              "    <tr>\n",
              "      <th>2</th>\n",
              "      <td>1463</td>\n",
              "      <td>180095.575544</td>\n",
              "    </tr>\n",
              "    <tr>\n",
              "      <th>3</th>\n",
              "      <td>1464</td>\n",
              "      <td>185476.285562</td>\n",
              "    </tr>\n",
              "    <tr>\n",
              "      <th>4</th>\n",
              "      <td>1465</td>\n",
              "      <td>199553.419602</td>\n",
              "    </tr>\n",
              "    <tr>\n",
              "      <th>...</th>\n",
              "      <td>...</td>\n",
              "      <td>...</td>\n",
              "    </tr>\n",
              "    <tr>\n",
              "      <th>1454</th>\n",
              "      <td>2915</td>\n",
              "      <td>78951.479182</td>\n",
              "    </tr>\n",
              "    <tr>\n",
              "      <th>1455</th>\n",
              "      <td>2916</td>\n",
              "      <td>84616.317882</td>\n",
              "    </tr>\n",
              "    <tr>\n",
              "      <th>1456</th>\n",
              "      <td>2917</td>\n",
              "      <td>164014.404945</td>\n",
              "    </tr>\n",
              "    <tr>\n",
              "      <th>1457</th>\n",
              "      <td>2918</td>\n",
              "      <td>115501.713017</td>\n",
              "    </tr>\n",
              "    <tr>\n",
              "      <th>1458</th>\n",
              "      <td>2919</td>\n",
              "      <td>215251.067587</td>\n",
              "    </tr>\n",
              "  </tbody>\n",
              "</table>\n",
              "<p>1459 rows × 2 columns</p>\n",
              "</div>\n",
              "      <button class=\"colab-df-convert\" onclick=\"convertToInteractive('df-6cbcc68e-1596-44f2-a93f-853c0a42398f')\"\n",
              "              title=\"Convert this dataframe to an interactive table.\"\n",
              "              style=\"display:none;\">\n",
              "        \n",
              "  <svg xmlns=\"http://www.w3.org/2000/svg\" height=\"24px\"viewBox=\"0 0 24 24\"\n",
              "       width=\"24px\">\n",
              "    <path d=\"M0 0h24v24H0V0z\" fill=\"none\"/>\n",
              "    <path d=\"M18.56 5.44l.94 2.06.94-2.06 2.06-.94-2.06-.94-.94-2.06-.94 2.06-2.06.94zm-11 1L8.5 8.5l.94-2.06 2.06-.94-2.06-.94L8.5 2.5l-.94 2.06-2.06.94zm10 10l.94 2.06.94-2.06 2.06-.94-2.06-.94-.94-2.06-.94 2.06-2.06.94z\"/><path d=\"M17.41 7.96l-1.37-1.37c-.4-.4-.92-.59-1.43-.59-.52 0-1.04.2-1.43.59L10.3 9.45l-7.72 7.72c-.78.78-.78 2.05 0 2.83L4 21.41c.39.39.9.59 1.41.59.51 0 1.02-.2 1.41-.59l7.78-7.78 2.81-2.81c.8-.78.8-2.07 0-2.86zM5.41 20L4 18.59l7.72-7.72 1.47 1.35L5.41 20z\"/>\n",
              "  </svg>\n",
              "      </button>\n",
              "      \n",
              "  <style>\n",
              "    .colab-df-container {\n",
              "      display:flex;\n",
              "      flex-wrap:wrap;\n",
              "      gap: 12px;\n",
              "    }\n",
              "\n",
              "    .colab-df-convert {\n",
              "      background-color: #E8F0FE;\n",
              "      border: none;\n",
              "      border-radius: 50%;\n",
              "      cursor: pointer;\n",
              "      display: none;\n",
              "      fill: #1967D2;\n",
              "      height: 32px;\n",
              "      padding: 0 0 0 0;\n",
              "      width: 32px;\n",
              "    }\n",
              "\n",
              "    .colab-df-convert:hover {\n",
              "      background-color: #E2EBFA;\n",
              "      box-shadow: 0px 1px 2px rgba(60, 64, 67, 0.3), 0px 1px 3px 1px rgba(60, 64, 67, 0.15);\n",
              "      fill: #174EA6;\n",
              "    }\n",
              "\n",
              "    [theme=dark] .colab-df-convert {\n",
              "      background-color: #3B4455;\n",
              "      fill: #D2E3FC;\n",
              "    }\n",
              "\n",
              "    [theme=dark] .colab-df-convert:hover {\n",
              "      background-color: #434B5C;\n",
              "      box-shadow: 0px 1px 3px 1px rgba(0, 0, 0, 0.15);\n",
              "      filter: drop-shadow(0px 1px 2px rgba(0, 0, 0, 0.3));\n",
              "      fill: #FFFFFF;\n",
              "    }\n",
              "  </style>\n",
              "\n",
              "      <script>\n",
              "        const buttonEl =\n",
              "          document.querySelector('#df-6cbcc68e-1596-44f2-a93f-853c0a42398f button.colab-df-convert');\n",
              "        buttonEl.style.display =\n",
              "          google.colab.kernel.accessAllowed ? 'block' : 'none';\n",
              "\n",
              "        async function convertToInteractive(key) {\n",
              "          const element = document.querySelector('#df-6cbcc68e-1596-44f2-a93f-853c0a42398f');\n",
              "          const dataTable =\n",
              "            await google.colab.kernel.invokeFunction('convertToInteractive',\n",
              "                                                     [key], {});\n",
              "          if (!dataTable) return;\n",
              "\n",
              "          const docLinkHtml = 'Like what you see? Visit the ' +\n",
              "            '<a target=\"_blank\" href=https://colab.research.google.com/notebooks/data_table.ipynb>data table notebook</a>'\n",
              "            + ' to learn more about interactive tables.';\n",
              "          element.innerHTML = '';\n",
              "          dataTable['output_type'] = 'display_data';\n",
              "          await google.colab.output.renderOutput(dataTable, element);\n",
              "          const docLink = document.createElement('div');\n",
              "          docLink.innerHTML = docLinkHtml;\n",
              "          element.appendChild(docLink);\n",
              "        }\n",
              "      </script>\n",
              "    </div>\n",
              "  </div>\n",
              "  "
            ]
          },
          "metadata": {},
          "execution_count": 24
        }
      ]
    },
    {
      "cell_type": "markdown",
      "source": [
        "# 個別の特徴量についてEDA"
      ],
      "metadata": {
        "id": "JnQcYUJL-2Qc"
      }
    },
    {
      "cell_type": "markdown",
      "source": [
        "### BsmtUnfSF"
      ],
      "metadata": {
        "id": "x4rROSHj-5yu"
      }
    },
    {
      "cell_type": "markdown",
      "source": [
        "#### 特徴量の概要"
      ],
      "metadata": {
        "id": "k9cRt8C4xkER"
      }
    },
    {
      "cell_type": "markdown",
      "source": [
        "- 未完了の基礎の大きさ\n",
        "- 量的変数"
      ],
      "metadata": {
        "id": "iqz08qB-xoYq"
      }
    },
    {
      "cell_type": "markdown",
      "source": [
        "#### 分布の確認\n",
        "- ほとんどの値が0（＝未完了となっている基礎はない）\n",
        "- 未完成の基礎が広い（＝敷地が広い）場合には価格が高いことがある"
      ],
      "metadata": {
        "id": "8MvDNLXl_OP1"
      }
    },
    {
      "cell_type": "code",
      "source": [
        "scatter_hist(all_data, \"BsmtUnfSF\", \"SalePrice\")"
      ],
      "metadata": {
        "colab": {
          "base_uri": "https://localhost:8080/",
          "height": 696
        },
        "id": "TMp8OAv10SZf",
        "outputId": "1366ca53-c37d-4581-f142-118bd3be9e2e"
      },
      "execution_count": 25,
      "outputs": [
        {
          "output_type": "display_data",
          "data": {
            "text/plain": [
              "<Figure size 800x800 with 5 Axes>"
            ],
            "image/png": "[encoded data removed]"
          },
          "metadata": {}
        }
      ]
    },
    {
      "cell_type": "markdown",
      "source": [
        "#### 欠損値の補完"
      ],
      "metadata": {
        "id": "iY_H1uej_Q7y"
      }
    },
    {
      "cell_type": "code",
      "source": [
        "all_data[\"BsmtUnfSF\"].isna().sum()"
      ],
      "metadata": {
        "colab": {
          "base_uri": "https://localhost:8080/"
        },
        "id": "BUt1-ocH1d86",
        "outputId": "50421005-b969-4da5-f57d-c60f83887c13"
      },
      "execution_count": 26,
      "outputs": [
        {
          "output_type": "execute_result",
          "data": {
            "text/plain": [
              "1"
            ]
          },
          "metadata": {},
          "execution_count": 26
        }
      ]
    },
    {
      "cell_type": "code",
      "source": [
        "# No basementの場合にはBsmtQualがNAとなる。\n",
        "# 該当の１件はBsmtQualがNaNのため、基礎が存在しない。そのため0で補完するのが妥当といえる\n",
        "cols = [\"Id\", \"BsmtFinSF1\", \"BsmtUnfSF\"]\n",
        "all_data[all_data[\"BsmtUnfSF\"].isna()].T"
      ],
      "metadata": {
        "colab": {
          "base_uri": "https://localhost:8080/",
          "height": 424
        },
        "id": "6jz6UWlq1-IO",
        "outputId": "a912827c-d1d6-460c-ed7b-5198fca3fa28"
      },
      "execution_count": 27,
      "outputs": [
        {
          "output_type": "execute_result",
          "data": {
            "text/plain": [
              "                   660\n",
              "Id                2121\n",
              "MSSubClass          20\n",
              "MSZoning            RM\n",
              "LotFrontage       99.0\n",
              "LotArea           5940\n",
              "...                ...\n",
              "MoSold               4\n",
              "YrSold            2008\n",
              "SaleType         ConLD\n",
              "SaleCondition  Abnorml\n",
              "SalePrice          NaN\n",
              "\n",
              "[81 rows x 1 columns]"
            ],
            "text/html": [
              "\n",
              "  <div id=\"df-c1e2d9a0-347d-4595-a17e-1e84ecdf7c01\">\n",
              "    <div class=\"colab-df-container\">\n",
              "      <div>\n",
              "<style scoped>\n",
              "    .dataframe tbody tr th:only-of-type {\n",
              "        vertical-align: middle;\n",
              "    }\n",
              "\n",
              "    .dataframe tbody tr th {\n",
              "        vertical-align: top;\n",
              "    }\n",
              "\n",
              "    .dataframe thead th {\n",
              "        text-align: right;\n",
              "    }\n",
              "</style>\n",
              "<table border=\"1\" class=\"dataframe\">\n",
              "  <thead>\n",
              "    <tr style=\"text-align: right;\">\n",
              "      <th></th>\n",
              "      <th>660</th>\n",
              "    </tr>\n",
              "  </thead>\n",
              "  <tbody>\n",
              "    <tr>\n",
              "      <th>Id</th>\n",
              "      <td>2121</td>\n",
              "    </tr>\n",
              "    <tr>\n",
              "      <th>MSSubClass</th>\n",
              "      <td>20</td>\n",
              "    </tr>\n",
              "    <tr>\n",
              "      <th>MSZoning</th>\n",
              "      <td>RM</td>\n",
              "    </tr>\n",
              "    <tr>\n",
              "      <th>LotFrontage</th>\n",
              "      <td>99.0</td>\n",
              "    </tr>\n",
              "    <tr>\n",
              "      <th>LotArea</th>\n",
              "      <td>5940</td>\n",
              "    </tr>\n",
              "    <tr>\n",
              "      <th>...</th>\n",
              "      <td>...</td>\n",
              "    </tr>\n",
              "    <tr>\n",
              "      <th>MoSold</th>\n",
              "      <td>4</td>\n",
              "    </tr>\n",
              "    <tr>\n",
              "      <th>YrSold</th>\n",
              "      <td>2008</td>\n",
              "    </tr>\n",
              "    <tr>\n",
              "      <th>SaleType</th>\n",
              "      <td>ConLD</td>\n",
              "    </tr>\n",
              "    <tr>\n",
              "      <th>SaleCondition</th>\n",
              "      <td>Abnorml</td>\n",
              "    </tr>\n",
              "    <tr>\n",
              "      <th>SalePrice</th>\n",
              "      <td>NaN</td>\n",
              "    </tr>\n",
              "  </tbody>\n",
              "</table>\n",
              "<p>81 rows × 1 columns</p>\n",
              "</div>\n",
              "      <button class=\"colab-df-convert\" onclick=\"convertToInteractive('df-c1e2d9a0-347d-4595-a17e-1e84ecdf7c01')\"\n",
              "              title=\"Convert this dataframe to an interactive table.\"\n",
              "              style=\"display:none;\">\n",
              "        \n",
              "  <svg xmlns=\"http://www.w3.org/2000/svg\" height=\"24px\"viewBox=\"0 0 24 24\"\n",
              "       width=\"24px\">\n",
              "    <path d=\"M0 0h24v24H0V0z\" fill=\"none\"/>\n",
              "    <path d=\"M18.56 5.44l.94 2.06.94-2.06 2.06-.94-2.06-.94-.94-2.06-.94 2.06-2.06.94zm-11 1L8.5 8.5l.94-2.06 2.06-.94-2.06-.94L8.5 2.5l-.94 2.06-2.06.94zm10 10l.94 2.06.94-2.06 2.06-.94-2.06-.94-.94-2.06-.94 2.06-2.06.94z\"/><path d=\"M17.41 7.96l-1.37-1.37c-.4-.4-.92-.59-1.43-.59-.52 0-1.04.2-1.43.59L10.3 9.45l-7.72 7.72c-.78.78-.78 2.05 0 2.83L4 21.41c.39.39.9.59 1.41.59.51 0 1.02-.2 1.41-.59l7.78-7.78 2.81-2.81c.8-.78.8-2.07 0-2.86zM5.41 20L4 18.59l7.72-7.72 1.47 1.35L5.41 20z\"/>\n",
              "  </svg>\n",
              "      </button>\n",
              "      \n",
              "  <style>\n",
              "    .colab-df-container {\n",
              "      display:flex;\n",
              "      flex-wrap:wrap;\n",
              "      gap: 12px;\n",
              "    }\n",
              "\n",
              "    .colab-df-convert {\n",
              "      background-color: #E8F0FE;\n",
              "      border: none;\n",
              "      border-radius: 50%;\n",
              "      cursor: pointer;\n",
              "      display: none;\n",
              "      fill: #1967D2;\n",
              "      height: 32px;\n",
              "      padding: 0 0 0 0;\n",
              "      width: 32px;\n",
              "    }\n",
              "\n",
              "    .colab-df-convert:hover {\n",
              "      background-color: #E2EBFA;\n",
              "      box-shadow: 0px 1px 2px rgba(60, 64, 67, 0.3), 0px 1px 3px 1px rgba(60, 64, 67, 0.15);\n",
              "      fill: #174EA6;\n",
              "    }\n",
              "\n",
              "    [theme=dark] .colab-df-convert {\n",
              "      background-color: #3B4455;\n",
              "      fill: #D2E3FC;\n",
              "    }\n",
              "\n",
              "    [theme=dark] .colab-df-convert:hover {\n",
              "      background-color: #434B5C;\n",
              "      box-shadow: 0px 1px 3px 1px rgba(0, 0, 0, 0.15);\n",
              "      filter: drop-shadow(0px 1px 2px rgba(0, 0, 0, 0.3));\n",
              "      fill: #FFFFFF;\n",
              "    }\n",
              "  </style>\n",
              "\n",
              "      <script>\n",
              "        const buttonEl =\n",
              "          document.querySelector('#df-c1e2d9a0-347d-4595-a17e-1e84ecdf7c01 button.colab-df-convert');\n",
              "        buttonEl.style.display =\n",
              "          google.colab.kernel.accessAllowed ? 'block' : 'none';\n",
              "\n",
              "        async function convertToInteractive(key) {\n",
              "          const element = document.querySelector('#df-c1e2d9a0-347d-4595-a17e-1e84ecdf7c01');\n",
              "          const dataTable =\n",
              "            await google.colab.kernel.invokeFunction('convertToInteractive',\n",
              "                                                     [key], {});\n",
              "          if (!dataTable) return;\n",
              "\n",
              "          const docLinkHtml = 'Like what you see? Visit the ' +\n",
              "            '<a target=\"_blank\" href=https://colab.research.google.com/notebooks/data_table.ipynb>data table notebook</a>'\n",
              "            + ' to learn more about interactive tables.';\n",
              "          element.innerHTML = '';\n",
              "          dataTable['output_type'] = 'display_data';\n",
              "          await google.colab.output.renderOutput(dataTable, element);\n",
              "          const docLink = document.createElement('div');\n",
              "          docLink.innerHTML = docLinkHtml;\n",
              "          element.appendChild(docLink);\n",
              "        }\n",
              "      </script>\n",
              "    </div>\n",
              "  </div>\n",
              "  "
            ]
          },
          "metadata": {},
          "execution_count": 27
        }
      ]
    },
    {
      "cell_type": "code",
      "source": [
        "cols = [\"BsmtQual\", \"BsmtCond\", \"BsmtExposure\", \"BsmtFinType1\", \"BsmtFinSF1\", \"BsmtFinType2\", \"BsmtFinSF2\", \"BsmtUnfSF\", \"TotalBsmtSF\"]\n",
        "all_data[cols].isna().sum()"
      ],
      "metadata": {
        "colab": {
          "base_uri": "https://localhost:8080/"
        },
        "id": "CliA9r_U4KUz",
        "outputId": "58e473f9-6d7f-42dd-c73c-e3c352dfb341"
      },
      "execution_count": 28,
      "outputs": [
        {
          "output_type": "execute_result",
          "data": {
            "text/plain": [
              "BsmtQual        81\n",
              "BsmtCond        82\n",
              "BsmtExposure    82\n",
              "BsmtFinType1    79\n",
              "BsmtFinSF1       1\n",
              "BsmtFinType2    80\n",
              "BsmtFinSF2       1\n",
              "BsmtUnfSF        1\n",
              "TotalBsmtSF      1\n",
              "dtype: int64"
            ]
          },
          "metadata": {},
          "execution_count": 28
        }
      ]
    },
    {
      "cell_type": "code",
      "source": [
        "all_data[\"BsmtQual\"].value_counts()"
      ],
      "metadata": {
        "colab": {
          "base_uri": "https://localhost:8080/"
        },
        "id": "2sFBszD159ha",
        "outputId": "6feae4a7-d629-4a2b-991a-8bdb937e7bcf"
      },
      "execution_count": 29,
      "outputs": [
        {
          "output_type": "execute_result",
          "data": {
            "text/plain": [
              "TA    1283\n",
              "Gd    1209\n",
              "Ex     258\n",
              "Fa      88\n",
              "Name: BsmtQual, dtype: int64"
            ]
          },
          "metadata": {},
          "execution_count": 29
        }
      ]
    },
    {
      "cell_type": "code",
      "source": [
        "all_data[all_data[\"BsmtQual\"].isna()].T"
      ],
      "metadata": {
        "colab": {
          "base_uri": "https://localhost:8080/",
          "height": 488
        },
        "id": "TuVJek9q6VZJ",
        "outputId": "5aa9da94-97f0-422a-fe6a-95a78d0a6bf9"
      },
      "execution_count": 30,
      "outputs": [
        {
          "output_type": "execute_result",
          "data": {
            "text/plain": [
              "                  17       39        90        102       156       182   \\\n",
              "Id                  18       40        91       103       157       183   \n",
              "MSSubClass          90       90        20        90        20        20   \n",
              "MSZoning            RL       RL        RL        RL        RL        RL   \n",
              "LotFrontage       72.0     65.0      60.0      64.0      60.0      60.0   \n",
              "LotArea          10791     6040      7200      7018      7200      9060   \n",
              "...                ...      ...       ...       ...       ...       ...   \n",
              "MoSold              10        6         7         6         6         6   \n",
              "YrSold            2006     2008      2006      2009      2006      2007   \n",
              "SaleType            WD       WD        WD        WD        WD        WD   \n",
              "SaleCondition   Normal  AdjLand    Normal    Alloca    Normal    Normal   \n",
              "SalePrice      90000.0  82000.0  109900.0  118964.0  109500.0  120000.0   \n",
              "\n",
              "                  259      342       362       371   ...    1118    1139  \\\n",
              "Id                 260      343       363       372  ...    2579    2600   \n",
              "MSSubClass          20       90        85        50  ...      50      20   \n",
              "MSZoning            RM       RL        RL        RL  ...      RM      RL   \n",
              "LotFrontage       70.0      NaN      64.0      80.0  ...    64.0   200.0   \n",
              "LotArea          12702     8544      7301     17120  ...   11067   43500   \n",
              "...                ...      ...       ...       ...  ...     ...     ...   \n",
              "MoSold              12        5         7         7  ...       3       6   \n",
              "YrSold            2008     2006      2009      2008  ...    2007    2007   \n",
              "SaleType            WD       WD     ConLD        WD  ...      WD      WD   \n",
              "SaleCondition   Normal   Normal    Normal    Normal  ...  Normal  Normal   \n",
              "SalePrice      97000.0  87500.0  198500.0  134432.0  ...     NaN     NaN   \n",
              "\n",
              "                 1242    1303    1306    1343    1344    1364     1431    1444  \n",
              "Id               2703    2764    2767    2804    2805    2825     2892    2905  \n",
              "MSSubClass         90      20      90      20      30      20       30      20  \n",
              "MSZoning           RM      RL      RL      RL      RL      RL  C (all)     NaN  \n",
              "LotFrontage      68.0    86.0    60.0   100.0    55.0    80.0     69.0   125.0  \n",
              "LotArea          8927   11650    8544   21370    8250   12048    12366   31250  \n",
              "...               ...     ...     ...     ...     ...     ...      ...     ...  \n",
              "MoSold              8       6      12       6       6       4       10       5  \n",
              "YrSold           2006    2006    2006    2006    2006    2006     2006    2006  \n",
              "SaleType           WD      WD      WD      WD      WD      WD       WD      WD  \n",
              "SaleCondition  Normal  Normal  Normal  Normal  Normal  Normal  Abnorml  Normal  \n",
              "SalePrice         NaN     NaN     NaN     NaN     NaN     NaN      NaN     NaN  \n",
              "\n",
              "[81 rows x 81 columns]"
            ],
            "text/html": [
              "\n",
              "  <div id=\"df-c2887f82-269a-460b-8482-f10fa6543d13\">\n",
              "    <div class=\"colab-df-container\">\n",
              "      <div>\n",
              "<style scoped>\n",
              "    .dataframe tbody tr th:only-of-type {\n",
              "        vertical-align: middle;\n",
              "    }\n",
              "\n",
              "    .dataframe tbody tr th {\n",
              "        vertical-align: top;\n",
              "    }\n",
              "\n",
              "    .dataframe thead th {\n",
              "        text-align: right;\n",
              "    }\n",
              "</style>\n",
              "<table border=\"1\" class=\"dataframe\">\n",
              "  <thead>\n",
              "    <tr style=\"text-align: right;\">\n",
              "      <th></th>\n",
              "      <th>17</th>\n",
              "      <th>39</th>\n",
              "      <th>90</th>\n",
              "      <th>102</th>\n",
              "      <th>156</th>\n",
              "      <th>182</th>\n",
              "      <th>259</th>\n",
              "      <th>342</th>\n",
              "      <th>362</th>\n",
              "      <th>371</th>\n",
              "      <th>...</th>\n",
              "      <th>1118</th>\n",
              "      <th>1139</th>\n",
              "      <th>1242</th>\n",
              "      <th>1303</th>\n",
              "      <th>1306</th>\n",
              "      <th>1343</th>\n",
              "      <th>1344</th>\n",
              "      <th>1364</th>\n",
              "      <th>1431</th>\n",
              "      <th>1444</th>\n",
              "    </tr>\n",
              "  </thead>\n",
              "  <tbody>\n",
              "    <tr>\n",
              "      <th>Id</th>\n",
              "      <td>18</td>\n",
              "      <td>40</td>\n",
              "      <td>91</td>\n",
              "      <td>103</td>\n",
              "      <td>157</td>\n",
              "      <td>183</td>\n",
              "      <td>260</td>\n",
              "      <td>343</td>\n",
              "      <td>363</td>\n",
              "      <td>372</td>\n",
              "      <td>...</td>\n",
              "      <td>2579</td>\n",
              "      <td>2600</td>\n",
              "      <td>2703</td>\n",
              "      <td>2764</td>\n",
              "      <td>2767</td>\n",
              "      <td>2804</td>\n",
              "      <td>2805</td>\n",
              "      <td>2825</td>\n",
              "      <td>2892</td>\n",
              "      <td>2905</td>\n",
              "    </tr>\n",
              "    <tr>\n",
              "      <th>MSSubClass</th>\n",
              "      <td>90</td>\n",
              "      <td>90</td>\n",
              "      <td>20</td>\n",
              "      <td>90</td>\n",
              "      <td>20</td>\n",
              "      <td>20</td>\n",
              "      <td>20</td>\n",
              "      <td>90</td>\n",
              "      <td>85</td>\n",
              "      <td>50</td>\n",
              "      <td>...</td>\n",
              "      <td>50</td>\n",
              "      <td>20</td>\n",
              "      <td>90</td>\n",
              "      <td>20</td>\n",
              "      <td>90</td>\n",
              "      <td>20</td>\n",
              "      <td>30</td>\n",
              "      <td>20</td>\n",
              "      <td>30</td>\n",
              "      <td>20</td>\n",
              "    </tr>\n",
              "    <tr>\n",
              "      <th>MSZoning</th>\n",
              "      <td>RL</td>\n",
              "      <td>RL</td>\n",
              "      <td>RL</td>\n",
              "      <td>RL</td>\n",
              "      <td>RL</td>\n",
              "      <td>RL</td>\n",
              "      <td>RM</td>\n",
              "      <td>RL</td>\n",
              "      <td>RL</td>\n",
              "      <td>RL</td>\n",
              "      <td>...</td>\n",
              "      <td>RM</td>\n",
              "      <td>RL</td>\n",
              "      <td>RM</td>\n",
              "      <td>RL</td>\n",
              "      <td>RL</td>\n",
              "      <td>RL</td>\n",
              "      <td>RL</td>\n",
              "      <td>RL</td>\n",
              "      <td>C (all)</td>\n",
              "      <td>NaN</td>\n",
              "    </tr>\n",
              "    <tr>\n",
              "      <th>LotFrontage</th>\n",
              "      <td>72.0</td>\n",
              "      <td>65.0</td>\n",
              "      <td>60.0</td>\n",
              "      <td>64.0</td>\n",
              "      <td>60.0</td>\n",
              "      <td>60.0</td>\n",
              "      <td>70.0</td>\n",
              "      <td>NaN</td>\n",
              "      <td>64.0</td>\n",
              "      <td>80.0</td>\n",
              "      <td>...</td>\n",
              "      <td>64.0</td>\n",
              "      <td>200.0</td>\n",
              "      <td>68.0</td>\n",
              "      <td>86.0</td>\n",
              "      <td>60.0</td>\n",
              "      <td>100.0</td>\n",
              "      <td>55.0</td>\n",
              "      <td>80.0</td>\n",
              "      <td>69.0</td>\n",
              "      <td>125.0</td>\n",
              "    </tr>\n",
              "    <tr>\n",
              "      <th>LotArea</th>\n",
              "      <td>10791</td>\n",
              "      <td>6040</td>\n",
              "      <td>7200</td>\n",
              "      <td>7018</td>\n",
              "      <td>7200</td>\n",
              "      <td>9060</td>\n",
              "      <td>12702</td>\n",
              "      <td>8544</td>\n",
              "      <td>7301</td>\n",
              "      <td>17120</td>\n",
              "      <td>...</td>\n",
              "      <td>11067</td>\n",
              "      <td>43500</td>\n",
              "      <td>8927</td>\n",
              "      <td>11650</td>\n",
              "      <td>8544</td>\n",
              "      <td>21370</td>\n",
              "      <td>8250</td>\n",
              "      <td>12048</td>\n",
              "      <td>12366</td>\n",
              "      <td>31250</td>\n",
              "    </tr>\n",
              "    <tr>\n",
              "      <th>...</th>\n",
              "      <td>...</td>\n",
              "      <td>...</td>\n",
              "      <td>...</td>\n",
              "      <td>...</td>\n",
              "      <td>...</td>\n",
              "      <td>...</td>\n",
              "      <td>...</td>\n",
              "      <td>...</td>\n",
              "      <td>...</td>\n",
              "      <td>...</td>\n",
              "      <td>...</td>\n",
              "      <td>...</td>\n",
              "      <td>...</td>\n",
              "      <td>...</td>\n",
              "      <td>...</td>\n",
              "      <td>...</td>\n",
              "      <td>...</td>\n",
              "      <td>...</td>\n",
              "      <td>...</td>\n",
              "      <td>...</td>\n",
              "      <td>...</td>\n",
              "    </tr>\n",
              "    <tr>\n",
              "      <th>MoSold</th>\n",
              "      <td>10</td>\n",
              "      <td>6</td>\n",
              "      <td>7</td>\n",
              "      <td>6</td>\n",
              "      <td>6</td>\n",
              "      <td>6</td>\n",
              "      <td>12</td>\n",
              "      <td>5</td>\n",
              "      <td>7</td>\n",
              "      <td>7</td>\n",
              "      <td>...</td>\n",
              "      <td>3</td>\n",
              "      <td>6</td>\n",
              "      <td>8</td>\n",
              "      <td>6</td>\n",
              "      <td>12</td>\n",
              "      <td>6</td>\n",
              "      <td>6</td>\n",
              "      <td>4</td>\n",
              "      <td>10</td>\n",
              "      <td>5</td>\n",
              "    </tr>\n",
              "    <tr>\n",
              "      <th>YrSold</th>\n",
              "      <td>2006</td>\n",
              "      <td>2008</td>\n",
              "      <td>2006</td>\n",
              "      <td>2009</td>\n",
              "      <td>2006</td>\n",
              "      <td>2007</td>\n",
              "      <td>2008</td>\n",
              "      <td>2006</td>\n",
              "      <td>2009</td>\n",
              "      <td>2008</td>\n",
              "      <td>...</td>\n",
              "      <td>2007</td>\n",
              "      <td>2007</td>\n",
              "      <td>2006</td>\n",
              "      <td>2006</td>\n",
              "      <td>2006</td>\n",
              "      <td>2006</td>\n",
              "      <td>2006</td>\n",
              "      <td>2006</td>\n",
              "      <td>2006</td>\n",
              "      <td>2006</td>\n",
              "    </tr>\n",
              "    <tr>\n",
              "      <th>SaleType</th>\n",
              "      <td>WD</td>\n",
              "      <td>WD</td>\n",
              "      <td>WD</td>\n",
              "      <td>WD</td>\n",
              "      <td>WD</td>\n",
              "      <td>WD</td>\n",
              "      <td>WD</td>\n",
              "      <td>WD</td>\n",
              "      <td>ConLD</td>\n",
              "      <td>WD</td>\n",
              "      <td>...</td>\n",
              "      <td>WD</td>\n",
              "      <td>WD</td>\n",
              "      <td>WD</td>\n",
              "      <td>WD</td>\n",
              "      <td>WD</td>\n",
              "      <td>WD</td>\n",
              "      <td>WD</td>\n",
              "      <td>WD</td>\n",
              "      <td>WD</td>\n",
              "      <td>WD</td>\n",
              "    </tr>\n",
              "    <tr>\n",
              "      <th>SaleCondition</th>\n",
              "      <td>Normal</td>\n",
              "      <td>AdjLand</td>\n",
              "      <td>Normal</td>\n",
              "      <td>Alloca</td>\n",
              "      <td>Normal</td>\n",
              "      <td>Normal</td>\n",
              "      <td>Normal</td>\n",
              "      <td>Normal</td>\n",
              "      <td>Normal</td>\n",
              "      <td>Normal</td>\n",
              "      <td>...</td>\n",
              "      <td>Normal</td>\n",
              "      <td>Normal</td>\n",
              "      <td>Normal</td>\n",
              "      <td>Normal</td>\n",
              "      <td>Normal</td>\n",
              "      <td>Normal</td>\n",
              "      <td>Normal</td>\n",
              "      <td>Normal</td>\n",
              "      <td>Abnorml</td>\n",
              "      <td>Normal</td>\n",
              "    </tr>\n",
              "    <tr>\n",
              "      <th>SalePrice</th>\n",
              "      <td>90000.0</td>\n",
              "      <td>82000.0</td>\n",
              "      <td>109900.0</td>\n",
              "      <td>118964.0</td>\n",
              "      <td>109500.0</td>\n",
              "      <td>120000.0</td>\n",
              "      <td>97000.0</td>\n",
              "      <td>87500.0</td>\n",
              "      <td>198500.0</td>\n",
              "      <td>134432.0</td>\n",
              "      <td>...</td>\n",
              "      <td>NaN</td>\n",
              "      <td>NaN</td>\n",
              "      <td>NaN</td>\n",
              "      <td>NaN</td>\n",
              "      <td>NaN</td>\n",
              "      <td>NaN</td>\n",
              "      <td>NaN</td>\n",
              "      <td>NaN</td>\n",
              "      <td>NaN</td>\n",
              "      <td>NaN</td>\n",
              "    </tr>\n",
              "  </tbody>\n",
              "</table>\n",
              "<p>81 rows × 81 columns</p>\n",
              "</div>\n",
              "      <button class=\"colab-df-convert\" onclick=\"convertToInteractive('df-c2887f82-269a-460b-8482-f10fa6543d13')\"\n",
              "              title=\"Convert this dataframe to an interactive table.\"\n",
              "              style=\"display:none;\">\n",
              "        \n",
              "  <svg xmlns=\"http://www.w3.org/2000/svg\" height=\"24px\"viewBox=\"0 0 24 24\"\n",
              "       width=\"24px\">\n",
              "    <path d=\"M0 0h24v24H0V0z\" fill=\"none\"/>\n",
              "    <path d=\"M18.56 5.44l.94 2.06.94-2.06 2.06-.94-2.06-.94-.94-2.06-.94 2.06-2.06.94zm-11 1L8.5 8.5l.94-2.06 2.06-.94-2.06-.94L8.5 2.5l-.94 2.06-2.06.94zm10 10l.94 2.06.94-2.06 2.06-.94-2.06-.94-.94-2.06-.94 2.06-2.06.94z\"/><path d=\"M17.41 7.96l-1.37-1.37c-.4-.4-.92-.59-1.43-.59-.52 0-1.04.2-1.43.59L10.3 9.45l-7.72 7.72c-.78.78-.78 2.05 0 2.83L4 21.41c.39.39.9.59 1.41.59.51 0 1.02-.2 1.41-.59l7.78-7.78 2.81-2.81c.8-.78.8-2.07 0-2.86zM5.41 20L4 18.59l7.72-7.72 1.47 1.35L5.41 20z\"/>\n",
              "  </svg>\n",
              "      </button>\n",
              "      \n",
              "  <style>\n",
              "    .colab-df-container {\n",
              "      display:flex;\n",
              "      flex-wrap:wrap;\n",
              "      gap: 12px;\n",
              "    }\n",
              "\n",
              "    .colab-df-convert {\n",
              "      background-color: #E8F0FE;\n",
              "      border: none;\n",
              "      border-radius: 50%;\n",
              "      cursor: pointer;\n",
              "      display: none;\n",
              "      fill: #1967D2;\n",
              "      height: 32px;\n",
              "      padding: 0 0 0 0;\n",
              "      width: 32px;\n",
              "    }\n",
              "\n",
              "    .colab-df-convert:hover {\n",
              "      background-color: #E2EBFA;\n",
              "      box-shadow: 0px 1px 2px rgba(60, 64, 67, 0.3), 0px 1px 3px 1px rgba(60, 64, 67, 0.15);\n",
              "      fill: #174EA6;\n",
              "    }\n",
              "\n",
              "    [theme=dark] .colab-df-convert {\n",
              "      background-color: #3B4455;\n",
              "      fill: #D2E3FC;\n",
              "    }\n",
              "\n",
              "    [theme=dark] .colab-df-convert:hover {\n",
              "      background-color: #434B5C;\n",
              "      box-shadow: 0px 1px 3px 1px rgba(0, 0, 0, 0.15);\n",
              "      filter: drop-shadow(0px 1px 2px rgba(0, 0, 0, 0.3));\n",
              "      fill: #FFFFFF;\n",
              "    }\n",
              "  </style>\n",
              "\n",
              "      <script>\n",
              "        const buttonEl =\n",
              "          document.querySelector('#df-c2887f82-269a-460b-8482-f10fa6543d13 button.colab-df-convert');\n",
              "        buttonEl.style.display =\n",
              "          google.colab.kernel.accessAllowed ? 'block' : 'none';\n",
              "\n",
              "        async function convertToInteractive(key) {\n",
              "          const element = document.querySelector('#df-c2887f82-269a-460b-8482-f10fa6543d13');\n",
              "          const dataTable =\n",
              "            await google.colab.kernel.invokeFunction('convertToInteractive',\n",
              "                                                     [key], {});\n",
              "          if (!dataTable) return;\n",
              "\n",
              "          const docLinkHtml = 'Like what you see? Visit the ' +\n",
              "            '<a target=\"_blank\" href=https://colab.research.google.com/notebooks/data_table.ipynb>data table notebook</a>'\n",
              "            + ' to learn more about interactive tables.';\n",
              "          element.innerHTML = '';\n",
              "          dataTable['output_type'] = 'display_data';\n",
              "          await google.colab.output.renderOutput(dataTable, element);\n",
              "          const docLink = document.createElement('div');\n",
              "          docLink.innerHTML = docLinkHtml;\n",
              "          element.appendChild(docLink);\n",
              "        }\n",
              "      </script>\n",
              "    </div>\n",
              "  </div>\n",
              "  "
            ]
          },
          "metadata": {},
          "execution_count": 30
        }
      ]
    },
    {
      "cell_type": "markdown",
      "source": [
        "#### 外れ値の除外"
      ],
      "metadata": {
        "id": "P8ZYoVKM_TgL"
      }
    },
    {
      "cell_type": "markdown",
      "source": [
        "#### 何かいい感じの特徴量を新しく作れないか？\n",
        "- Totalに対する割合を算出するのがいいかもしれない。"
      ],
      "metadata": {
        "id": "oEj7xraMvam6"
      }
    },
    {
      "cell_type": "markdown",
      "source": [
        "### TotalBsmtSF"
      ],
      "metadata": {
        "id": "mY3_mfro_CIC"
      }
    },
    {
      "cell_type": "markdown",
      "source": [
        "#### 分布の確認"
      ],
      "metadata": {
        "id": "LKfbk7D5xnEe"
      }
    },
    {
      "cell_type": "markdown",
      "source": [
        "#### 欠損値の補完"
      ],
      "metadata": {
        "id": "bhDLwQHlxnEl"
      }
    },
    {
      "cell_type": "markdown",
      "source": [
        "#### 外れ値の除外"
      ],
      "metadata": {
        "id": "AECW4osZxnEl"
      }
    },
    {
      "cell_type": "markdown",
      "source": [
        "#### 何かいい感じの特徴量を新しく作れないか？"
      ],
      "metadata": {
        "id": "8-niaTuKxnEl"
      }
    },
    {
      "cell_type": "markdown",
      "source": [
        "#### 分布の確認"
      ],
      "metadata": {
        "id": "RyOZxkl9xiiO"
      }
    },
    {
      "cell_type": "markdown",
      "source": [
        "#### 欠損値の補完"
      ],
      "metadata": {
        "id": "TMk1IMp4xiij"
      }
    },
    {
      "cell_type": "markdown",
      "source": [
        "#### 外れ値の除外"
      ],
      "metadata": {
        "id": "uXxPXnKGxiik"
      }
    },
    {
      "cell_type": "markdown",
      "source": [
        "#### 何かいい感じの組み合わせを作れないか？"
      ],
      "metadata": {
        "id": "6SxrgtHSxiik"
      }
    },
    {
      "cell_type": "markdown",
      "source": [
        "### 1stFlrSF"
      ],
      "metadata": {
        "id": "sVdQf5u2_EyH"
      }
    },
    {
      "cell_type": "markdown",
      "source": [
        "### GrLivArea"
      ],
      "metadata": {
        "id": "xD6TN14m_G16"
      }
    },
    {
      "cell_type": "markdown",
      "source": [
        "### GarageArea"
      ],
      "metadata": {
        "id": "q18o9C4I_IxH"
      }
    },
    {
      "cell_type": "markdown",
      "metadata": {
        "id": "XdJWsDpCPZ1V"
      },
      "source": [
        "## 分布の確認"
      ]
    },
    {
      "cell_type": "markdown",
      "metadata": {
        "id": "q_m2L3r4VzaV"
      },
      "source": [
        "#### Target の確認(Dependent, Nominal)"
      ]
    },
    {
      "cell_type": "code",
      "execution_count": 31,
      "metadata": {
        "colab": {
          "base_uri": "https://localhost:8080/",
          "height": 523
        },
        "id": "Fcn62lcrcaAu",
        "outputId": "81a9de89-c2d0-43b2-b0be-ef8fad58cd7a"
      },
      "outputs": [
        {
          "output_type": "display_data",
          "data": {
            "text/plain": [
              "<Figure size 3500x1000 with 4 Axes>"
            ],
            "image/png": "[encoded data removed]"
          },
          "metadata": {}
        }
      ],
      "source": [
        "continuous_dist(all_data, \"Street\", \"SalePrice\")"
      ]
    },
    {
      "cell_type": "markdown",
      "source": [
        "## 新たに特徴量を作る"
      ],
      "metadata": {
        "id": "9eLXMC0BH-Q2"
      }
    },
    {
      "cell_type": "markdown",
      "source": [
        "### アイデアをメモする\n",
        "- Bsmt周りの割合を表すカラムを作成する\n",
        "- 築年数を算出する（最新の日付 - YearBuilt）\n",
        "- 建築後の経過月数を算出する"
      ],
      "metadata": {
        "id": "ISKtoeQ9ITg1"
      }
    },
    {
      "cell_type": "markdown",
      "source": [
        "### Bsmt周りの割合を表すカラムを作成する"
      ],
      "metadata": {
        "id": "K7MgLH0QLXaa"
      }
    },
    {
      "cell_type": "code",
      "source": [
        "all_data_fe = all_data.copy()\n",
        "\n",
        "all_data_preprocessed = pd.DataFrame(preprocessor.fit_transform(all_data_fe), columns=get_feature_names(preprocessor))\n",
        "all_data_preprocessed[\"BsmtFinSF1Ratio\"] = all_data_preprocessed[\"skew__BsmtFinSF1\"]/all_data_preprocessed[\"skew__TotalBsmtSF\"]\n",
        "all_data_preprocessed[\"BsmtFinSF2Ratio\"] = all_data_preprocessed[\"skew__BsmtFinSF2\"]/all_data_preprocessed[\"skew__TotalBsmtSF\"]\n",
        "all_data_preprocessed[\"BsmtUnfSFRatio\"] = all_data_preprocessed[\"skew__BsmtUnfSF\"]/all_data_preprocessed[\"skew__TotalBsmtSF\"]\n",
        "all_data_preprocessed[target] = list(all_data_fe[target])"
      ],
      "metadata": {
        "id": "0530wcPAM6Kd"
      },
      "execution_count": 41,
      "outputs": []
    },
    {
      "cell_type": "code",
      "source": [
        "train_X = all_data_preprocessed.iloc[:train.shape[0]][all_data_preprocessed.columns.drop(target)]\n",
        "train_y = pd.DataFrame(all_data_preprocessed.iloc[:train.shape[0]][target], columns=[target])\n",
        "test_X = all_data_preprocessed.iloc[train.shape[0]:][all_data_preprocessed.columns.drop(target)]\n",
        "cv = StratifiedKFold(n_splits=5, shuffle=True, random_state=1)\n",
        "model = lgb.LGBMRegressor()\n",
        "scores = cross_validate(model, train_X, train_y, scoring='neg_root_mean_squared_error', cv=cv, n_jobs=-1, error_score='raise', return_estimator=False) # model の状態を確認したい場合はreturn_estimator をTrueにする\n",
        "new_score = mean(scores[\"test_score\"])\n",
        "\n",
        "if original_score > new_score:\n",
        "  print(\"Original is better.\")\n",
        "else:\n",
        "  print(\"New score is better\")\n",
        "print(f\"Original:{score_mean}\\nNew:{new_score}\")"
      ],
      "metadata": {
        "id": "5VvX2o7DM6Kj",
        "colab": {
          "base_uri": "https://localhost:8080/"
        },
        "outputId": "896724c1-0f5b-4e07-f2ea-6f91b996f1a9"
      },
      "execution_count": 87,
      "outputs": [
        {
          "output_type": "stream",
          "name": "stdout",
          "text": [
            "New score is better\n",
            "Original:-29591.18786833986\n",
            "New:-29205.770016765142\n"
          ]
        }
      ]
    },
    {
      "cell_type": "markdown",
      "source": [
        "### 最後に改装もしくは建造されてからの年数\n",
        "\n",
        "\n"
      ],
      "metadata": {
        "id": "Ai9-8FTjQZ6V"
      }
    },
    {
      "cell_type": "code",
      "source": [
        "all_data_fe = all_data.copy()\n",
        "\n",
        "all_data_fe[\"YearSinceRemodel\"] = all_data_fe[\"YrSold\"] - all_data_fe[\"YearBuilt\"]\n",
        "categorical_cols, numerical_cols = get_num_cat_column_names(all_data_fe, target)\n",
        "skewed_features = get_skewed_column_names(all_data_fe, numerical_cols)\n",
        "# preprocessor = ColumnTransformer(transformers=[(\"num\", numeric_transformer, list(set(numerical_cols)-set(skewed_features))), (\"cat\", categorical_transformer, categorical_cols), (\"skew\", skewed_transformer, skewed_features)])\n",
        "\n",
        "all_data_preprocessed = pd.DataFrame(preprocessor.fit_transform(all_data_fe), columns=get_feature_names(preprocessor))\n",
        "all_data_preprocessed[target] = list(all_data_fe[target])"
      ],
      "metadata": {
        "id": "HAr3tZ0CQEqc"
      },
      "execution_count": 91,
      "outputs": []
    },
    {
      "cell_type": "code",
      "source": [
        "train_X = all_data_preprocessed.iloc[:train.shape[0]][all_data_preprocessed.columns.drop(target)]\n",
        "train_y = pd.DataFrame(all_data_preprocessed.iloc[:train.shape[0]][target], columns=[target])\n",
        "test_X = all_data_preprocessed.iloc[train.shape[0]:][all_data_preprocessed.columns.drop(target)]\n",
        "cv = StratifiedKFold(n_splits=5, shuffle=True, random_state=1)\n",
        "model = lgb.LGBMRegressor()\n",
        "scores = cross_validate(model, train_X, train_y, scoring='neg_root_mean_squared_error', cv=cv, n_jobs=-1, error_score='raise', return_estimator=False) # model の状態を確認したい場合はreturn_estimator をTrueにする\n",
        "new_score = mean(scores[\"test_score\"])\n",
        "\n",
        "if original_score > new_score:\n",
        "  print(\"Original is better.\")\n",
        "else:\n",
        "  print(\"New score is better\")\n",
        "print(f\"Original:{score_mean}\\nNew:{new_score}\")"
      ],
      "metadata": {
        "colab": {
          "base_uri": "https://localhost:8080/"
        },
        "id": "cLfIJ-ymRbGF",
        "outputId": "20f1c2ba-f093-456c-e1d4-d5a2a64daf41"
      },
      "execution_count": 89,
      "outputs": [
        {
          "output_type": "stream",
          "name": "stdout",
          "text": [
            "New score is better\n",
            "Original:-29591.18786833986\n",
            "New:-29205.770016765142\n"
          ]
        }
      ]
    },
    {
      "cell_type": "code",
      "source": [],
      "metadata": {
        "id": "v0AoS3MYRigV"
      },
      "execution_count": null,
      "outputs": []
    }
  ],
  "metadata": {
    "colab": {
      "provenance": [],
      "toc_visible": true
    },
    "kernelspec": {
      "display_name": "Python 3",
      "name": "python3"
    },
    "language_info": {
      "name": "python"
    }
  },
  "nbformat": 4,
  "nbformat_minor": 0
}