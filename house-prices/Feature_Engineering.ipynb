{
  "cells": [
    {
      "cell_type": "markdown",
      "source": [
        "## 特徴量のカンペはこちら ⇒ https://docs.google.com/spreadsheets/d/1T59ieP110cFg8MfOtIbW2M60iWuSwnIf/edit?usp=share_link&ouid=111727008586725963366&rtpof=true&sd=true"
      ],
      "metadata": {
        "id": "AXi4WtN9fjQh"
      }
    },
    {
      "cell_type": "markdown",
      "metadata": {
        "id": "g4PtisoVRRWv"
      },
      "source": [
        "## Kaggle用データのインポート"
      ]
    },
    {
      "cell_type": "code",
      "execution_count": 1,
      "metadata": {
        "colab": {
          "base_uri": "https://localhost:8080/",
          "height": 112
        },
        "id": "4dUr5pkUwu0U",
        "outputId": "5a381e8e-5564-4022-ebb4-f41e12bba481"
      },
      "outputs": [
        {
          "output_type": "stream",
          "name": "stdout",
          "text": [
            "Mounted at /content/drive\n"
          ]
        },
        {
          "output_type": "display_data",
          "data": {
            "text/plain": [
              "<IPython.core.display.HTML object>"
            ],
            "text/html": [
              "\n",
              "     <input type=\"file\" id=\"files-e4f77ae7-93e7-4ef4-91ca-375aeed96224\" name=\"files[]\" multiple disabled\n",
              "        style=\"border:none\" />\n",
              "     <output id=\"result-e4f77ae7-93e7-4ef4-91ca-375aeed96224\">\n",
              "      Upload widget is only available when the cell has been executed in the\n",
              "      current browser session. Please rerun this cell to enable.\n",
              "      </output>\n",
              "      <script>// Copyright 2017 Google LLC\n",
              "//\n",
              "// Licensed under the Apache License, Version 2.0 (the \"License\");\n",
              "// you may not use this file except in compliance with the License.\n",
              "// You may obtain a copy of the License at\n",
              "//\n",
              "//      http://www.apache.org/licenses/LICENSE-2.0\n",
              "//\n",
              "// Unless required by applicable law or agreed to in writing, software\n",
              "// distributed under the License is distributed on an \"AS IS\" BASIS,\n",
              "// WITHOUT WARRANTIES OR CONDITIONS OF ANY KIND, either express or implied.\n",
              "// See the License for the specific language governing permissions and\n",
              "// limitations under the License.\n",
              "\n",
              "/**\n",
              " * @fileoverview Helpers for google.colab Python module.\n",
              " */\n",
              "(function(scope) {\n",
              "function span(text, styleAttributes = {}) {\n",
              "  const element = document.createElement('span');\n",
              "  element.textContent = text;\n",
              "  for (const key of Object.keys(styleAttributes)) {\n",
              "    element.style[key] = styleAttributes[key];\n",
              "  }\n",
              "  return element;\n",
              "}\n",
              "\n",
              "// Max number of bytes which will be uploaded at a time.\n",
              "const MAX_PAYLOAD_SIZE = 100 * 1024;\n",
              "\n",
              "function _uploadFiles(inputId, outputId) {\n",
              "  const steps = uploadFilesStep(inputId, outputId);\n",
              "  const outputElement = document.getElementById(outputId);\n",
              "  // Cache steps on the outputElement to make it available for the next call\n",
              "  // to uploadFilesContinue from Python.\n",
              "  outputElement.steps = steps;\n",
              "\n",
              "  return _uploadFilesContinue(outputId);\n",
              "}\n",
              "\n",
              "// This is roughly an async generator (not supported in the browser yet),\n",
              "// where there are multiple asynchronous steps and the Python side is going\n",
              "// to poll for completion of each step.\n",
              "// This uses a Promise to block the python side on completion of each step,\n",
              "// then passes the result of the previous step as the input to the next step.\n",
              "function _uploadFilesContinue(outputId) {\n",
              "  const outputElement = document.getElementById(outputId);\n",
              "  const steps = outputElement.steps;\n",
              "\n",
              "  const next = steps.next(outputElement.lastPromiseValue);\n",
              "  return Promise.resolve(next.value.promise).then((value) => {\n",
              "    // Cache the last promise value to make it available to the next\n",
              "    // step of the generator.\n",
              "    outputElement.lastPromiseValue = value;\n",
              "    return next.value.response;\n",
              "  });\n",
              "}\n",
              "\n",
              "/**\n",
              " * Generator function which is called between each async step of the upload\n",
              " * process.\n",
              " * @param {string} inputId Element ID of the input file picker element.\n",
              " * @param {string} outputId Element ID of the output display.\n",
              " * @return {!Iterable<!Object>} Iterable of next steps.\n",
              " */\n",
              "function* uploadFilesStep(inputId, outputId) {\n",
              "  const inputElement = document.getElementById(inputId);\n",
              "  inputElement.disabled = false;\n",
              "\n",
              "  const outputElement = document.getElementById(outputId);\n",
              "  outputElement.innerHTML = '';\n",
              "\n",
              "  const pickedPromise = new Promise((resolve) => {\n",
              "    inputElement.addEventListener('change', (e) => {\n",
              "      resolve(e.target.files);\n",
              "    });\n",
              "  });\n",
              "\n",
              "  const cancel = document.createElement('button');\n",
              "  inputElement.parentElement.appendChild(cancel);\n",
              "  cancel.textContent = 'Cancel upload';\n",
              "  const cancelPromise = new Promise((resolve) => {\n",
              "    cancel.onclick = () => {\n",
              "      resolve(null);\n",
              "    };\n",
              "  });\n",
              "\n",
              "  // Wait for the user to pick the files.\n",
              "  const files = yield {\n",
              "    promise: Promise.race([pickedPromise, cancelPromise]),\n",
              "    response: {\n",
              "      action: 'starting',\n",
              "    }\n",
              "  };\n",
              "\n",
              "  cancel.remove();\n",
              "\n",
              "  // Disable the input element since further picks are not allowed.\n",
              "  inputElement.disabled = true;\n",
              "\n",
              "  if (!files) {\n",
              "    return {\n",
              "      response: {\n",
              "        action: 'complete',\n",
              "      }\n",
              "    };\n",
              "  }\n",
              "\n",
              "  for (const file of files) {\n",
              "    const li = document.createElement('li');\n",
              "    li.append(span(file.name, {fontWeight: 'bold'}));\n",
              "    li.append(span(\n",
              "        `(${file.type || 'n/a'}) - ${file.size} bytes, ` +\n",
              "        `last modified: ${\n",
              "            file.lastModifiedDate ? file.lastModifiedDate.toLocaleDateString() :\n",
              "                                    'n/a'} - `));\n",
              "    const percent = span('0% done');\n",
              "    li.appendChild(percent);\n",
              "\n",
              "    outputElement.appendChild(li);\n",
              "\n",
              "    const fileDataPromise = new Promise((resolve) => {\n",
              "      const reader = new FileReader();\n",
              "      reader.onload = (e) => {\n",
              "        resolve(e.target.result);\n",
              "      };\n",
              "      reader.readAsArrayBuffer(file);\n",
              "    });\n",
              "    // Wait for the data to be ready.\n",
              "    let fileData = yield {\n",
              "      promise: fileDataPromise,\n",
              "      response: {\n",
              "        action: 'continue',\n",
              "      }\n",
              "    };\n",
              "\n",
              "    // Use a chunked sending to avoid message size limits. See b/62115660.\n",
              "    let position = 0;\n",
              "    do {\n",
              "      const length = Math.min(fileData.byteLength - position, MAX_PAYLOAD_SIZE);\n",
              "      const chunk = new Uint8Array(fileData, position, length);\n",
              "      position += length;\n",
              "\n",
              "      const base64 = btoa(String.fromCharCode.apply(null, chunk));\n",
              "      yield {\n",
              "        response: {\n",
              "          action: 'append',\n",
              "          file: file.name,\n",
              "          data: base64,\n",
              "        },\n",
              "      };\n",
              "\n",
              "      let percentDone = fileData.byteLength === 0 ?\n",
              "          100 :\n",
              "          Math.round((position / fileData.byteLength) * 100);\n",
              "      percent.textContent = `${percentDone}% done`;\n",
              "\n",
              "    } while (position < fileData.byteLength);\n",
              "  }\n",
              "\n",
              "  // All done.\n",
              "  yield {\n",
              "    response: {\n",
              "      action: 'complete',\n",
              "    }\n",
              "  };\n",
              "}\n",
              "\n",
              "scope.google = scope.google || {};\n",
              "scope.google.colab = scope.google.colab || {};\n",
              "scope.google.colab._files = {\n",
              "  _uploadFiles,\n",
              "  _uploadFilesContinue,\n",
              "};\n",
              "})(self);\n",
              "</script> "
            ]
          },
          "metadata": {}
        },
        {
          "output_type": "stream",
          "name": "stdout",
          "text": [
            "Saving kaggle.json to kaggle.json\n"
          ]
        },
        {
          "output_type": "execute_result",
          "data": {
            "text/plain": [
              "{'kaggle.json': b'{\"username\":\"droeloe\",\"key\":\"c330037c8e955090c87e6872ec333b32\"}'}"
            ]
          },
          "metadata": {},
          "execution_count": 1
        }
      ],
      "source": [
        "from google.colab import drive\n",
        "drive.mount('/content/drive')\n",
        "\n",
        "COMPETITION = \"house-prices-advanced-regression-techniques\"\n",
        "WORK_DIR = \"/content/drive/MyDrive/Colab Notebooks/kaggle\"\n",
        "\n",
        "import os\n",
        "\n",
        "if not(os.path.exists(WORK_DIR)):\n",
        "  os.mkdir(WORK_DIR)\n",
        "os.chdir(WORK_DIR)\n",
        "\n",
        "from google.colab import files\n",
        "files.upload()"
      ]
    },
    {
      "cell_type": "code",
      "execution_count": 2,
      "metadata": {
        "colab": {
          "base_uri": "https://localhost:8080/"
        },
        "id": "Ejol7bfVxlgQ",
        "outputId": "afa2cfb7-dcc2-4068-9d8a-de2378be29cc"
      },
      "outputs": [
        {
          "output_type": "stream",
          "name": "stdout",
          "text": [
            "Downloading house-prices-advanced-regression-techniques.zip to /content/drive/MyDrive/Colab Notebooks/kaggle\n",
            "\r  0% 0.00/199k [00:00<?, ?B/s]\n",
            "\r100% 199k/199k [00:00<00:00, 31.4MB/s]\n",
            "Archive:  house-prices-advanced-regression-techniques.zip\n",
            "  inflating: data_description.txt    \n",
            "  inflating: sample_submission.csv   \n",
            "  inflating: test.csv                \n",
            "  inflating: train.csv               \n"
          ]
        }
      ],
      "source": [
        "!mkdir -p ~/.kaggle\n",
        "!mv kaggle.json ~/.kaggle/\n",
        "! chmod 600 ~/.kaggle/kaggle.json\n",
        "!kaggle competitions download -c {COMPETITION} # copy from competition page!\n",
        "!unzip -o {COMPETITION}\n",
        "!rm {COMPETITION}.zip"
      ]
    },
    {
      "cell_type": "markdown",
      "metadata": {
        "id": "3QuY8halx1Op"
      },
      "source": [
        "## ライブラリのインポート"
      ]
    },
    {
      "cell_type": "code",
      "execution_count": 3,
      "metadata": {
        "id": "Qwl5SkWexlu0"
      },
      "outputs": [],
      "source": [
        "import numpy as np\n",
        "import pandas as pd\n",
        "import matplotlib.pyplot as plt\n",
        "import matplotlib.gridspec as gridspec\n",
        "import seaborn as sns\n",
        "from numpy import mean, std\n",
        "\n",
        "import statsmodels.formula.api as smf\n",
        "from statsmodels.stats import power\n",
        "import statsmodels.api as sm\n",
        "from scipy import stats\n",
        "import math\n",
        "import random\n",
        "import warnings\n",
        "warnings.filterwarnings('ignore')\n",
        "\n",
        "from sklearn.impute import SimpleImputer\n",
        "from sklearn.metrics import accuracy_score\n",
        "from sklearn.preprocessing import LabelEncoder, OneHotEncoder, OrdinalEncoder\n",
        "from sklearn.preprocessing import StandardScaler, PowerTransformer\n",
        "from sklearn.model_selection import StratifiedKFold, train_test_split, KFold\n",
        "\n",
        "import plotly.express as px\n",
        "from plotly.subplots import make_subplots\n",
        "import plotly.graph_objects as go\n",
        "\n",
        "PALETTE=['lightcoral', 'lightskyblue', 'gold', 'sandybrown', 'navajowhite',\n",
        "        'khaki', 'lightslategrey', 'turquoise', 'rosybrown', 'thistle', 'pink']\n",
        "sns.set_palette(PALETTE) # seabornのデフォルトの色を変更する\n",
        "BACKCOLOR = '#f6f5f5'\n",
        "\n",
        "from scipy.special import boxcox1p\n",
        "from IPython.core.display import HTML\n",
        "from scipy.stats import norm, skew #for some statistics\n",
        "import missingno as msno\n",
        "from sklearn.impute import SimpleImputer\n",
        "from sklearn.feature_selection import mutual_info_regression\n",
        "from sklearn.feature_selection import SelectKBest, SelectPercentile\n",
        "from sklearn.feature_selection import chi2\n",
        "from sklearn.preprocessing import MinMaxScaler\n",
        "from sklearn.feature_selection import RFE\n",
        "from sklearn.linear_model import LogisticRegression\n",
        "import lightgbm as lgb\n",
        "from sklearn.feature_selection import SelectFromModel\n",
        "from sklearn.ensemble import RandomForestRegressor\n",
        "from sklearn.pipeline import Pipeline\n",
        "from sklearn.compose import ColumnTransformer\n",
        "from sklearn.model_selection import cross_val_score, cross_validate\n",
        "from sklearn.model_selection import RepeatedKFold\n",
        "from scipy.stats import skew, boxcox_normmax\n",
        "from scipy.special import boxcox1p\n",
        "\n",
        "from sklearn.neighbors import LocalOutlierFactor\n",
        "from sklearn.base import BaseEstimator, TransformerMixin\n",
        "from copy import deepcopy"
      ]
    },
    {
      "cell_type": "markdown",
      "metadata": {
        "id": "VvnspI2dk6Vi"
      },
      "source": [
        "### User modules"
      ]
    },
    {
      "cell_type": "code",
      "execution_count": 4,
      "metadata": {
        "id": "p1WYzSjVyzxG"
      },
      "outputs": [],
      "source": [
        "# 並び替え検定用の関数\n",
        "def perm_fun(x, nA, nB):\n",
        "    n = nA + nB\n",
        "    idx_B = set(random.sample(range(n), nB))\n",
        "    idx_A = set(range(n)) - idx_B\n",
        "    return x.loc[list(idx_B)].mean() - x.loc[list(idx_A)].mean()"
      ]
    },
    {
      "cell_type": "code",
      "execution_count": 5,
      "metadata": {
        "id": "PK8K5v9jvW-2"
      },
      "outputs": [],
      "source": [
        "# permutation test\n",
        "def permutation_test(data, var, target):\n",
        "\n",
        "  vA = data[var].dropna().unique()[0]\n",
        "  vB = data[var].dropna().unique()[1]\n",
        "  mean_a = data[data[var] == vA][target].mean()\n",
        "  mean_b = data[data[var] == vB][target].mean()\n",
        "  print(f\"{target} mean value with {var}={vA}: {mean_a}\")\n",
        "  print(f\"{target} mean value with {var}={vB}: {mean_b}\")\n",
        "  print(f\"{target} observed difference between ({var}={vA}) and ({var}={vB}): {mean_b - mean_a}\")\n",
        "  nA = data[data[var] == vA].shape[0]\n",
        "  nB = data[data[var] == vB].shape[0]\n",
        "\n",
        "  random.seed(1)\n",
        "  perm_diffs = pd.Series([perm_fun(data[target], nA, nB) for _ in range(1000)])\n",
        "  perm_diffs = perm_diffs.dropna()\n",
        "\n",
        "  fig, ax = plt.subplots(figsize=(5, 5))\n",
        "  ax.hist(perm_diffs, bins=11, rwidth=0.9)\n",
        "  ax.axvline(x = mean_b - mean_a, color='black', lw=2)\n",
        "  ax.text(mean_b - mean_a, 10, 'Observed\\ndifference', bbox={'facecolor':'white'})\n",
        "  ax.set_xlabel(f'{var} differences')\n",
        "  ax.set_ylabel('Frequency')\n",
        "\n",
        "  plt.tight_layout()\n",
        "  plt.show()\n",
        "\n",
        "  perm_diffs = np.array(perm_diffs)\n",
        "  print('p-value: ', (np.mean(perm_diffs > mean_b - mean_a)))"
      ]
    },
    {
      "cell_type": "code",
      "execution_count": 6,
      "metadata": {
        "id": "uwS3lLWzQcLp"
      },
      "outputs": [],
      "source": [
        "def multi_table(table_list):\n",
        "    return HTML(\n",
        "        f\"<table><tr> {''.join(['<td>' + table._repr_html_() + '</td>' for table in table_list])} </tr></table>\")"
      ]
    },
    {
      "cell_type": "code",
      "execution_count": 7,
      "metadata": {
        "id": "O1IzxNO-Qg_z"
      },
      "outputs": [],
      "source": [
        "def cat_dist(data, var, hue, msg_show=True):\n",
        "    total_cnt = data[var].count()\n",
        "    f, ax = plt.subplots(1, 2, figsize=(25, 8))\n",
        "    hues = [None, hue]\n",
        "    titles = [f\"{var}'s distribution\", f\"{var}'s distribution by {hue}\"]\n",
        "\n",
        "    for i in range(2):\n",
        "        sns.countplot(data[var], edgecolor='black', hue=hues[i], linewidth=1, ax=ax[i], data=data)\n",
        "        ax[i].set_xlabel(var, weight='bold', size=13)\n",
        "        ax[i].set_ylabel('Count', weight='bold', size=13)\n",
        "        ax[i].set_facecolor(BACKCOLOR)\n",
        "        ax[i].spines['top'].set_visible(False)\n",
        "        ax[i].spines['right'].set_visible(False)\n",
        "        ax[i].set_title(titles[i], size=15, weight='bold')\n",
        "        for patch in ax[i].patches:\n",
        "            x, height, width = patch.get_x(), patch.get_height(), patch.get_width()\n",
        "            if msg_show:\n",
        "                ax[i].text(x + width / 2, height + 3, f'{height} \\n({height / total_cnt * 100:2.2f}%)', va='center', ha='center', size=12, bbox={'facecolor': 'white', 'boxstyle': 'round'})\n",
        "    plt.show()"
      ]
    },
    {
      "cell_type": "code",
      "execution_count": 8,
      "metadata": {
        "id": "TIrhiw56QkPc"
      },
      "outputs": [],
      "source": [
        "def continuous_dist(data, x, y):\n",
        "    f, ax = plt.subplots(1, 4, figsize=(35, 10))\n",
        "    sns.histplot(data=train, x=y, hue=x, ax=ax[0], element='step')\n",
        "    sns.violinplot(x=data[x], y=data[y], ax=ax[1], edgecolor='black', linewidth=1)\n",
        "    sns.boxplot(x=data[x], y=data[y], ax=ax[2])\n",
        "    sns.stripplot(x=data[x], y=data[y], ax=ax[3])\n",
        "    for i in range(4):\n",
        "        ax[i].spines['top'].set_visible(False)\n",
        "        ax[i].spines['right'].set_visible(False)\n",
        "        ax[i].set_xlabel(x, weight='bold', size=20)\n",
        "        ax[i].set_ylabel(y, weight='bold', size=20)\n",
        "        ax[i].set_facecolor(BACKCOLOR)\n",
        "    f.suptitle(f\"{y}'s distribution by {x}\", weight='bold', size=25)\n",
        "    plt.show()"
      ]
    },
    {
      "cell_type": "code",
      "execution_count": 9,
      "metadata": {
        "id": "lJOOyi7WpmNe"
      },
      "outputs": [],
      "source": [
        "# ANOVA using permutation test\n",
        "# Image size が ～～～ のエラーが出た場合は logx = True に設定する\n",
        "def anova_perm(data, var, target, logx=False):\n",
        "\n",
        "  # Creating crosstab\n",
        "  crosstb = pd.crosstab(data[var], data[target])\n",
        "\n",
        "  # Creating barplot\n",
        "  # pl = crosstb.plot(kind=\"bar\", stacked=True, rot=0)\n",
        "\n",
        "  for col in data[var].unique():\n",
        "      try:\n",
        "          true_ratio = len(data[(data[var]==col)&(data[target]==True)]) / len(data[data[var]==col])\n",
        "      except:\n",
        "          break\n",
        "      print(col, true_ratio)\n",
        "\n",
        "  observed_variance = data.groupby(var).mean().var()[target] # グループごとの平均値を求め、その平均値の分散を計算している\n",
        "  print('Observed means:', data.groupby(var).mean()[target].values.ravel()) # ravel: 横方向の1次元のベクトルを返す\n",
        "  print('Variance:', observed_variance)\n",
        "  # Permutation test example with stickiness\n",
        "  def perm_test(data):\n",
        "      data = data.copy()\n",
        "      data[target] = np.random.permutation(data[target].values)\n",
        "      return data.groupby(var).mean().var()[target]\n",
        "\n",
        "  random.seed(1)\n",
        "  perm_variance = [perm_test(data) for _ in range(3000)]\n",
        "  print('Pr(Prob)', np.mean([var > observed_variance for var in perm_variance]))\n",
        "\n",
        "  if logx == True:\n",
        "    # 横長のグラフになってしまうので自然対数を取った（通常は下記2行は不要）\n",
        "    observed_variance_log = np.log(observed_variance)\n",
        "    perm_variance_log = np.log(perm_variance)\n",
        "\n",
        "    fig, ax = plt.subplots(figsize=(5, 5))\n",
        "    ax.hist(perm_variance_log, bins=11, rwidth=0.9)\n",
        "\n",
        "    # 横長のグラフになってしまうので自然対数を取った（通常はxにobserved_varianceを指定）\n",
        "    ax.axvline(x = observed_variance_log, color='black', lw=2)\n",
        "    ax.text(observed_variance, ax.get_ylim()[1]*0.8, 'Observed\\nvariance', bbox={'facecolor':'white'})\n",
        "    ax.set_xlabel('Variance')\n",
        "    ax.set_ylabel('Frequency')\n",
        "\n",
        "    plt.tight_layout()\n",
        "    plt.show()\n",
        "  else:\n",
        "    fig, ax = plt.subplots(figsize=(5, 5))\n",
        "    ax.hist(perm_variance, bins=11, rwidth=0.9)\n",
        "\n",
        "    ax.axvline(x = observed_variance, color='black', lw=2)\n",
        "    ax.text(observed_variance, ax.get_ylim()[1]*0.8, 'Observed\\nvariance', bbox={'facecolor':'white'})\n",
        "    ax.set_xlabel('Variance')\n",
        "    ax.set_ylabel('Frequency')\n",
        "\n",
        "    plt.tight_layout()\n",
        "    plt.show()"
      ]
    },
    {
      "cell_type": "code",
      "source": [
        "# column_transformer 利用後のカラム名を取得する関数\n",
        "def get_feature_names(column_transformer):\n",
        "    \"\"\"Get feature names from all transformers.\n",
        "    Returns\n",
        "    -------\n",
        "    feature_names : list of strings\n",
        "        Names of the features produced by transform.\n",
        "    \"\"\"\n",
        "    # Remove the internal helper function\n",
        "    #check_is_fitted(column_transformer)\n",
        "\n",
        "    # Turn loopkup into function for better handling with pipeline later\n",
        "    def get_names(trans):\n",
        "        # >> Original get_feature_names() method\n",
        "        if trans == 'drop' or (\n",
        "                hasattr(column, '__len__') and not len(column)):\n",
        "            return []\n",
        "        if trans == 'passthrough':\n",
        "            if hasattr(column_transformer, '_df_columns'):\n",
        "                if ((not isinstance(column, slice))\n",
        "                        and all(isinstance(col, str) for col in column)):\n",
        "                    return column\n",
        "                else:\n",
        "                    return column_transformer._df_columns[column]\n",
        "            else:\n",
        "                indices = np.arange(column_transformer._n_features)\n",
        "                return ['x%d' % i for i in indices[column]]\n",
        "        if not hasattr(trans, 'get_feature_names'):\n",
        "        # >>> Change: Return input column names if no method avaiable\n",
        "            # Turn error into a warning\n",
        "            warnings.warn(\"Transformer %s (type %s) does not \"\n",
        "                                 \"provide get_feature_names. \"\n",
        "                                 \"Will return input column names if available\"\n",
        "                                 % (str(name), type(trans).__name__))\n",
        "            # For transformers without a get_features_names method, use the input\n",
        "            # names to the column transformer\n",
        "            if column is None:\n",
        "                return []\n",
        "            else:\n",
        "                return [name + \"__\" + f for f in column]\n",
        "\n",
        "        return [name + \"__\" + f for f in trans.get_feature_names()]\n",
        "\n",
        "    ### Start of processing\n",
        "    feature_names = []\n",
        "\n",
        "    # Allow transformers to be pipelines. Pipeline steps are named differently, so preprocessing is needed\n",
        "    if type(column_transformer) == Pipeline:\n",
        "        l_transformers = [(name, trans, None, None) for step, name, trans in column_transformer._iter()]\n",
        "    else:\n",
        "        # For column transformers, follow the original method\n",
        "        l_transformers = list(column_transformer._iter(fitted=True))\n",
        "\n",
        "\n",
        "    for name, trans, column, _ in l_transformers:\n",
        "        if type(trans) == Pipeline:\n",
        "            # Recursive call on pipeline\n",
        "            _names = get_feature_names(trans)\n",
        "            # if pipeline has no transformer that returns names\n",
        "            if len(_names)==0:\n",
        "                _names = [name + \"__\" + f for f in column]\n",
        "            feature_names.extend(_names)\n",
        "        else:\n",
        "            feature_names.extend(get_names(trans))\n",
        "\n",
        "    return feature_names\n",
        "# get_feature_names(preprocessor)"
      ],
      "metadata": {
        "id": "kRCCF9crjuF3"
      },
      "execution_count": 10,
      "outputs": []
    },
    {
      "cell_type": "code",
      "source": [
        "def scatter_hist(data, xlabel, ylabel):\n",
        "  x = data[xlabel]\n",
        "  y = data[ylabel]\n",
        "\n",
        "  fig = plt.figure(figsize=(8,8))\n",
        "  gs = gridspec.GridSpec(3, 3)\n",
        "  ax_main = plt.subplot(gs[1:3, :2])\n",
        "  ax_xDist = plt.subplot(gs[0, :2],sharex=ax_main)\n",
        "  ax_yDist = plt.subplot(gs[1:3, 2],sharey=ax_main)\n",
        "\n",
        "  ax_main.scatter(x,y,marker='.')\n",
        "  ax_main.set(xlabel=xlabel, ylabel=ylabel)\n",
        "\n",
        "  ax_xDist.hist(x,bins=100,align='mid')\n",
        "  ax_xDist.set(ylabel='count')\n",
        "  ax_xCumDist = ax_xDist.twinx()\n",
        "  ax_xCumDist.hist(x,bins=100,cumulative=True,histtype='step',density=True,color='r',align='mid')\n",
        "  ax_xCumDist.tick_params('y', colors='r')\n",
        "  ax_xCumDist.set_ylabel('cumulative',color='r')\n",
        "\n",
        "  ax_yDist.hist(y,bins=100,orientation='horizontal',align='mid')\n",
        "  ax_yDist.set(xlabel='count')\n",
        "  ax_yCumDist = ax_yDist.twiny()\n",
        "  ax_yCumDist.hist(y,bins=100,cumulative=True,histtype='step',density=True,color='r',align='mid',orientation='horizontal')\n",
        "  ax_yCumDist.tick_params('x', colors='r')\n",
        "  ax_yCumDist.set_xlabel('cumulative',color='r')\n",
        "\n",
        "  plt.show()"
      ],
      "metadata": {
        "id": "8nYZEi_kz6rJ"
      },
      "execution_count": 11,
      "outputs": []
    },
    {
      "cell_type": "markdown",
      "metadata": {
        "id": "rD1J7WwsQymh"
      },
      "source": [
        "## データのダウンロード"
      ]
    },
    {
      "cell_type": "code",
      "execution_count": 12,
      "metadata": {
        "id": "_qJslWxbx52t"
      },
      "outputs": [],
      "source": [
        "train = pd.read_csv(\"train.csv\")\n",
        "test = pd.read_csv(\"test.csv\")\n",
        "submission = pd.read_csv(\"sample_submission.csv\")\n",
        "\n",
        "all_data = pd.concat([train, test], axis=0)"
      ]
    },
    {
      "cell_type": "code",
      "execution_count": 13,
      "metadata": {
        "colab": {
          "base_uri": "https://localhost:8080/"
        },
        "id": "uzg1avyoRM_X",
        "outputId": "eb4cfc53-de5d-403e-a5e1-c42cda3a2813"
      },
      "outputs": [
        {
          "output_type": "stream",
          "name": "stdout",
          "text": [
            "\u001b[32mtrain size : 1460 x 81\n",
            "\u001b[32mtest size : 1459 x 80\n",
            "\u001b[32mtotal size : 2919 x 81\n"
          ]
        }
      ],
      "source": [
        "print(f'\\033[32mtrain size : {train.shape[0]} x {train.shape[1]}')\n",
        "print(f'\\033[32mtest size : {test.shape[0]} x {test.shape[1]}')\n",
        "print(f'\\033[32mtotal size : {all_data.shape[0]} x {all_data.shape[1]}')"
      ]
    },
    {
      "cell_type": "markdown",
      "metadata": {
        "id": "3NDIkMcR50pd"
      },
      "source": [
        "## カテゴリ変数の定義"
      ]
    },
    {
      "cell_type": "markdown",
      "metadata": {
        "id": "MZhlwcWViuvU"
      },
      "source": [
        "### 量的変数、カテゴリ変数の定義\n",
        "自動で数的変数、カテゴリ変数、名義尺度 等を判別する"
      ]
    },
    {
      "cell_type": "code",
      "source": [
        "categorical_cols = []\n",
        "numerical_cols = []\n",
        "for i in all_data.columns.tolist():\n",
        "    if all_data[i].dtype=='object':\n",
        "        categorical_cols.append(i)\n",
        "    else:\n",
        "        numerical_cols.append(i)\n",
        "print('Number of categorical features:', str(len(categorical_cols)))\n",
        "print('Number of numerical features:', str(len(numerical_cols)))"
      ],
      "metadata": {
        "colab": {
          "base_uri": "https://localhost:8080/"
        },
        "id": "bgfugrvRqzrq",
        "outputId": "f0f8cec4-04c2-4bd8-acb2-505467401b48"
      },
      "execution_count": 14,
      "outputs": [
        {
          "output_type": "stream",
          "name": "stdout",
          "text": [
            "Number of categorical features: 43\n",
            "Number of numerical features: 38\n"
          ]
        }
      ]
    },
    {
      "cell_type": "markdown",
      "metadata": {
        "id": "WCNXVM0wLCiL"
      },
      "source": [
        "# データの概形確認"
      ]
    },
    {
      "cell_type": "markdown",
      "metadata": {
        "id": "Mf7qCG7QLISE"
      },
      "source": [
        "## 欠損値の確認"
      ]
    },
    {
      "cell_type": "code",
      "execution_count": 15,
      "metadata": {
        "colab": {
          "base_uri": "https://localhost:8080/",
          "height": 627
        },
        "id": "DQRUIVdJLK-3",
        "outputId": "7328a98c-6607-4025-cb37-2631f9ef5d68"
      },
      "outputs": [
        {
          "output_type": "execute_result",
          "data": {
            "text/plain": [
              "<Axes: >"
            ]
          },
          "metadata": {},
          "execution_count": 15
        },
        {
          "output_type": "display_data",
          "data": {
            "text/plain": [
              "<Figure size 2500x1000 with 2 Axes>"
            ],
            "image/png": "[encoded data removed]"
          },
          "metadata": {}
        }
      ],
      "source": [
        "msno.matrix(all_data)"
      ]
    },
    {
      "cell_type": "markdown",
      "source": [
        "# 現時点でのスコアを確認する（0.13489）"
      ],
      "metadata": {
        "id": "YWukP6LS_0o_"
      }
    },
    {
      "cell_type": "markdown",
      "source": [
        "### categorical や numerical の定義"
      ],
      "metadata": {
        "id": "vx9-LrIMFl-0"
      }
    },
    {
      "cell_type": "code",
      "source": [
        "target = \"SalePrice\"\n",
        "feature_cols = all_data.columns.drop(target)\n",
        "\n",
        "all_data[\"MSSubClass\"] = all_data[\"MSSubClass\"].astype(\"object\")\n",
        "\n",
        "categorical_cols = []\n",
        "numerical_cols = []\n",
        "for i in feature_cols:\n",
        "    if all_data[i].dtype=='object':\n",
        "        categorical_cols.append(i)\n",
        "    else:\n",
        "        numerical_cols.append(i)\n",
        "\n",
        "print('Number of categorical features:', str(len(categorical_cols)))\n",
        "print('Number of numerical features:', str(len(numerical_cols)))\n",
        "print(categorical_cols)\n",
        "print(numerical_cols)"
      ],
      "metadata": {
        "colab": {
          "base_uri": "https://localhost:8080/"
        },
        "id": "xMllquDqFxGK",
        "outputId": "e1674403-e65f-4d82-886a-b23f49ca08da"
      },
      "execution_count": 16,
      "outputs": [
        {
          "output_type": "stream",
          "name": "stdout",
          "text": [
            "Number of categorical features: 44\n",
            "Number of numerical features: 36\n",
            "['MSSubClass', 'MSZoning', 'Street', 'Alley', 'LotShape', 'LandContour', 'Utilities', 'LotConfig', 'LandSlope', 'Neighborhood', 'Condition1', 'Condition2', 'BldgType', 'HouseStyle', 'RoofStyle', 'RoofMatl', 'Exterior1st', 'Exterior2nd', 'MasVnrType', 'ExterQual', 'ExterCond', 'Foundation', 'BsmtQual', 'BsmtCond', 'BsmtExposure', 'BsmtFinType1', 'BsmtFinType2', 'Heating', 'HeatingQC', 'CentralAir', 'Electrical', 'KitchenQual', 'Functional', 'FireplaceQu', 'GarageType', 'GarageFinish', 'GarageQual', 'GarageCond', 'PavedDrive', 'PoolQC', 'Fence', 'MiscFeature', 'SaleType', 'SaleCondition']\n",
            "['Id', 'LotFrontage', 'LotArea', 'OverallQual', 'OverallCond', 'YearBuilt', 'YearRemodAdd', 'MasVnrArea', 'BsmtFinSF1', 'BsmtFinSF2', 'BsmtUnfSF', 'TotalBsmtSF', '1stFlrSF', '2ndFlrSF', 'LowQualFinSF', 'GrLivArea', 'BsmtFullBath', 'BsmtHalfBath', 'FullBath', 'HalfBath', 'BedroomAbvGr', 'KitchenAbvGr', 'TotRmsAbvGrd', 'Fireplaces', 'GarageYrBlt', 'GarageCars', 'GarageArea', 'WoodDeckSF', 'OpenPorchSF', 'EnclosedPorch', '3SsnPorch', 'ScreenPorch', 'PoolArea', 'MiscVal', 'MoSold', 'YrSold']\n"
          ]
        }
      ]
    },
    {
      "cell_type": "code",
      "source": [
        "def get_num_cat_column_names(df, target):\n",
        "  feature_cols = df.columns.drop(target)\n",
        "  categorical_cols = []\n",
        "  numerical_cols = []\n",
        "  for i in feature_cols:\n",
        "      if df[i].dtype=='object':\n",
        "          categorical_cols.append(i)\n",
        "      else:\n",
        "          numerical_cols.append(i)\n",
        "\n",
        "  return categorical_cols, numerical_cols"
      ],
      "metadata": {
        "id": "7heiTuQJTzjI"
      },
      "execution_count": 17,
      "outputs": []
    },
    {
      "cell_type": "markdown",
      "source": [
        "### BoxCox変換する特徴量を決める"
      ],
      "metadata": {
        "id": "C_PVFbzKHmFt"
      }
    },
    {
      "cell_type": "code",
      "source": [
        "# Check the skew of all numerical features\n",
        "skewed_feats = all_data[numerical_cols].apply(lambda x: skew(x.dropna())).sort_values(ascending=False)\n",
        "print(\"\\nSkew in numerical features: \\n\")\n",
        "skewness = pd.DataFrame({'Skew' :skewed_feats})\n",
        "skewness = skewness[skewness.abs() > 0.75]\n",
        "skewness.dropna(inplace=True)\n",
        "skewed_features = skewness.index.copy()\n",
        "print(\"There are {} skewed numerical features to Box Cox transform\".format(skewness.shape[0]))"
      ],
      "metadata": {
        "colab": {
          "base_uri": "https://localhost:8080/"
        },
        "outputId": "eb90fade-ffae-4903-e157-816718a7242f",
        "id": "rf8XrauiHUVv"
      },
      "execution_count": 18,
      "outputs": [
        {
          "output_type": "stream",
          "name": "stdout",
          "text": [
            "\n",
            "Skew in numerical features: \n",
            "\n",
            "There are 21 skewed numerical features to Box Cox transform\n"
          ]
        }
      ]
    },
    {
      "cell_type": "code",
      "source": [
        "def get_skewed_column_names(df, numerical_cols):\n",
        "  skewed_feats = df[numerical_cols].apply(lambda x: skew(x.dropna())).sort_values(ascending=False)\n",
        "  skewness = pd.DataFrame({'Skew' :skewed_feats})\n",
        "  skewness = skewness[skewness.abs() > 0.75]\n",
        "  skewness.dropna(inplace=True)\n",
        "  skewed_features = skewness.index.copy()\n",
        "\n",
        "  new_numerical_cols = numerical_cols.copy()\n",
        "  for col in skewed_features:\n",
        "    new_numerical_cols.remove(col)\n",
        "\n",
        "  return skewed_features, new_numerical_cols"
      ],
      "metadata": {
        "id": "ZxwziBzPUvgN"
      },
      "execution_count": 19,
      "outputs": []
    },
    {
      "cell_type": "markdown",
      "source": [
        "### Preprocessor"
      ],
      "metadata": {
        "id": "nrx32forAz_d"
      }
    },
    {
      "cell_type": "code",
      "source": [
        "# 量的変数の前処理\n",
        "numeric_transformer = Pipeline(steps=[('num_imputer', SimpleImputer(strategy=\"median\")), (\"scaler\", StandardScaler())])\n",
        "skewed_transformer = Pipeline(steps=[('num_imputer', SimpleImputer(strategy=\"median\")), (\"scaler\", StandardScaler()), (\"power\", PowerTransformer(method='yeo-johnson'))])\n",
        "\n",
        "# カテゴリ変数の前処理\n",
        "categorical_transformer = Pipeline(steps=[(\"cat_imputer\", SimpleImputer(strategy=\"constant\", fill_value=\"unknown\")), (\"encoder\", OrdinalEncoder())])\n",
        "\n",
        "# ColumnTransformerの作成\n",
        "preprocessor = ColumnTransformer(transformers=[(\"num\", numeric_transformer, list(set(numerical_cols)-set(skewed_features))), (\"cat\", categorical_transformer, categorical_cols), (\"skew\", skewed_transformer, skewed_features)])"
      ],
      "metadata": {
        "id": "rHce1aTQA2yy"
      },
      "execution_count": 20,
      "outputs": []
    },
    {
      "cell_type": "markdown",
      "source": [
        "### Define Pipeline"
      ],
      "metadata": {
        "id": "bHu6vgAsCPzO"
      }
    },
    {
      "cell_type": "code",
      "source": [
        "model = lgb.LGBMRegressor()\n",
        "pipe = Pipeline(steps=[('preprocessor',preprocessor),('model',model)])\n",
        "pipe"
      ],
      "metadata": {
        "id": "CqPm1ZIkVYyv",
        "colab": {
          "base_uri": "https://localhost:8080/",
          "height": 262
        },
        "outputId": "07398abd-6c4c-4bd7-db7e-25be636bd025"
      },
      "execution_count": 21,
      "outputs": [
        {
          "output_type": "execute_result",
          "data": {
            "text/plain": [
              "Pipeline(steps=[('preprocessor',\n",
              "                 ColumnTransformer(transformers=[('num',\n",
              "                                                  Pipeline(steps=[('num_imputer',\n",
              "                                                                   SimpleImputer(strategy='median')),\n",
              "                                                                  ('scaler',\n",
              "                                                                   StandardScaler())]),\n",
              "                                                  ['OverallCond', 'GarageYrBlt',\n",
              "                                                   'OverallQual', 'Id',\n",
              "                                                   'BedroomAbvGr', 'MoSold',\n",
              "                                                   'YrSold', 'GarageArea',\n",
              "                                                   'GarageCars', 'BsmtFullBath',\n",
              "                                                   'FullBath', 'Fireplaces',\n",
              "                                                   'YearBuilt', 'YearRemodAdd',\n",
              "                                                   'HalfBath']...\n",
              "                                                                   PowerTransformer())]),\n",
              "                                                  Index(['MiscVal', 'PoolArea', 'LotArea', 'LowQualFinSF', '3SsnPorch',\n",
              "       'KitchenAbvGr', 'BsmtFinSF2', 'EnclosedPorch', 'ScreenPorch',\n",
              "       'BsmtHalfBath', 'MasVnrArea', 'OpenPorchSF', 'WoodDeckSF',\n",
              "       'LotFrontage', '1stFlrSF', 'BsmtFinSF1', 'GrLivArea', 'TotalBsmtSF',\n",
              "       'BsmtUnfSF', '2ndFlrSF', 'TotRmsAbvGrd'],\n",
              "      dtype='object'))])),\n",
              "                ('model', LGBMRegressor())])"
            ],
            "text/html": [
              "<style>#sk-container-id-1 {color: black;background-color: white;}#sk-container-id-1 pre{padding: 0;}#sk-container-id-1 div.sk-toggleable {background-color: white;}#sk-container-id-1 label.sk-toggleable__label {cursor: pointer;display: block;width: 100%;margin-bottom: 0;padding: 0.3em;box-sizing: border-box;text-align: center;}#sk-container-id-1 label.sk-toggleable__label-arrow:before {content: \"▸\";float: left;margin-right: 0.25em;color: #696969;}#sk-container-id-1 label.sk-toggleable__label-arrow:hover:before {color: black;}#sk-container-id-1 div.sk-estimator:hover label.sk-toggleable__label-arrow:before {color: black;}#sk-container-id-1 div.sk-toggleable__content {max-height: 0;max-width: 0;overflow: hidden;text-align: left;background-color: #f0f8ff;}#sk-container-id-1 div.sk-toggleable__content pre {margin: 0.2em;color: black;border-radius: 0.25em;background-color: #f0f8ff;}#sk-container-id-1 input.sk-toggleable__control:checked~div.sk-toggleable__content {max-height: 200px;max-width: 100%;overflow: auto;}#sk-container-id-1 input.sk-toggleable__control:checked~label.sk-toggleable__label-arrow:before {content: \"▾\";}#sk-container-id-1 div.sk-estimator input.sk-toggleable__control:checked~label.sk-toggleable__label {background-color: #d4ebff;}#sk-container-id-1 div.sk-label input.sk-toggleable__control:checked~label.sk-toggleable__label {background-color: #d4ebff;}#sk-container-id-1 input.sk-hidden--visually {border: 0;clip: rect(1px 1px 1px 1px);clip: rect(1px, 1px, 1px, 1px);height: 1px;margin: -1px;overflow: hidden;padding: 0;position: absolute;width: 1px;}#sk-container-id-1 div.sk-estimator {font-family: monospace;background-color: #f0f8ff;border: 1px dotted black;border-radius: 0.25em;box-sizing: border-box;margin-bottom: 0.5em;}#sk-container-id-1 div.sk-estimator:hover {background-color: #d4ebff;}#sk-container-id-1 div.sk-parallel-item::after {content: \"\";width: 100%;border-bottom: 1px solid gray;flex-grow: 1;}#sk-container-id-1 div.sk-label:hover label.sk-toggleable__label {background-color: #d4ebff;}#sk-container-id-1 div.sk-serial::before {content: \"\";position: absolute;border-left: 1px solid gray;box-sizing: border-box;top: 0;bottom: 0;left: 50%;z-index: 0;}#sk-container-id-1 div.sk-serial {display: flex;flex-direction: column;align-items: center;background-color: white;padding-right: 0.2em;padding-left: 0.2em;position: relative;}#sk-container-id-1 div.sk-item {position: relative;z-index: 1;}#sk-container-id-1 div.sk-parallel {display: flex;align-items: stretch;justify-content: center;background-color: white;position: relative;}#sk-container-id-1 div.sk-item::before, #sk-container-id-1 div.sk-parallel-item::before {content: \"\";position: absolute;border-left: 1px solid gray;box-sizing: border-box;top: 0;bottom: 0;left: 50%;z-index: -1;}#sk-container-id-1 div.sk-parallel-item {display: flex;flex-direction: column;z-index: 1;position: relative;background-color: white;}#sk-container-id-1 div.sk-parallel-item:first-child::after {align-self: flex-end;width: 50%;}#sk-container-id-1 div.sk-parallel-item:last-child::after {align-self: flex-start;width: 50%;}#sk-container-id-1 div.sk-parallel-item:only-child::after {width: 0;}#sk-container-id-1 div.sk-dashed-wrapped {border: 1px dashed gray;margin: 0 0.4em 0.5em 0.4em;box-sizing: border-box;padding-bottom: 0.4em;background-color: white;}#sk-container-id-1 div.sk-label label {font-family: monospace;font-weight: bold;display: inline-block;line-height: 1.2em;}#sk-container-id-1 div.sk-label-container {text-align: center;}#sk-container-id-1 div.sk-container {/* jupyter's `normalize.less` sets `[hidden] { display: none; }` but bootstrap.min.css set `[hidden] { display: none !important; }` so we also need the `!important` here to be able to override the default hidden behavior on the sphinx rendered scikit-learn.org. See: https://github.com/scikit-learn/scikit-learn/issues/21755 */display: inline-block !important;position: relative;}#sk-container-id-1 div.sk-text-repr-fallback {display: none;}</style><div id=\"sk-container-id-1\" class=\"sk-top-container\"><div class=\"sk-text-repr-fallback\"><pre>Pipeline(steps=[(&#x27;preprocessor&#x27;,\n",
              "                 ColumnTransformer(transformers=[(&#x27;num&#x27;,\n",
              "                                                  Pipeline(steps=[(&#x27;num_imputer&#x27;,\n",
              "                                                                   SimpleImputer(strategy=&#x27;median&#x27;)),\n",
              "                                                                  (&#x27;scaler&#x27;,\n",
              "                                                                   StandardScaler())]),\n",
              "                                                  [&#x27;OverallCond&#x27;, &#x27;GarageYrBlt&#x27;,\n",
              "                                                   &#x27;OverallQual&#x27;, &#x27;Id&#x27;,\n",
              "                                                   &#x27;BedroomAbvGr&#x27;, &#x27;MoSold&#x27;,\n",
              "                                                   &#x27;YrSold&#x27;, &#x27;GarageArea&#x27;,\n",
              "                                                   &#x27;GarageCars&#x27;, &#x27;BsmtFullBath&#x27;,\n",
              "                                                   &#x27;FullBath&#x27;, &#x27;Fireplaces&#x27;,\n",
              "                                                   &#x27;YearBuilt&#x27;, &#x27;YearRemodAdd&#x27;,\n",
              "                                                   &#x27;HalfBath&#x27;]...\n",
              "                                                                   PowerTransformer())]),\n",
              "                                                  Index([&#x27;MiscVal&#x27;, &#x27;PoolArea&#x27;, &#x27;LotArea&#x27;, &#x27;LowQualFinSF&#x27;, &#x27;3SsnPorch&#x27;,\n",
              "       &#x27;KitchenAbvGr&#x27;, &#x27;BsmtFinSF2&#x27;, &#x27;EnclosedPorch&#x27;, &#x27;ScreenPorch&#x27;,\n",
              "       &#x27;BsmtHalfBath&#x27;, &#x27;MasVnrArea&#x27;, &#x27;OpenPorchSF&#x27;, &#x27;WoodDeckSF&#x27;,\n",
              "       &#x27;LotFrontage&#x27;, &#x27;1stFlrSF&#x27;, &#x27;BsmtFinSF1&#x27;, &#x27;GrLivArea&#x27;, &#x27;TotalBsmtSF&#x27;,\n",
              "       &#x27;BsmtUnfSF&#x27;, &#x27;2ndFlrSF&#x27;, &#x27;TotRmsAbvGrd&#x27;],\n",
              "      dtype=&#x27;object&#x27;))])),\n",
              "                (&#x27;model&#x27;, LGBMRegressor())])</pre><b>In a Jupyter environment, please rerun this cell to show the HTML representation or trust the notebook. <br />On GitHub, the HTML representation is unable to render, please try loading this page with nbviewer.org.</b></div><div class=\"sk-container\" hidden><div class=\"sk-item sk-dashed-wrapped\"><div class=\"sk-label-container\"><div class=\"sk-label sk-toggleable\"><input class=\"sk-toggleable__control sk-hidden--visually\" id=\"sk-estimator-id-1\" type=\"checkbox\" ><label for=\"sk-estimator-id-1\" class=\"sk-toggleable__label sk-toggleable__label-arrow\">Pipeline</label><div class=\"sk-toggleable__content\"><pre>Pipeline(steps=[(&#x27;preprocessor&#x27;,\n",
              "                 ColumnTransformer(transformers=[(&#x27;num&#x27;,\n",
              "                                                  Pipeline(steps=[(&#x27;num_imputer&#x27;,\n",
              "                                                                   SimpleImputer(strategy=&#x27;median&#x27;)),\n",
              "                                                                  (&#x27;scaler&#x27;,\n",
              "                                                                   StandardScaler())]),\n",
              "                                                  [&#x27;OverallCond&#x27;, &#x27;GarageYrBlt&#x27;,\n",
              "                                                   &#x27;OverallQual&#x27;, &#x27;Id&#x27;,\n",
              "                                                   &#x27;BedroomAbvGr&#x27;, &#x27;MoSold&#x27;,\n",
              "                                                   &#x27;YrSold&#x27;, &#x27;GarageArea&#x27;,\n",
              "                                                   &#x27;GarageCars&#x27;, &#x27;BsmtFullBath&#x27;,\n",
              "                                                   &#x27;FullBath&#x27;, &#x27;Fireplaces&#x27;,\n",
              "                                                   &#x27;YearBuilt&#x27;, &#x27;YearRemodAdd&#x27;,\n",
              "                                                   &#x27;HalfBath&#x27;]...\n",
              "                                                                   PowerTransformer())]),\n",
              "                                                  Index([&#x27;MiscVal&#x27;, &#x27;PoolArea&#x27;, &#x27;LotArea&#x27;, &#x27;LowQualFinSF&#x27;, &#x27;3SsnPorch&#x27;,\n",
              "       &#x27;KitchenAbvGr&#x27;, &#x27;BsmtFinSF2&#x27;, &#x27;EnclosedPorch&#x27;, &#x27;ScreenPorch&#x27;,\n",
              "       &#x27;BsmtHalfBath&#x27;, &#x27;MasVnrArea&#x27;, &#x27;OpenPorchSF&#x27;, &#x27;WoodDeckSF&#x27;,\n",
              "       &#x27;LotFrontage&#x27;, &#x27;1stFlrSF&#x27;, &#x27;BsmtFinSF1&#x27;, &#x27;GrLivArea&#x27;, &#x27;TotalBsmtSF&#x27;,\n",
              "       &#x27;BsmtUnfSF&#x27;, &#x27;2ndFlrSF&#x27;, &#x27;TotRmsAbvGrd&#x27;],\n",
              "      dtype=&#x27;object&#x27;))])),\n",
              "                (&#x27;model&#x27;, LGBMRegressor())])</pre></div></div></div><div class=\"sk-serial\"><div class=\"sk-item sk-dashed-wrapped\"><div class=\"sk-label-container\"><div class=\"sk-label sk-toggleable\"><input class=\"sk-toggleable__control sk-hidden--visually\" id=\"sk-estimator-id-2\" type=\"checkbox\" ><label for=\"sk-estimator-id-2\" class=\"sk-toggleable__label sk-toggleable__label-arrow\">preprocessor: ColumnTransformer</label><div class=\"sk-toggleable__content\"><pre>ColumnTransformer(transformers=[(&#x27;num&#x27;,\n",
              "                                 Pipeline(steps=[(&#x27;num_imputer&#x27;,\n",
              "                                                  SimpleImputer(strategy=&#x27;median&#x27;)),\n",
              "                                                 (&#x27;scaler&#x27;, StandardScaler())]),\n",
              "                                 [&#x27;OverallCond&#x27;, &#x27;GarageYrBlt&#x27;, &#x27;OverallQual&#x27;,\n",
              "                                  &#x27;Id&#x27;, &#x27;BedroomAbvGr&#x27;, &#x27;MoSold&#x27;, &#x27;YrSold&#x27;,\n",
              "                                  &#x27;GarageArea&#x27;, &#x27;GarageCars&#x27;, &#x27;BsmtFullBath&#x27;,\n",
              "                                  &#x27;FullBath&#x27;, &#x27;Fireplaces&#x27;, &#x27;YearBuilt&#x27;,\n",
              "                                  &#x27;YearRemodAdd&#x27;, &#x27;HalfBath&#x27;]),\n",
              "                                (&#x27;cat&#x27;,\n",
              "                                 Pipeline(steps=[(&#x27;cat_i...\n",
              "                                                 (&#x27;scaler&#x27;, StandardScaler()),\n",
              "                                                 (&#x27;power&#x27;,\n",
              "                                                  PowerTransformer())]),\n",
              "                                 Index([&#x27;MiscVal&#x27;, &#x27;PoolArea&#x27;, &#x27;LotArea&#x27;, &#x27;LowQualFinSF&#x27;, &#x27;3SsnPorch&#x27;,\n",
              "       &#x27;KitchenAbvGr&#x27;, &#x27;BsmtFinSF2&#x27;, &#x27;EnclosedPorch&#x27;, &#x27;ScreenPorch&#x27;,\n",
              "       &#x27;BsmtHalfBath&#x27;, &#x27;MasVnrArea&#x27;, &#x27;OpenPorchSF&#x27;, &#x27;WoodDeckSF&#x27;,\n",
              "       &#x27;LotFrontage&#x27;, &#x27;1stFlrSF&#x27;, &#x27;BsmtFinSF1&#x27;, &#x27;GrLivArea&#x27;, &#x27;TotalBsmtSF&#x27;,\n",
              "       &#x27;BsmtUnfSF&#x27;, &#x27;2ndFlrSF&#x27;, &#x27;TotRmsAbvGrd&#x27;],\n",
              "      dtype=&#x27;object&#x27;))])</pre></div></div></div><div class=\"sk-parallel\"><div class=\"sk-parallel-item\"><div class=\"sk-item\"><div class=\"sk-label-container\"><div class=\"sk-label sk-toggleable\"><input class=\"sk-toggleable__control sk-hidden--visually\" id=\"sk-estimator-id-3\" type=\"checkbox\" ><label for=\"sk-estimator-id-3\" class=\"sk-toggleable__label sk-toggleable__label-arrow\">num</label><div class=\"sk-toggleable__content\"><pre>[&#x27;OverallCond&#x27;, &#x27;GarageYrBlt&#x27;, &#x27;OverallQual&#x27;, &#x27;Id&#x27;, &#x27;BedroomAbvGr&#x27;, &#x27;MoSold&#x27;, &#x27;YrSold&#x27;, &#x27;GarageArea&#x27;, &#x27;GarageCars&#x27;, &#x27;BsmtFullBath&#x27;, &#x27;FullBath&#x27;, &#x27;Fireplaces&#x27;, &#x27;YearBuilt&#x27;, &#x27;YearRemodAdd&#x27;, &#x27;HalfBath&#x27;]</pre></div></div></div><div class=\"sk-serial\"><div class=\"sk-item\"><div class=\"sk-serial\"><div class=\"sk-item\"><div class=\"sk-estimator sk-toggleable\"><input class=\"sk-toggleable__control sk-hidden--visually\" id=\"sk-estimator-id-4\" type=\"checkbox\" ><label for=\"sk-estimator-id-4\" class=\"sk-toggleable__label sk-toggleable__label-arrow\">SimpleImputer</label><div class=\"sk-toggleable__content\"><pre>SimpleImputer(strategy=&#x27;median&#x27;)</pre></div></div></div><div class=\"sk-item\"><div class=\"sk-estimator sk-toggleable\"><input class=\"sk-toggleable__control sk-hidden--visually\" id=\"sk-estimator-id-5\" type=\"checkbox\" ><label for=\"sk-estimator-id-5\" class=\"sk-toggleable__label sk-toggleable__label-arrow\">StandardScaler</label><div class=\"sk-toggleable__content\"><pre>StandardScaler()</pre></div></div></div></div></div></div></div></div><div class=\"sk-parallel-item\"><div class=\"sk-item\"><div class=\"sk-label-container\"><div class=\"sk-label sk-toggleable\"><input class=\"sk-toggleable__control sk-hidden--visually\" id=\"sk-estimator-id-6\" type=\"checkbox\" ><label for=\"sk-estimator-id-6\" class=\"sk-toggleable__label sk-toggleable__label-arrow\">cat</label><div class=\"sk-toggleable__content\"><pre>[&#x27;MSSubClass&#x27;, &#x27;MSZoning&#x27;, &#x27;Street&#x27;, &#x27;Alley&#x27;, &#x27;LotShape&#x27;, &#x27;LandContour&#x27;, &#x27;Utilities&#x27;, &#x27;LotConfig&#x27;, &#x27;LandSlope&#x27;, &#x27;Neighborhood&#x27;, &#x27;Condition1&#x27;, &#x27;Condition2&#x27;, &#x27;BldgType&#x27;, &#x27;HouseStyle&#x27;, &#x27;RoofStyle&#x27;, &#x27;RoofMatl&#x27;, &#x27;Exterior1st&#x27;, &#x27;Exterior2nd&#x27;, &#x27;MasVnrType&#x27;, &#x27;ExterQual&#x27;, &#x27;ExterCond&#x27;, &#x27;Foundation&#x27;, &#x27;BsmtQual&#x27;, &#x27;BsmtCond&#x27;, &#x27;BsmtExposure&#x27;, &#x27;BsmtFinType1&#x27;, &#x27;BsmtFinType2&#x27;, &#x27;Heating&#x27;, &#x27;HeatingQC&#x27;, &#x27;CentralAir&#x27;, &#x27;Electrical&#x27;, &#x27;KitchenQual&#x27;, &#x27;Functional&#x27;, &#x27;FireplaceQu&#x27;, &#x27;GarageType&#x27;, &#x27;GarageFinish&#x27;, &#x27;GarageQual&#x27;, &#x27;GarageCond&#x27;, &#x27;PavedDrive&#x27;, &#x27;PoolQC&#x27;, &#x27;Fence&#x27;, &#x27;MiscFeature&#x27;, &#x27;SaleType&#x27;, &#x27;SaleCondition&#x27;]</pre></div></div></div><div class=\"sk-serial\"><div class=\"sk-item\"><div class=\"sk-serial\"><div class=\"sk-item\"><div class=\"sk-estimator sk-toggleable\"><input class=\"sk-toggleable__control sk-hidden--visually\" id=\"sk-estimator-id-7\" type=\"checkbox\" ><label for=\"sk-estimator-id-7\" class=\"sk-toggleable__label sk-toggleable__label-arrow\">SimpleImputer</label><div class=\"sk-toggleable__content\"><pre>SimpleImputer(fill_value=&#x27;unknown&#x27;, strategy=&#x27;constant&#x27;)</pre></div></div></div><div class=\"sk-item\"><div class=\"sk-estimator sk-toggleable\"><input class=\"sk-toggleable__control sk-hidden--visually\" id=\"sk-estimator-id-8\" type=\"checkbox\" ><label for=\"sk-estimator-id-8\" class=\"sk-toggleable__label sk-toggleable__label-arrow\">OrdinalEncoder</label><div class=\"sk-toggleable__content\"><pre>OrdinalEncoder()</pre></div></div></div></div></div></div></div></div><div class=\"sk-parallel-item\"><div class=\"sk-item\"><div class=\"sk-label-container\"><div class=\"sk-label sk-toggleable\"><input class=\"sk-toggleable__control sk-hidden--visually\" id=\"sk-estimator-id-9\" type=\"checkbox\" ><label for=\"sk-estimator-id-9\" class=\"sk-toggleable__label sk-toggleable__label-arrow\">skew</label><div class=\"sk-toggleable__content\"><pre>Index([&#x27;MiscVal&#x27;, &#x27;PoolArea&#x27;, &#x27;LotArea&#x27;, &#x27;LowQualFinSF&#x27;, &#x27;3SsnPorch&#x27;,\n",
              "       &#x27;KitchenAbvGr&#x27;, &#x27;BsmtFinSF2&#x27;, &#x27;EnclosedPorch&#x27;, &#x27;ScreenPorch&#x27;,\n",
              "       &#x27;BsmtHalfBath&#x27;, &#x27;MasVnrArea&#x27;, &#x27;OpenPorchSF&#x27;, &#x27;WoodDeckSF&#x27;,\n",
              "       &#x27;LotFrontage&#x27;, &#x27;1stFlrSF&#x27;, &#x27;BsmtFinSF1&#x27;, &#x27;GrLivArea&#x27;, &#x27;TotalBsmtSF&#x27;,\n",
              "       &#x27;BsmtUnfSF&#x27;, &#x27;2ndFlrSF&#x27;, &#x27;TotRmsAbvGrd&#x27;],\n",
              "      dtype=&#x27;object&#x27;)</pre></div></div></div><div class=\"sk-serial\"><div class=\"sk-item\"><div class=\"sk-serial\"><div class=\"sk-item\"><div class=\"sk-estimator sk-toggleable\"><input class=\"sk-toggleable__control sk-hidden--visually\" id=\"sk-estimator-id-10\" type=\"checkbox\" ><label for=\"sk-estimator-id-10\" class=\"sk-toggleable__label sk-toggleable__label-arrow\">SimpleImputer</label><div class=\"sk-toggleable__content\"><pre>SimpleImputer(strategy=&#x27;median&#x27;)</pre></div></div></div><div class=\"sk-item\"><div class=\"sk-estimator sk-toggleable\"><input class=\"sk-toggleable__control sk-hidden--visually\" id=\"sk-estimator-id-11\" type=\"checkbox\" ><label for=\"sk-estimator-id-11\" class=\"sk-toggleable__label sk-toggleable__label-arrow\">StandardScaler</label><div class=\"sk-toggleable__content\"><pre>StandardScaler()</pre></div></div></div><div class=\"sk-item\"><div class=\"sk-estimator sk-toggleable\"><input class=\"sk-toggleable__control sk-hidden--visually\" id=\"sk-estimator-id-12\" type=\"checkbox\" ><label for=\"sk-estimator-id-12\" class=\"sk-toggleable__label sk-toggleable__label-arrow\">PowerTransformer</label><div class=\"sk-toggleable__content\"><pre>PowerTransformer()</pre></div></div></div></div></div></div></div></div></div></div><div class=\"sk-item\"><div class=\"sk-estimator sk-toggleable\"><input class=\"sk-toggleable__control sk-hidden--visually\" id=\"sk-estimator-id-13\" type=\"checkbox\" ><label for=\"sk-estimator-id-13\" class=\"sk-toggleable__label sk-toggleable__label-arrow\">LGBMRegressor</label><div class=\"sk-toggleable__content\"><pre>LGBMRegressor()</pre></div></div></div></div></div></div></div>"
            ]
          },
          "metadata": {},
          "execution_count": 21
        }
      ]
    },
    {
      "cell_type": "code",
      "source": [
        "# preprocessor を Pipelineに含て Cross_validateするとエラーになるので、先に全データに対してPreprocessorをかける\n",
        "all_data_preprocessed = pd.DataFrame(preprocessor.fit_transform(all_data), columns=get_feature_names(preprocessor))\n",
        "all_data_preprocessed[target] = list(all_data[target])"
      ],
      "metadata": {
        "id": "pwBwd5AdcE0F"
      },
      "execution_count": 22,
      "outputs": []
    },
    {
      "cell_type": "code",
      "source": [
        "train_X = all_data_preprocessed.iloc[:train.shape[0]][all_data_preprocessed.columns.drop(target)]\n",
        "train_y = pd.DataFrame(all_data_preprocessed.iloc[:train.shape[0]][target], columns=[target])\n",
        "test_X = all_data_preprocessed.iloc[train.shape[0]:][all_data_preprocessed.columns.drop(target)]"
      ],
      "metadata": {
        "id": "pQYGrj6ddmSh"
      },
      "execution_count": 23,
      "outputs": []
    },
    {
      "cell_type": "code",
      "source": [
        "cv = StratifiedKFold(n_splits=5, shuffle=True, random_state=1)\n",
        "model = lgb.LGBMRegressor()\n",
        "scores = cross_validate(model, train_X, train_y, scoring='neg_root_mean_squared_error', cv=cv, n_jobs=-1, error_score='raise', return_estimator=False) # model の状態を確認したい場合はreturn_estimator をTrueにする\n",
        "score_mean = mean(scores[\"test_score\"])\n",
        "print(f\"score:{score_mean}\")\n",
        "original_score = score_mean"
      ],
      "metadata": {
        "colab": {
          "base_uri": "https://localhost:8080/"
        },
        "id": "4hvporLDDZzi",
        "outputId": "3fa2a338-6c97-4c03-e421-8be7c1a751ed"
      },
      "execution_count": 24,
      "outputs": [
        {
          "output_type": "stream",
          "name": "stdout",
          "text": [
            "score:-29596.029941591074\n"
          ]
        }
      ]
    },
    {
      "cell_type": "markdown",
      "source": [
        "### 予測結果を提出する"
      ],
      "metadata": {
        "id": "w6WRe4jBQhMl"
      }
    },
    {
      "cell_type": "code",
      "source": [
        "model.fit(train_X, train_y)\n",
        "y_pred = model.predict(test_X)\n",
        "y_pred\n",
        "output = pd.DataFrame({'Id': test[\"Id\"],\n",
        "                       'SalePrice': y_pred})\n",
        "\n",
        "path = \"/content/drive/MyDrive/Colab Notebooks/data/output.csv\"\n",
        "output.to_csv(path, index=False)\n",
        "output"
      ],
      "metadata": {
        "colab": {
          "base_uri": "https://localhost:8080/",
          "height": 424
        },
        "id": "R3cR4oSAQgbE",
        "outputId": "933d8125-4a46-4153-c779-111f0b5c189b"
      },
      "execution_count": 25,
      "outputs": [
        {
          "output_type": "execute_result",
          "data": {
            "text/plain": [
              "        Id      SalePrice\n",
              "0     1461  125755.889991\n",
              "1     1462  161939.801245\n",
              "2     1463  180095.575544\n",
              "3     1464  185476.285562\n",
              "4     1465  199553.419602\n",
              "...    ...            ...\n",
              "1454  2915   78951.479182\n",
              "1455  2916   84616.317882\n",
              "1456  2917  164014.404945\n",
              "1457  2918  115501.713017\n",
              "1458  2919  215251.067587\n",
              "\n",
              "[1459 rows x 2 columns]"
            ],
            "text/html": [
              "\n",
              "\n",
              "  <div id=\"df-1737b3a7-c04b-4fb9-b3c2-254a6d0b621c\">\n",
              "    <div class=\"colab-df-container\">\n",
              "      <div>\n",
              "<style scoped>\n",
              "    .dataframe tbody tr th:only-of-type {\n",
              "        vertical-align: middle;\n",
              "    }\n",
              "\n",
              "    .dataframe tbody tr th {\n",
              "        vertical-align: top;\n",
              "    }\n",
              "\n",
              "    .dataframe thead th {\n",
              "        text-align: right;\n",
              "    }\n",
              "</style>\n",
              "<table border=\"1\" class=\"dataframe\">\n",
              "  <thead>\n",
              "    <tr style=\"text-align: right;\">\n",
              "      <th></th>\n",
              "      <th>Id</th>\n",
              "      <th>SalePrice</th>\n",
              "    </tr>\n",
              "  </thead>\n",
              "  <tbody>\n",
              "    <tr>\n",
              "      <th>0</th>\n",
              "      <td>1461</td>\n",
              "      <td>125755.889991</td>\n",
              "    </tr>\n",
              "    <tr>\n",
              "      <th>1</th>\n",
              "      <td>1462</td>\n",
              "      <td>161939.801245</td>\n",
              "    </tr>\n",
              "    <tr>\n",
              "      <th>2</th>\n",
              "      <td>1463</td>\n",
              "      <td>180095.575544</td>\n",
              "    </tr>\n",
              "    <tr>\n",
              "      <th>3</th>\n",
              "      <td>1464</td>\n",
              "      <td>185476.285562</td>\n",
              "    </tr>\n",
              "    <tr>\n",
              "      <th>4</th>\n",
              "      <td>1465</td>\n",
              "      <td>199553.419602</td>\n",
              "    </tr>\n",
              "    <tr>\n",
              "      <th>...</th>\n",
              "      <td>...</td>\n",
              "      <td>...</td>\n",
              "    </tr>\n",
              "    <tr>\n",
              "      <th>1454</th>\n",
              "      <td>2915</td>\n",
              "      <td>78951.479182</td>\n",
              "    </tr>\n",
              "    <tr>\n",
              "      <th>1455</th>\n",
              "      <td>2916</td>\n",
              "      <td>84616.317882</td>\n",
              "    </tr>\n",
              "    <tr>\n",
              "      <th>1456</th>\n",
              "      <td>2917</td>\n",
              "      <td>164014.404945</td>\n",
              "    </tr>\n",
              "    <tr>\n",
              "      <th>1457</th>\n",
              "      <td>2918</td>\n",
              "      <td>115501.713017</td>\n",
              "    </tr>\n",
              "    <tr>\n",
              "      <th>1458</th>\n",
              "      <td>2919</td>\n",
              "      <td>215251.067587</td>\n",
              "    </tr>\n",
              "  </tbody>\n",
              "</table>\n",
              "<p>1459 rows × 2 columns</p>\n",
              "</div>\n",
              "      <button class=\"colab-df-convert\" onclick=\"convertToInteractive('df-1737b3a7-c04b-4fb9-b3c2-254a6d0b621c')\"\n",
              "              title=\"Convert this dataframe to an interactive table.\"\n",
              "              style=\"display:none;\">\n",
              "\n",
              "  <svg xmlns=\"http://www.w3.org/2000/svg\" height=\"24px\"viewBox=\"0 0 24 24\"\n",
              "       width=\"24px\">\n",
              "    <path d=\"M0 0h24v24H0V0z\" fill=\"none\"/>\n",
              "    <path d=\"M18.56 5.44l.94 2.06.94-2.06 2.06-.94-2.06-.94-.94-2.06-.94 2.06-2.06.94zm-11 1L8.5 8.5l.94-2.06 2.06-.94-2.06-.94L8.5 2.5l-.94 2.06-2.06.94zm10 10l.94 2.06.94-2.06 2.06-.94-2.06-.94-.94-2.06-.94 2.06-2.06.94z\"/><path d=\"M17.41 7.96l-1.37-1.37c-.4-.4-.92-.59-1.43-.59-.52 0-1.04.2-1.43.59L10.3 9.45l-7.72 7.72c-.78.78-.78 2.05 0 2.83L4 21.41c.39.39.9.59 1.41.59.51 0 1.02-.2 1.41-.59l7.78-7.78 2.81-2.81c.8-.78.8-2.07 0-2.86zM5.41 20L4 18.59l7.72-7.72 1.47 1.35L5.41 20z\"/>\n",
              "  </svg>\n",
              "      </button>\n",
              "\n",
              "\n",
              "\n",
              "    <div id=\"df-c8ef15ba-cd54-47d6-b2b8-b531b649eb58\">\n",
              "      <button class=\"colab-df-quickchart\" onclick=\"quickchart('df-c8ef15ba-cd54-47d6-b2b8-b531b649eb58')\"\n",
              "              title=\"Suggest charts.\"\n",
              "              style=\"display:none;\">\n",
              "\n",
              "<svg xmlns=\"http://www.w3.org/2000/svg\" height=\"24px\"viewBox=\"0 0 24 24\"\n",
              "     width=\"24px\">\n",
              "    <g>\n",
              "        <path d=\"M19 3H5c-1.1 0-2 .9-2 2v14c0 1.1.9 2 2 2h14c1.1 0 2-.9 2-2V5c0-1.1-.9-2-2-2zM9 17H7v-7h2v7zm4 0h-2V7h2v10zm4 0h-2v-4h2v4z\"/>\n",
              "    </g>\n",
              "</svg>\n",
              "      </button>\n",
              "    </div>\n",
              "\n",
              "<style>\n",
              "  .colab-df-quickchart {\n",
              "    background-color: #E8F0FE;\n",
              "    border: none;\n",
              "    border-radius: 50%;\n",
              "    cursor: pointer;\n",
              "    display: none;\n",
              "    fill: #1967D2;\n",
              "    height: 32px;\n",
              "    padding: 0 0 0 0;\n",
              "    width: 32px;\n",
              "  }\n",
              "\n",
              "  .colab-df-quickchart:hover {\n",
              "    background-color: #E2EBFA;\n",
              "    box-shadow: 0px 1px 2px rgba(60, 64, 67, 0.3), 0px 1px 3px 1px rgba(60, 64, 67, 0.15);\n",
              "    fill: #174EA6;\n",
              "  }\n",
              "\n",
              "  [theme=dark] .colab-df-quickchart {\n",
              "    background-color: #3B4455;\n",
              "    fill: #D2E3FC;\n",
              "  }\n",
              "\n",
              "  [theme=dark] .colab-df-quickchart:hover {\n",
              "    background-color: #434B5C;\n",
              "    box-shadow: 0px 1px 3px 1px rgba(0, 0, 0, 0.15);\n",
              "    filter: drop-shadow(0px 1px 2px rgba(0, 0, 0, 0.3));\n",
              "    fill: #FFFFFF;\n",
              "  }\n",
              "</style>\n",
              "\n",
              "    <script>\n",
              "      async function quickchart(key) {\n",
              "        const containerElement = document.querySelector('#' + key);\n",
              "        const charts = await google.colab.kernel.invokeFunction(\n",
              "            'suggestCharts', [key], {});\n",
              "      }\n",
              "    </script>\n",
              "\n",
              "      <script>\n",
              "\n",
              "function displayQuickchartButton(domScope) {\n",
              "  let quickchartButtonEl =\n",
              "    domScope.querySelector('#df-c8ef15ba-cd54-47d6-b2b8-b531b649eb58 button.colab-df-quickchart');\n",
              "  quickchartButtonEl.style.display =\n",
              "    google.colab.kernel.accessAllowed ? 'block' : 'none';\n",
              "}\n",
              "\n",
              "        displayQuickchartButton(document);\n",
              "      </script>\n",
              "      <style>\n",
              "    .colab-df-container {\n",
              "      display:flex;\n",
              "      flex-wrap:wrap;\n",
              "      gap: 12px;\n",
              "    }\n",
              "\n",
              "    .colab-df-convert {\n",
              "      background-color: #E8F0FE;\n",
              "      border: none;\n",
              "      border-radius: 50%;\n",
              "      cursor: pointer;\n",
              "      display: none;\n",
              "      fill: #1967D2;\n",
              "      height: 32px;\n",
              "      padding: 0 0 0 0;\n",
              "      width: 32px;\n",
              "    }\n",
              "\n",
              "    .colab-df-convert:hover {\n",
              "      background-color: #E2EBFA;\n",
              "      box-shadow: 0px 1px 2px rgba(60, 64, 67, 0.3), 0px 1px 3px 1px rgba(60, 64, 67, 0.15);\n",
              "      fill: #174EA6;\n",
              "    }\n",
              "\n",
              "    [theme=dark] .colab-df-convert {\n",
              "      background-color: #3B4455;\n",
              "      fill: #D2E3FC;\n",
              "    }\n",
              "\n",
              "    [theme=dark] .colab-df-convert:hover {\n",
              "      background-color: #434B5C;\n",
              "      box-shadow: 0px 1px 3px 1px rgba(0, 0, 0, 0.15);\n",
              "      filter: drop-shadow(0px 1px 2px rgba(0, 0, 0, 0.3));\n",
              "      fill: #FFFFFF;\n",
              "    }\n",
              "  </style>\n",
              "\n",
              "      <script>\n",
              "        const buttonEl =\n",
              "          document.querySelector('#df-1737b3a7-c04b-4fb9-b3c2-254a6d0b621c button.colab-df-convert');\n",
              "        buttonEl.style.display =\n",
              "          google.colab.kernel.accessAllowed ? 'block' : 'none';\n",
              "\n",
              "        async function convertToInteractive(key) {\n",
              "          const element = document.querySelector('#df-1737b3a7-c04b-4fb9-b3c2-254a6d0b621c');\n",
              "          const dataTable =\n",
              "            await google.colab.kernel.invokeFunction('convertToInteractive',\n",
              "                                                     [key], {});\n",
              "          if (!dataTable) return;\n",
              "\n",
              "          const docLinkHtml = 'Like what you see? Visit the ' +\n",
              "            '<a target=\"_blank\" href=https://colab.research.google.com/notebooks/data_table.ipynb>data table notebook</a>'\n",
              "            + ' to learn more about interactive tables.';\n",
              "          element.innerHTML = '';\n",
              "          dataTable['output_type'] = 'display_data';\n",
              "          await google.colab.output.renderOutput(dataTable, element);\n",
              "          const docLink = document.createElement('div');\n",
              "          docLink.innerHTML = docLinkHtml;\n",
              "          element.appendChild(docLink);\n",
              "        }\n",
              "      </script>\n",
              "    </div>\n",
              "  </div>\n"
            ]
          },
          "metadata": {},
          "execution_count": 25
        }
      ]
    },
    {
      "cell_type": "markdown",
      "source": [
        "# 個別の特徴量についてEDA"
      ],
      "metadata": {
        "id": "JnQcYUJL-2Qc"
      }
    },
    {
      "cell_type": "markdown",
      "source": [
        "### BsmtUnfSF"
      ],
      "metadata": {
        "id": "x4rROSHj-5yu"
      }
    },
    {
      "cell_type": "markdown",
      "source": [
        "#### 特徴量の概要"
      ],
      "metadata": {
        "id": "k9cRt8C4xkER"
      }
    },
    {
      "cell_type": "markdown",
      "source": [
        "- 未完了の基礎の大きさ\n",
        "- 量的変数"
      ],
      "metadata": {
        "id": "iqz08qB-xoYq"
      }
    },
    {
      "cell_type": "markdown",
      "source": [
        "#### 分布の確認\n",
        "- ほとんどの値が0（＝未完了となっている基礎はない）\n",
        "- 未完成の基礎が広い（＝敷地が広い）場合には価格が高いことがある"
      ],
      "metadata": {
        "id": "8MvDNLXl_OP1"
      }
    },
    {
      "cell_type": "code",
      "source": [
        "scatter_hist(all_data, \"BsmtUnfSF\", \"SalePrice\")"
      ],
      "metadata": {
        "colab": {
          "base_uri": "https://localhost:8080/",
          "height": 696
        },
        "id": "TMp8OAv10SZf",
        "outputId": "9f6ffaab-16ae-4ded-d5a3-3b4f9fa986fe"
      },
      "execution_count": 26,
      "outputs": [
        {
          "output_type": "display_data",
          "data": {
            "text/plain": [
              "<Figure size 800x800 with 5 Axes>"
            ],
            "image/png": "[encoded data removed]"
          },
          "metadata": {}
        }
      ]
    },
    {
      "cell_type": "markdown",
      "source": [
        "#### 欠損値の補完"
      ],
      "metadata": {
        "id": "iY_H1uej_Q7y"
      }
    },
    {
      "cell_type": "code",
      "source": [
        "all_data[\"BsmtUnfSF\"].isna().sum()"
      ],
      "metadata": {
        "colab": {
          "base_uri": "https://localhost:8080/"
        },
        "id": "BUt1-ocH1d86",
        "outputId": "7bdc2cf1-5fa8-4bca-a9a2-0c0bdcf16026"
      },
      "execution_count": 27,
      "outputs": [
        {
          "output_type": "execute_result",
          "data": {
            "text/plain": [
              "1"
            ]
          },
          "metadata": {},
          "execution_count": 27
        }
      ]
    },
    {
      "cell_type": "code",
      "source": [
        "# No basementの場合にはBsmtQualがNAとなる。\n",
        "# 該当の１件はBsmtQualがNaNのため、基礎が存在しない。そのため0で補完するのが妥当といえる\n",
        "cols = [\"Id\", \"BsmtFinSF1\", \"BsmtUnfSF\"]\n",
        "all_data[all_data[\"BsmtUnfSF\"].isna()].T"
      ],
      "metadata": {
        "colab": {
          "base_uri": "https://localhost:8080/",
          "height": 424
        },
        "id": "6jz6UWlq1-IO",
        "outputId": "420d0c5e-8835-4384-ce34-8ffdf49ae182"
      },
      "execution_count": 28,
      "outputs": [
        {
          "output_type": "execute_result",
          "data": {
            "text/plain": [
              "                   660\n",
              "Id                2121\n",
              "MSSubClass          20\n",
              "MSZoning            RM\n",
              "LotFrontage       99.0\n",
              "LotArea           5940\n",
              "...                ...\n",
              "MoSold               4\n",
              "YrSold            2008\n",
              "SaleType         ConLD\n",
              "SaleCondition  Abnorml\n",
              "SalePrice          NaN\n",
              "\n",
              "[81 rows x 1 columns]"
            ],
            "text/html": [
              "\n",
              "\n",
              "  <div id=\"df-1db4f38e-18c9-4745-8591-58e277d3f942\">\n",
              "    <div class=\"colab-df-container\">\n",
              "      <div>\n",
              "<style scoped>\n",
              "    .dataframe tbody tr th:only-of-type {\n",
              "        vertical-align: middle;\n",
              "    }\n",
              "\n",
              "    .dataframe tbody tr th {\n",
              "        vertical-align: top;\n",
              "    }\n",
              "\n",
              "    .dataframe thead th {\n",
              "        text-align: right;\n",
              "    }\n",
              "</style>\n",
              "<table border=\"1\" class=\"dataframe\">\n",
              "  <thead>\n",
              "    <tr style=\"text-align: right;\">\n",
              "      <th></th>\n",
              "      <th>660</th>\n",
              "    </tr>\n",
              "  </thead>\n",
              "  <tbody>\n",
              "    <tr>\n",
              "      <th>Id</th>\n",
              "      <td>2121</td>\n",
              "    </tr>\n",
              "    <tr>\n",
              "      <th>MSSubClass</th>\n",
              "      <td>20</td>\n",
              "    </tr>\n",
              "    <tr>\n",
              "      <th>MSZoning</th>\n",
              "      <td>RM</td>\n",
              "    </tr>\n",
              "    <tr>\n",
              "      <th>LotFrontage</th>\n",
              "      <td>99.0</td>\n",
              "    </tr>\n",
              "    <tr>\n",
              "      <th>LotArea</th>\n",
              "      <td>5940</td>\n",
              "    </tr>\n",
              "    <tr>\n",
              "      <th>...</th>\n",
              "      <td>...</td>\n",
              "    </tr>\n",
              "    <tr>\n",
              "      <th>MoSold</th>\n",
              "      <td>4</td>\n",
              "    </tr>\n",
              "    <tr>\n",
              "      <th>YrSold</th>\n",
              "      <td>2008</td>\n",
              "    </tr>\n",
              "    <tr>\n",
              "      <th>SaleType</th>\n",
              "      <td>ConLD</td>\n",
              "    </tr>\n",
              "    <tr>\n",
              "      <th>SaleCondition</th>\n",
              "      <td>Abnorml</td>\n",
              "    </tr>\n",
              "    <tr>\n",
              "      <th>SalePrice</th>\n",
              "      <td>NaN</td>\n",
              "    </tr>\n",
              "  </tbody>\n",
              "</table>\n",
              "<p>81 rows × 1 columns</p>\n",
              "</div>\n",
              "      <button class=\"colab-df-convert\" onclick=\"convertToInteractive('df-1db4f38e-18c9-4745-8591-58e277d3f942')\"\n",
              "              title=\"Convert this dataframe to an interactive table.\"\n",
              "              style=\"display:none;\">\n",
              "\n",
              "  <svg xmlns=\"http://www.w3.org/2000/svg\" height=\"24px\"viewBox=\"0 0 24 24\"\n",
              "       width=\"24px\">\n",
              "    <path d=\"M0 0h24v24H0V0z\" fill=\"none\"/>\n",
              "    <path d=\"M18.56 5.44l.94 2.06.94-2.06 2.06-.94-2.06-.94-.94-2.06-.94 2.06-2.06.94zm-11 1L8.5 8.5l.94-2.06 2.06-.94-2.06-.94L8.5 2.5l-.94 2.06-2.06.94zm10 10l.94 2.06.94-2.06 2.06-.94-2.06-.94-.94-2.06-.94 2.06-2.06.94z\"/><path d=\"M17.41 7.96l-1.37-1.37c-.4-.4-.92-.59-1.43-.59-.52 0-1.04.2-1.43.59L10.3 9.45l-7.72 7.72c-.78.78-.78 2.05 0 2.83L4 21.41c.39.39.9.59 1.41.59.51 0 1.02-.2 1.41-.59l7.78-7.78 2.81-2.81c.8-.78.8-2.07 0-2.86zM5.41 20L4 18.59l7.72-7.72 1.47 1.35L5.41 20z\"/>\n",
              "  </svg>\n",
              "      </button>\n",
              "\n",
              "\n",
              "\n",
              "    <div id=\"df-192e336c-66b4-485d-816c-46b4ee426555\">\n",
              "      <button class=\"colab-df-quickchart\" onclick=\"quickchart('df-192e336c-66b4-485d-816c-46b4ee426555')\"\n",
              "              title=\"Suggest charts.\"\n",
              "              style=\"display:none;\">\n",
              "\n",
              "<svg xmlns=\"http://www.w3.org/2000/svg\" height=\"24px\"viewBox=\"0 0 24 24\"\n",
              "     width=\"24px\">\n",
              "    <g>\n",
              "        <path d=\"M19 3H5c-1.1 0-2 .9-2 2v14c0 1.1.9 2 2 2h14c1.1 0 2-.9 2-2V5c0-1.1-.9-2-2-2zM9 17H7v-7h2v7zm4 0h-2V7h2v10zm4 0h-2v-4h2v4z\"/>\n",
              "    </g>\n",
              "</svg>\n",
              "      </button>\n",
              "    </div>\n",
              "\n",
              "<style>\n",
              "  .colab-df-quickchart {\n",
              "    background-color: #E8F0FE;\n",
              "    border: none;\n",
              "    border-radius: 50%;\n",
              "    cursor: pointer;\n",
              "    display: none;\n",
              "    fill: #1967D2;\n",
              "    height: 32px;\n",
              "    padding: 0 0 0 0;\n",
              "    width: 32px;\n",
              "  }\n",
              "\n",
              "  .colab-df-quickchart:hover {\n",
              "    background-color: #E2EBFA;\n",
              "    box-shadow: 0px 1px 2px rgba(60, 64, 67, 0.3), 0px 1px 3px 1px rgba(60, 64, 67, 0.15);\n",
              "    fill: #174EA6;\n",
              "  }\n",
              "\n",
              "  [theme=dark] .colab-df-quickchart {\n",
              "    background-color: #3B4455;\n",
              "    fill: #D2E3FC;\n",
              "  }\n",
              "\n",
              "  [theme=dark] .colab-df-quickchart:hover {\n",
              "    background-color: #434B5C;\n",
              "    box-shadow: 0px 1px 3px 1px rgba(0, 0, 0, 0.15);\n",
              "    filter: drop-shadow(0px 1px 2px rgba(0, 0, 0, 0.3));\n",
              "    fill: #FFFFFF;\n",
              "  }\n",
              "</style>\n",
              "\n",
              "    <script>\n",
              "      async function quickchart(key) {\n",
              "        const containerElement = document.querySelector('#' + key);\n",
              "        const charts = await google.colab.kernel.invokeFunction(\n",
              "            'suggestCharts', [key], {});\n",
              "      }\n",
              "    </script>\n",
              "\n",
              "      <script>\n",
              "\n",
              "function displayQuickchartButton(domScope) {\n",
              "  let quickchartButtonEl =\n",
              "    domScope.querySelector('#df-192e336c-66b4-485d-816c-46b4ee426555 button.colab-df-quickchart');\n",
              "  quickchartButtonEl.style.display =\n",
              "    google.colab.kernel.accessAllowed ? 'block' : 'none';\n",
              "}\n",
              "\n",
              "        displayQuickchartButton(document);\n",
              "      </script>\n",
              "      <style>\n",
              "    .colab-df-container {\n",
              "      display:flex;\n",
              "      flex-wrap:wrap;\n",
              "      gap: 12px;\n",
              "    }\n",
              "\n",
              "    .colab-df-convert {\n",
              "      background-color: #E8F0FE;\n",
              "      border: none;\n",
              "      border-radius: 50%;\n",
              "      cursor: pointer;\n",
              "      display: none;\n",
              "      fill: #1967D2;\n",
              "      height: 32px;\n",
              "      padding: 0 0 0 0;\n",
              "      width: 32px;\n",
              "    }\n",
              "\n",
              "    .colab-df-convert:hover {\n",
              "      background-color: #E2EBFA;\n",
              "      box-shadow: 0px 1px 2px rgba(60, 64, 67, 0.3), 0px 1px 3px 1px rgba(60, 64, 67, 0.15);\n",
              "      fill: #174EA6;\n",
              "    }\n",
              "\n",
              "    [theme=dark] .colab-df-convert {\n",
              "      background-color: #3B4455;\n",
              "      fill: #D2E3FC;\n",
              "    }\n",
              "\n",
              "    [theme=dark] .colab-df-convert:hover {\n",
              "      background-color: #434B5C;\n",
              "      box-shadow: 0px 1px 3px 1px rgba(0, 0, 0, 0.15);\n",
              "      filter: drop-shadow(0px 1px 2px rgba(0, 0, 0, 0.3));\n",
              "      fill: #FFFFFF;\n",
              "    }\n",
              "  </style>\n",
              "\n",
              "      <script>\n",
              "        const buttonEl =\n",
              "          document.querySelector('#df-1db4f38e-18c9-4745-8591-58e277d3f942 button.colab-df-convert');\n",
              "        buttonEl.style.display =\n",
              "          google.colab.kernel.accessAllowed ? 'block' : 'none';\n",
              "\n",
              "        async function convertToInteractive(key) {\n",
              "          const element = document.querySelector('#df-1db4f38e-18c9-4745-8591-58e277d3f942');\n",
              "          const dataTable =\n",
              "            await google.colab.kernel.invokeFunction('convertToInteractive',\n",
              "                                                     [key], {});\n",
              "          if (!dataTable) return;\n",
              "\n",
              "          const docLinkHtml = 'Like what you see? Visit the ' +\n",
              "            '<a target=\"_blank\" href=https://colab.research.google.com/notebooks/data_table.ipynb>data table notebook</a>'\n",
              "            + ' to learn more about interactive tables.';\n",
              "          element.innerHTML = '';\n",
              "          dataTable['output_type'] = 'display_data';\n",
              "          await google.colab.output.renderOutput(dataTable, element);\n",
              "          const docLink = document.createElement('div');\n",
              "          docLink.innerHTML = docLinkHtml;\n",
              "          element.appendChild(docLink);\n",
              "        }\n",
              "      </script>\n",
              "    </div>\n",
              "  </div>\n"
            ]
          },
          "metadata": {},
          "execution_count": 28
        }
      ]
    },
    {
      "cell_type": "code",
      "source": [
        "cols = [\"BsmtQual\", \"BsmtCond\", \"BsmtExposure\", \"BsmtFinType1\", \"BsmtFinSF1\", \"BsmtFinType2\", \"BsmtFinSF2\", \"BsmtUnfSF\", \"TotalBsmtSF\"]\n",
        "all_data[cols].isna().sum()"
      ],
      "metadata": {
        "colab": {
          "base_uri": "https://localhost:8080/"
        },
        "id": "CliA9r_U4KUz",
        "outputId": "6c1b0088-64bf-4b5f-aa3c-03ea9498d74f"
      },
      "execution_count": 29,
      "outputs": [
        {
          "output_type": "execute_result",
          "data": {
            "text/plain": [
              "BsmtQual        81\n",
              "BsmtCond        82\n",
              "BsmtExposure    82\n",
              "BsmtFinType1    79\n",
              "BsmtFinSF1       1\n",
              "BsmtFinType2    80\n",
              "BsmtFinSF2       1\n",
              "BsmtUnfSF        1\n",
              "TotalBsmtSF      1\n",
              "dtype: int64"
            ]
          },
          "metadata": {},
          "execution_count": 29
        }
      ]
    },
    {
      "cell_type": "code",
      "source": [
        "all_data[\"BsmtQual\"].value_counts()"
      ],
      "metadata": {
        "colab": {
          "base_uri": "https://localhost:8080/"
        },
        "id": "2sFBszD159ha",
        "outputId": "652ab644-d3fa-425a-eaaa-3e516fff4448"
      },
      "execution_count": 30,
      "outputs": [
        {
          "output_type": "execute_result",
          "data": {
            "text/plain": [
              "TA    1283\n",
              "Gd    1209\n",
              "Ex     258\n",
              "Fa      88\n",
              "Name: BsmtQual, dtype: int64"
            ]
          },
          "metadata": {},
          "execution_count": 30
        }
      ]
    },
    {
      "cell_type": "code",
      "source": [
        "all_data[all_data[\"BsmtQual\"].isna()].T"
      ],
      "metadata": {
        "colab": {
          "base_uri": "https://localhost:8080/",
          "height": 488
        },
        "id": "TuVJek9q6VZJ",
        "outputId": "31fc9f08-4ad7-4ca9-d5f8-93320d6dd52d"
      },
      "execution_count": 31,
      "outputs": [
        {
          "output_type": "execute_result",
          "data": {
            "text/plain": [
              "                  17       39        90        102       156       182   \\\n",
              "Id                  18       40        91       103       157       183   \n",
              "MSSubClass          90       90        20        90        20        20   \n",
              "MSZoning            RL       RL        RL        RL        RL        RL   \n",
              "LotFrontage       72.0     65.0      60.0      64.0      60.0      60.0   \n",
              "LotArea          10791     6040      7200      7018      7200      9060   \n",
              "...                ...      ...       ...       ...       ...       ...   \n",
              "MoSold              10        6         7         6         6         6   \n",
              "YrSold            2006     2008      2006      2009      2006      2007   \n",
              "SaleType            WD       WD        WD        WD        WD        WD   \n",
              "SaleCondition   Normal  AdjLand    Normal    Alloca    Normal    Normal   \n",
              "SalePrice      90000.0  82000.0  109900.0  118964.0  109500.0  120000.0   \n",
              "\n",
              "                  259      342       362       371   ...    1118    1139  \\\n",
              "Id                 260      343       363       372  ...    2579    2600   \n",
              "MSSubClass          20       90        85        50  ...      50      20   \n",
              "MSZoning            RM       RL        RL        RL  ...      RM      RL   \n",
              "LotFrontage       70.0      NaN      64.0      80.0  ...    64.0   200.0   \n",
              "LotArea          12702     8544      7301     17120  ...   11067   43500   \n",
              "...                ...      ...       ...       ...  ...     ...     ...   \n",
              "MoSold              12        5         7         7  ...       3       6   \n",
              "YrSold            2008     2006      2009      2008  ...    2007    2007   \n",
              "SaleType            WD       WD     ConLD        WD  ...      WD      WD   \n",
              "SaleCondition   Normal   Normal    Normal    Normal  ...  Normal  Normal   \n",
              "SalePrice      97000.0  87500.0  198500.0  134432.0  ...     NaN     NaN   \n",
              "\n",
              "                 1242    1303    1306    1343    1344    1364     1431    1444  \n",
              "Id               2703    2764    2767    2804    2805    2825     2892    2905  \n",
              "MSSubClass         90      20      90      20      30      20       30      20  \n",
              "MSZoning           RM      RL      RL      RL      RL      RL  C (all)     NaN  \n",
              "LotFrontage      68.0    86.0    60.0   100.0    55.0    80.0     69.0   125.0  \n",
              "LotArea          8927   11650    8544   21370    8250   12048    12366   31250  \n",
              "...               ...     ...     ...     ...     ...     ...      ...     ...  \n",
              "MoSold              8       6      12       6       6       4       10       5  \n",
              "YrSold           2006    2006    2006    2006    2006    2006     2006    2006  \n",
              "SaleType           WD      WD      WD      WD      WD      WD       WD      WD  \n",
              "SaleCondition  Normal  Normal  Normal  Normal  Normal  Normal  Abnorml  Normal  \n",
              "SalePrice         NaN     NaN     NaN     NaN     NaN     NaN      NaN     NaN  \n",
              "\n",
              "[81 rows x 81 columns]"
            ],
            "text/html": [
              "\n",
              "\n",
              "  <div id=\"df-1536eadf-acb7-471d-b35f-9d39230adf9f\">\n",
              "    <div class=\"colab-df-container\">\n",
              "      <div>\n",
              "<style scoped>\n",
              "    .dataframe tbody tr th:only-of-type {\n",
              "        vertical-align: middle;\n",
              "    }\n",
              "\n",
              "    .dataframe tbody tr th {\n",
              "        vertical-align: top;\n",
              "    }\n",
              "\n",
              "    .dataframe thead th {\n",
              "        text-align: right;\n",
              "    }\n",
              "</style>\n",
              "<table border=\"1\" class=\"dataframe\">\n",
              "  <thead>\n",
              "    <tr style=\"text-align: right;\">\n",
              "      <th></th>\n",
              "      <th>17</th>\n",
              "      <th>39</th>\n",
              "      <th>90</th>\n",
              "      <th>102</th>\n",
              "      <th>156</th>\n",
              "      <th>182</th>\n",
              "      <th>259</th>\n",
              "      <th>342</th>\n",
              "      <th>362</th>\n",
              "      <th>371</th>\n",
              "      <th>...</th>\n",
              "      <th>1118</th>\n",
              "      <th>1139</th>\n",
              "      <th>1242</th>\n",
              "      <th>1303</th>\n",
              "      <th>1306</th>\n",
              "      <th>1343</th>\n",
              "      <th>1344</th>\n",
              "      <th>1364</th>\n",
              "      <th>1431</th>\n",
              "      <th>1444</th>\n",
              "    </tr>\n",
              "  </thead>\n",
              "  <tbody>\n",
              "    <tr>\n",
              "      <th>Id</th>\n",
              "      <td>18</td>\n",
              "      <td>40</td>\n",
              "      <td>91</td>\n",
              "      <td>103</td>\n",
              "      <td>157</td>\n",
              "      <td>183</td>\n",
              "      <td>260</td>\n",
              "      <td>343</td>\n",
              "      <td>363</td>\n",
              "      <td>372</td>\n",
              "      <td>...</td>\n",
              "      <td>2579</td>\n",
              "      <td>2600</td>\n",
              "      <td>2703</td>\n",
              "      <td>2764</td>\n",
              "      <td>2767</td>\n",
              "      <td>2804</td>\n",
              "      <td>2805</td>\n",
              "      <td>2825</td>\n",
              "      <td>2892</td>\n",
              "      <td>2905</td>\n",
              "    </tr>\n",
              "    <tr>\n",
              "      <th>MSSubClass</th>\n",
              "      <td>90</td>\n",
              "      <td>90</td>\n",
              "      <td>20</td>\n",
              "      <td>90</td>\n",
              "      <td>20</td>\n",
              "      <td>20</td>\n",
              "      <td>20</td>\n",
              "      <td>90</td>\n",
              "      <td>85</td>\n",
              "      <td>50</td>\n",
              "      <td>...</td>\n",
              "      <td>50</td>\n",
              "      <td>20</td>\n",
              "      <td>90</td>\n",
              "      <td>20</td>\n",
              "      <td>90</td>\n",
              "      <td>20</td>\n",
              "      <td>30</td>\n",
              "      <td>20</td>\n",
              "      <td>30</td>\n",
              "      <td>20</td>\n",
              "    </tr>\n",
              "    <tr>\n",
              "      <th>MSZoning</th>\n",
              "      <td>RL</td>\n",
              "      <td>RL</td>\n",
              "      <td>RL</td>\n",
              "      <td>RL</td>\n",
              "      <td>RL</td>\n",
              "      <td>RL</td>\n",
              "      <td>RM</td>\n",
              "      <td>RL</td>\n",
              "      <td>RL</td>\n",
              "      <td>RL</td>\n",
              "      <td>...</td>\n",
              "      <td>RM</td>\n",
              "      <td>RL</td>\n",
              "      <td>RM</td>\n",
              "      <td>RL</td>\n",
              "      <td>RL</td>\n",
              "      <td>RL</td>\n",
              "      <td>RL</td>\n",
              "      <td>RL</td>\n",
              "      <td>C (all)</td>\n",
              "      <td>NaN</td>\n",
              "    </tr>\n",
              "    <tr>\n",
              "      <th>LotFrontage</th>\n",
              "      <td>72.0</td>\n",
              "      <td>65.0</td>\n",
              "      <td>60.0</td>\n",
              "      <td>64.0</td>\n",
              "      <td>60.0</td>\n",
              "      <td>60.0</td>\n",
              "      <td>70.0</td>\n",
              "      <td>NaN</td>\n",
              "      <td>64.0</td>\n",
              "      <td>80.0</td>\n",
              "      <td>...</td>\n",
              "      <td>64.0</td>\n",
              "      <td>200.0</td>\n",
              "      <td>68.0</td>\n",
              "      <td>86.0</td>\n",
              "      <td>60.0</td>\n",
              "      <td>100.0</td>\n",
              "      <td>55.0</td>\n",
              "      <td>80.0</td>\n",
              "      <td>69.0</td>\n",
              "      <td>125.0</td>\n",
              "    </tr>\n",
              "    <tr>\n",
              "      <th>LotArea</th>\n",
              "      <td>10791</td>\n",
              "      <td>6040</td>\n",
              "      <td>7200</td>\n",
              "      <td>7018</td>\n",
              "      <td>7200</td>\n",
              "      <td>9060</td>\n",
              "      <td>12702</td>\n",
              "      <td>8544</td>\n",
              "      <td>7301</td>\n",
              "      <td>17120</td>\n",
              "      <td>...</td>\n",
              "      <td>11067</td>\n",
              "      <td>43500</td>\n",
              "      <td>8927</td>\n",
              "      <td>11650</td>\n",
              "      <td>8544</td>\n",
              "      <td>21370</td>\n",
              "      <td>8250</td>\n",
              "      <td>12048</td>\n",
              "      <td>12366</td>\n",
              "      <td>31250</td>\n",
              "    </tr>\n",
              "    <tr>\n",
              "      <th>...</th>\n",
              "      <td>...</td>\n",
              "      <td>...</td>\n",
              "      <td>...</td>\n",
              "      <td>...</td>\n",
              "      <td>...</td>\n",
              "      <td>...</td>\n",
              "      <td>...</td>\n",
              "      <td>...</td>\n",
              "      <td>...</td>\n",
              "      <td>...</td>\n",
              "      <td>...</td>\n",
              "      <td>...</td>\n",
              "      <td>...</td>\n",
              "      <td>...</td>\n",
              "      <td>...</td>\n",
              "      <td>...</td>\n",
              "      <td>...</td>\n",
              "      <td>...</td>\n",
              "      <td>...</td>\n",
              "      <td>...</td>\n",
              "      <td>...</td>\n",
              "    </tr>\n",
              "    <tr>\n",
              "      <th>MoSold</th>\n",
              "      <td>10</td>\n",
              "      <td>6</td>\n",
              "      <td>7</td>\n",
              "      <td>6</td>\n",
              "      <td>6</td>\n",
              "      <td>6</td>\n",
              "      <td>12</td>\n",
              "      <td>5</td>\n",
              "      <td>7</td>\n",
              "      <td>7</td>\n",
              "      <td>...</td>\n",
              "      <td>3</td>\n",
              "      <td>6</td>\n",
              "      <td>8</td>\n",
              "      <td>6</td>\n",
              "      <td>12</td>\n",
              "      <td>6</td>\n",
              "      <td>6</td>\n",
              "      <td>4</td>\n",
              "      <td>10</td>\n",
              "      <td>5</td>\n",
              "    </tr>\n",
              "    <tr>\n",
              "      <th>YrSold</th>\n",
              "      <td>2006</td>\n",
              "      <td>2008</td>\n",
              "      <td>2006</td>\n",
              "      <td>2009</td>\n",
              "      <td>2006</td>\n",
              "      <td>2007</td>\n",
              "      <td>2008</td>\n",
              "      <td>2006</td>\n",
              "      <td>2009</td>\n",
              "      <td>2008</td>\n",
              "      <td>...</td>\n",
              "      <td>2007</td>\n",
              "      <td>2007</td>\n",
              "      <td>2006</td>\n",
              "      <td>2006</td>\n",
              "      <td>2006</td>\n",
              "      <td>2006</td>\n",
              "      <td>2006</td>\n",
              "      <td>2006</td>\n",
              "      <td>2006</td>\n",
              "      <td>2006</td>\n",
              "    </tr>\n",
              "    <tr>\n",
              "      <th>SaleType</th>\n",
              "      <td>WD</td>\n",
              "      <td>WD</td>\n",
              "      <td>WD</td>\n",
              "      <td>WD</td>\n",
              "      <td>WD</td>\n",
              "      <td>WD</td>\n",
              "      <td>WD</td>\n",
              "      <td>WD</td>\n",
              "      <td>ConLD</td>\n",
              "      <td>WD</td>\n",
              "      <td>...</td>\n",
              "      <td>WD</td>\n",
              "      <td>WD</td>\n",
              "      <td>WD</td>\n",
              "      <td>WD</td>\n",
              "      <td>WD</td>\n",
              "      <td>WD</td>\n",
              "      <td>WD</td>\n",
              "      <td>WD</td>\n",
              "      <td>WD</td>\n",
              "      <td>WD</td>\n",
              "    </tr>\n",
              "    <tr>\n",
              "      <th>SaleCondition</th>\n",
              "      <td>Normal</td>\n",
              "      <td>AdjLand</td>\n",
              "      <td>Normal</td>\n",
              "      <td>Alloca</td>\n",
              "      <td>Normal</td>\n",
              "      <td>Normal</td>\n",
              "      <td>Normal</td>\n",
              "      <td>Normal</td>\n",
              "      <td>Normal</td>\n",
              "      <td>Normal</td>\n",
              "      <td>...</td>\n",
              "      <td>Normal</td>\n",
              "      <td>Normal</td>\n",
              "      <td>Normal</td>\n",
              "      <td>Normal</td>\n",
              "      <td>Normal</td>\n",
              "      <td>Normal</td>\n",
              "      <td>Normal</td>\n",
              "      <td>Normal</td>\n",
              "      <td>Abnorml</td>\n",
              "      <td>Normal</td>\n",
              "    </tr>\n",
              "    <tr>\n",
              "      <th>SalePrice</th>\n",
              "      <td>90000.0</td>\n",
              "      <td>82000.0</td>\n",
              "      <td>109900.0</td>\n",
              "      <td>118964.0</td>\n",
              "      <td>109500.0</td>\n",
              "      <td>120000.0</td>\n",
              "      <td>97000.0</td>\n",
              "      <td>87500.0</td>\n",
              "      <td>198500.0</td>\n",
              "      <td>134432.0</td>\n",
              "      <td>...</td>\n",
              "      <td>NaN</td>\n",
              "      <td>NaN</td>\n",
              "      <td>NaN</td>\n",
              "      <td>NaN</td>\n",
              "      <td>NaN</td>\n",
              "      <td>NaN</td>\n",
              "      <td>NaN</td>\n",
              "      <td>NaN</td>\n",
              "      <td>NaN</td>\n",
              "      <td>NaN</td>\n",
              "    </tr>\n",
              "  </tbody>\n",
              "</table>\n",
              "<p>81 rows × 81 columns</p>\n",
              "</div>\n",
              "      <button class=\"colab-df-convert\" onclick=\"convertToInteractive('df-1536eadf-acb7-471d-b35f-9d39230adf9f')\"\n",
              "              title=\"Convert this dataframe to an interactive table.\"\n",
              "              style=\"display:none;\">\n",
              "\n",
              "  <svg xmlns=\"http://www.w3.org/2000/svg\" height=\"24px\"viewBox=\"0 0 24 24\"\n",
              "       width=\"24px\">\n",
              "    <path d=\"M0 0h24v24H0V0z\" fill=\"none\"/>\n",
              "    <path d=\"M18.56 5.44l.94 2.06.94-2.06 2.06-.94-2.06-.94-.94-2.06-.94 2.06-2.06.94zm-11 1L8.5 8.5l.94-2.06 2.06-.94-2.06-.94L8.5 2.5l-.94 2.06-2.06.94zm10 10l.94 2.06.94-2.06 2.06-.94-2.06-.94-.94-2.06-.94 2.06-2.06.94z\"/><path d=\"M17.41 7.96l-1.37-1.37c-.4-.4-.92-.59-1.43-.59-.52 0-1.04.2-1.43.59L10.3 9.45l-7.72 7.72c-.78.78-.78 2.05 0 2.83L4 21.41c.39.39.9.59 1.41.59.51 0 1.02-.2 1.41-.59l7.78-7.78 2.81-2.81c.8-.78.8-2.07 0-2.86zM5.41 20L4 18.59l7.72-7.72 1.47 1.35L5.41 20z\"/>\n",
              "  </svg>\n",
              "      </button>\n",
              "\n",
              "\n",
              "\n",
              "    <div id=\"df-12214144-e88e-4d39-82c7-b7bde3099086\">\n",
              "      <button class=\"colab-df-quickchart\" onclick=\"quickchart('df-12214144-e88e-4d39-82c7-b7bde3099086')\"\n",
              "              title=\"Suggest charts.\"\n",
              "              style=\"display:none;\">\n",
              "\n",
              "<svg xmlns=\"http://www.w3.org/2000/svg\" height=\"24px\"viewBox=\"0 0 24 24\"\n",
              "     width=\"24px\">\n",
              "    <g>\n",
              "        <path d=\"M19 3H5c-1.1 0-2 .9-2 2v14c0 1.1.9 2 2 2h14c1.1 0 2-.9 2-2V5c0-1.1-.9-2-2-2zM9 17H7v-7h2v7zm4 0h-2V7h2v10zm4 0h-2v-4h2v4z\"/>\n",
              "    </g>\n",
              "</svg>\n",
              "      </button>\n",
              "    </div>\n",
              "\n",
              "<style>\n",
              "  .colab-df-quickchart {\n",
              "    background-color: #E8F0FE;\n",
              "    border: none;\n",
              "    border-radius: 50%;\n",
              "    cursor: pointer;\n",
              "    display: none;\n",
              "    fill: #1967D2;\n",
              "    height: 32px;\n",
              "    padding: 0 0 0 0;\n",
              "    width: 32px;\n",
              "  }\n",
              "\n",
              "  .colab-df-quickchart:hover {\n",
              "    background-color: #E2EBFA;\n",
              "    box-shadow: 0px 1px 2px rgba(60, 64, 67, 0.3), 0px 1px 3px 1px rgba(60, 64, 67, 0.15);\n",
              "    fill: #174EA6;\n",
              "  }\n",
              "\n",
              "  [theme=dark] .colab-df-quickchart {\n",
              "    background-color: #3B4455;\n",
              "    fill: #D2E3FC;\n",
              "  }\n",
              "\n",
              "  [theme=dark] .colab-df-quickchart:hover {\n",
              "    background-color: #434B5C;\n",
              "    box-shadow: 0px 1px 3px 1px rgba(0, 0, 0, 0.15);\n",
              "    filter: drop-shadow(0px 1px 2px rgba(0, 0, 0, 0.3));\n",
              "    fill: #FFFFFF;\n",
              "  }\n",
              "</style>\n",
              "\n",
              "    <script>\n",
              "      async function quickchart(key) {\n",
              "        const containerElement = document.querySelector('#' + key);\n",
              "        const charts = await google.colab.kernel.invokeFunction(\n",
              "            'suggestCharts', [key], {});\n",
              "      }\n",
              "    </script>\n",
              "\n",
              "      <script>\n",
              "\n",
              "function displayQuickchartButton(domScope) {\n",
              "  let quickchartButtonEl =\n",
              "    domScope.querySelector('#df-12214144-e88e-4d39-82c7-b7bde3099086 button.colab-df-quickchart');\n",
              "  quickchartButtonEl.style.display =\n",
              "    google.colab.kernel.accessAllowed ? 'block' : 'none';\n",
              "}\n",
              "\n",
              "        displayQuickchartButton(document);\n",
              "      </script>\n",
              "      <style>\n",
              "    .colab-df-container {\n",
              "      display:flex;\n",
              "      flex-wrap:wrap;\n",
              "      gap: 12px;\n",
              "    }\n",
              "\n",
              "    .colab-df-convert {\n",
              "      background-color: #E8F0FE;\n",
              "      border: none;\n",
              "      border-radius: 50%;\n",
              "      cursor: pointer;\n",
              "      display: none;\n",
              "      fill: #1967D2;\n",
              "      height: 32px;\n",
              "      padding: 0 0 0 0;\n",
              "      width: 32px;\n",
              "    }\n",
              "\n",
              "    .colab-df-convert:hover {\n",
              "      background-color: #E2EBFA;\n",
              "      box-shadow: 0px 1px 2px rgba(60, 64, 67, 0.3), 0px 1px 3px 1px rgba(60, 64, 67, 0.15);\n",
              "      fill: #174EA6;\n",
              "    }\n",
              "\n",
              "    [theme=dark] .colab-df-convert {\n",
              "      background-color: #3B4455;\n",
              "      fill: #D2E3FC;\n",
              "    }\n",
              "\n",
              "    [theme=dark] .colab-df-convert:hover {\n",
              "      background-color: #434B5C;\n",
              "      box-shadow: 0px 1px 3px 1px rgba(0, 0, 0, 0.15);\n",
              "      filter: drop-shadow(0px 1px 2px rgba(0, 0, 0, 0.3));\n",
              "      fill: #FFFFFF;\n",
              "    }\n",
              "  </style>\n",
              "\n",
              "      <script>\n",
              "        const buttonEl =\n",
              "          document.querySelector('#df-1536eadf-acb7-471d-b35f-9d39230adf9f button.colab-df-convert');\n",
              "        buttonEl.style.display =\n",
              "          google.colab.kernel.accessAllowed ? 'block' : 'none';\n",
              "\n",
              "        async function convertToInteractive(key) {\n",
              "          const element = document.querySelector('#df-1536eadf-acb7-471d-b35f-9d39230adf9f');\n",
              "          const dataTable =\n",
              "            await google.colab.kernel.invokeFunction('convertToInteractive',\n",
              "                                                     [key], {});\n",
              "          if (!dataTable) return;\n",
              "\n",
              "          const docLinkHtml = 'Like what you see? Visit the ' +\n",
              "            '<a target=\"_blank\" href=https://colab.research.google.com/notebooks/data_table.ipynb>data table notebook</a>'\n",
              "            + ' to learn more about interactive tables.';\n",
              "          element.innerHTML = '';\n",
              "          dataTable['output_type'] = 'display_data';\n",
              "          await google.colab.output.renderOutput(dataTable, element);\n",
              "          const docLink = document.createElement('div');\n",
              "          docLink.innerHTML = docLinkHtml;\n",
              "          element.appendChild(docLink);\n",
              "        }\n",
              "      </script>\n",
              "    </div>\n",
              "  </div>\n"
            ]
          },
          "metadata": {},
          "execution_count": 31
        }
      ]
    },
    {
      "cell_type": "markdown",
      "source": [
        "#### 外れ値の除外"
      ],
      "metadata": {
        "id": "P8ZYoVKM_TgL"
      }
    },
    {
      "cell_type": "markdown",
      "source": [
        "#### 何かいい感じの特徴量を新しく作れないか？\n",
        "- Totalに対する割合を算出するのがいいかもしれない。"
      ],
      "metadata": {
        "id": "oEj7xraMvam6"
      }
    },
    {
      "cell_type": "markdown",
      "source": [
        "### TotalBsmtSF"
      ],
      "metadata": {
        "id": "mY3_mfro_CIC"
      }
    },
    {
      "cell_type": "markdown",
      "source": [
        "#### 分布の確認"
      ],
      "metadata": {
        "id": "LKfbk7D5xnEe"
      }
    },
    {
      "cell_type": "markdown",
      "source": [
        "#### 欠損値の補完"
      ],
      "metadata": {
        "id": "bhDLwQHlxnEl"
      }
    },
    {
      "cell_type": "markdown",
      "source": [
        "#### 外れ値の除外"
      ],
      "metadata": {
        "id": "AECW4osZxnEl"
      }
    },
    {
      "cell_type": "markdown",
      "source": [
        "#### 何かいい感じの特徴量を新しく作れないか？"
      ],
      "metadata": {
        "id": "8-niaTuKxnEl"
      }
    },
    {
      "cell_type": "markdown",
      "source": [
        "#### 分布の確認"
      ],
      "metadata": {
        "id": "RyOZxkl9xiiO"
      }
    },
    {
      "cell_type": "markdown",
      "source": [
        "#### 欠損値の補完"
      ],
      "metadata": {
        "id": "TMk1IMp4xiij"
      }
    },
    {
      "cell_type": "markdown",
      "source": [
        "#### 外れ値の除外"
      ],
      "metadata": {
        "id": "uXxPXnKGxiik"
      }
    },
    {
      "cell_type": "markdown",
      "source": [
        "#### 何かいい感じの組み合わせを作れないか？"
      ],
      "metadata": {
        "id": "6SxrgtHSxiik"
      }
    },
    {
      "cell_type": "markdown",
      "source": [
        "### 1stFlrSF"
      ],
      "metadata": {
        "id": "sVdQf5u2_EyH"
      }
    },
    {
      "cell_type": "markdown",
      "source": [
        "### GrLivArea"
      ],
      "metadata": {
        "id": "xD6TN14m_G16"
      }
    },
    {
      "cell_type": "markdown",
      "source": [
        "### GarageArea"
      ],
      "metadata": {
        "id": "q18o9C4I_IxH"
      }
    },
    {
      "cell_type": "markdown",
      "metadata": {
        "id": "XdJWsDpCPZ1V"
      },
      "source": [
        "## 分布の確認"
      ]
    },
    {
      "cell_type": "markdown",
      "metadata": {
        "id": "q_m2L3r4VzaV"
      },
      "source": [
        "#### Target の確認(Dependent, Nominal)"
      ]
    },
    {
      "cell_type": "code",
      "execution_count": 32,
      "metadata": {
        "colab": {
          "base_uri": "https://localhost:8080/",
          "height": 523
        },
        "id": "Fcn62lcrcaAu",
        "outputId": "af6f899c-51eb-4000-b778-60686713687d"
      },
      "outputs": [
        {
          "output_type": "display_data",
          "data": {
            "text/plain": [
              "<Figure size 3500x1000 with 4 Axes>"
            ],
            "image/png": "[encoded data removed]"
          },
          "metadata": {}
        }
      ],
      "source": [
        "continuous_dist(all_data, \"Street\", \"SalePrice\")"
      ]
    },
    {
      "cell_type": "markdown",
      "source": [
        "## 新たに特徴量を作る\n",
        "- 参考：https://www.kaggle.com/code/lavanyashukla01/how-i-made-top-0-3-on-a-kaggle-competition?scriptVersionId=15425540&cellId=51"
      ],
      "metadata": {
        "id": "9eLXMC0BH-Q2"
      }
    },
    {
      "cell_type": "markdown",
      "source": [
        "### Bsmt周りの割合を表すカラムを作成する（効果なし）"
      ],
      "metadata": {
        "id": "K7MgLH0QLXaa"
      }
    },
    {
      "cell_type": "code",
      "source": [
        "all_data_fe = all_data.copy()\n",
        "\n",
        "all_data_preprocessed = pd.DataFrame(preprocessor.fit_transform(all_data_fe), columns=get_feature_names(preprocessor))\n",
        "all_data_preprocessed[\"BsmtFinSF1Ratio\"] = all_data_preprocessed[\"skew__BsmtFinSF1\"]/all_data_preprocessed[\"skew__TotalBsmtSF\"]\n",
        "all_data_preprocessed[\"BsmtFinSF2Ratio\"] = all_data_preprocessed[\"skew__BsmtFinSF2\"]/all_data_preprocessed[\"skew__TotalBsmtSF\"]\n",
        "all_data_preprocessed[\"BsmtUnfSFRatio\"] = all_data_preprocessed[\"skew__BsmtUnfSF\"]/all_data_preprocessed[\"skew__TotalBsmtSF\"]\n",
        "all_data_preprocessed[target] = list(all_data_fe[target])"
      ],
      "metadata": {
        "id": "0530wcPAM6Kd"
      },
      "execution_count": 33,
      "outputs": []
    },
    {
      "cell_type": "code",
      "source": [
        "train_X = all_data_preprocessed.iloc[:train.shape[0]][all_data_preprocessed.columns.drop(target)]\n",
        "train_y = pd.DataFrame(all_data_preprocessed.iloc[:train.shape[0]][target], columns=[target])\n",
        "test_X = all_data_preprocessed.iloc[train.shape[0]:][all_data_preprocessed.columns.drop(target)]\n",
        "cv = StratifiedKFold(n_splits=5, shuffle=True, random_state=1)\n",
        "model = lgb.LGBMRegressor()\n",
        "scores = cross_validate(model, train_X, train_y, scoring='neg_root_mean_squared_error', cv=cv, n_jobs=-1, error_score='raise', return_estimator=False) # model の状態を確認したい場合はreturn_estimator をTrueにする\n",
        "new_score = mean(scores[\"test_score\"])\n",
        "\n",
        "if original_score > new_score:\n",
        "  print(\"Original is better.\")\n",
        "else:\n",
        "  print(\"New score is better\")\n",
        "print(f\"Original:{score_mean}\\nNew:{new_score}\")"
      ],
      "metadata": {
        "id": "5VvX2o7DM6Kj",
        "colab": {
          "base_uri": "https://localhost:8080/"
        },
        "outputId": "b1b2696b-c0a3-4167-93cd-c1372a96dff7"
      },
      "execution_count": 34,
      "outputs": [
        {
          "output_type": "stream",
          "name": "stdout",
          "text": [
            "Original is better.\n",
            "Original:-29596.029941591074\n",
            "New:-29656.04795071597\n"
          ]
        }
      ]
    },
    {
      "cell_type": "markdown",
      "source": [
        "### 最後に改装もしくは建造されてからの年数（効果あり）\n",
        "\n",
        "\n"
      ],
      "metadata": {
        "id": "Ai9-8FTjQZ6V"
      }
    },
    {
      "cell_type": "code",
      "source": [
        "all_data_fe = all_data.copy()\n",
        "\n",
        "all_data_fe[\"YearSinceRemodel\"] = all_data_fe[\"YrSold\"] - all_data_fe[\"YearBuilt\"] # ここで新しい特徴量を追加する\n",
        "categorical_cols, numerical_cols = get_num_cat_column_names(all_data_fe, target)\n",
        "skewed_features, numerical_cols = get_skewed_column_names(all_data_fe, numerical_cols)\n",
        "preprocessor = ColumnTransformer(transformers=[(\"num\", numeric_transformer, list(set(numerical_cols)-set(skewed_features))), (\"cat\", categorical_transformer, categorical_cols), (\"skew\", skewed_transformer, skewed_features)])\n",
        "\n",
        "all_data_preprocessed = pd.DataFrame(preprocessor.fit_transform(all_data_fe), columns=get_feature_names(preprocessor))\n",
        "all_data_preprocessed[target] = list(all_data_fe[target])"
      ],
      "metadata": {
        "id": "HAr3tZ0CQEqc"
      },
      "execution_count": 35,
      "outputs": []
    },
    {
      "cell_type": "code",
      "source": [
        "train_X = all_data_preprocessed.iloc[:train.shape[0]][all_data_preprocessed.columns.drop(target)]\n",
        "train_y = pd.DataFrame(all_data_preprocessed.iloc[:train.shape[0]][target], columns=[target])\n",
        "test_X = all_data_preprocessed.iloc[train.shape[0]:][all_data_preprocessed.columns.drop(target)]\n",
        "cv = StratifiedKFold(n_splits=5, shuffle=True, random_state=1)\n",
        "model = lgb.LGBMRegressor()\n",
        "scores = cross_validate(model, train_X, train_y, scoring='neg_root_mean_squared_error', cv=cv, n_jobs=-1, error_score='raise', return_estimator=False) # model の状態を確認したい場合はreturn_estimator をTrueにする\n",
        "new_score = mean(scores[\"test_score\"])\n",
        "\n",
        "if original_score > new_score:\n",
        "  print(\"Original is better.\")\n",
        "else:\n",
        "  print(\"New score is better\")\n",
        "print(f\"Original:{score_mean}\\nNew:{new_score}\")"
      ],
      "metadata": {
        "colab": {
          "base_uri": "https://localhost:8080/"
        },
        "id": "cLfIJ-ymRbGF",
        "outputId": "e3a8b74d-0f13-4c4d-d275-d1d11620edbe"
      },
      "execution_count": 36,
      "outputs": [
        {
          "output_type": "stream",
          "name": "stdout",
          "text": [
            "New score is better\n",
            "Original:-29596.029941591074\n",
            "New:-29205.770016765142\n"
          ]
        }
      ]
    },
    {
      "cell_type": "markdown",
      "source": [
        "### 地下が未完成であることを明示的に表すカラム（若干効果あり）"
      ],
      "metadata": {
        "id": "jK7kD9M06ur1"
      }
    },
    {
      "cell_type": "code",
      "source": [
        "all_data_fe = all_data.copy()\n",
        "\n",
        "all_data_fe['BsmtFinType1_Unf'] = 1*(all_data_fe['BsmtFinType1'] == 'Unf') # ここで新しい特徴量を追加する\n",
        "categorical_cols, numerical_cols = get_num_cat_column_names(all_data_fe, target)\n",
        "skewed_features, numerical_cols = get_skewed_column_names(all_data_fe, numerical_cols)\n",
        "preprocessor = ColumnTransformer(transformers=[(\"num\", numeric_transformer, list(set(numerical_cols)-set(skewed_features))), (\"cat\", categorical_transformer, categorical_cols), (\"skew\", skewed_transformer, skewed_features)])\n",
        "\n",
        "all_data_preprocessed = pd.DataFrame(preprocessor.fit_transform(all_data_fe), columns=get_feature_names(preprocessor))\n",
        "all_data_preprocessed[target] = list(all_data_fe[target])"
      ],
      "metadata": {
        "id": "oqaQbP1t66qn"
      },
      "execution_count": 37,
      "outputs": []
    },
    {
      "cell_type": "code",
      "source": [
        "train_X = all_data_preprocessed.iloc[:train.shape[0]][all_data_preprocessed.columns.drop(target)]\n",
        "train_y = pd.DataFrame(all_data_preprocessed.iloc[:train.shape[0]][target], columns=[target])\n",
        "test_X = all_data_preprocessed.iloc[train.shape[0]:][all_data_preprocessed.columns.drop(target)]\n",
        "cv = StratifiedKFold(n_splits=5, shuffle=True, random_state=1)\n",
        "model = lgb.LGBMRegressor()\n",
        "scores = cross_validate(model, train_X, train_y, scoring='neg_root_mean_squared_error', cv=cv, n_jobs=-1, error_score='raise', return_estimator=False) # model の状態を確認したい場合はreturn_estimator をTrueにする\n",
        "new_score = mean(scores[\"test_score\"])\n",
        "\n",
        "if original_score > new_score:\n",
        "  print(\"Original is better.\")\n",
        "else:\n",
        "  print(\"New score is better\")\n",
        "print(f\"Original:{score_mean}\\nNew:{new_score}\")"
      ],
      "metadata": {
        "colab": {
          "base_uri": "https://localhost:8080/"
        },
        "id": "lNJHDu-_68K_",
        "outputId": "b93cd6e2-6b10-40f6-c924-ecbed6ff1c5b"
      },
      "execution_count": 38,
      "outputs": [
        {
          "output_type": "stream",
          "name": "stdout",
          "text": [
            "New score is better\n",
            "Original:-29596.029941591074\n",
            "New:-29565.356904100237\n"
          ]
        }
      ]
    },
    {
      "cell_type": "markdown",
      "source": [
        "### WoodDeckを持っていることをを明示的に表すカラム（若干効果あり）"
      ],
      "metadata": {
        "id": "KaGV7VIj7RiT"
      }
    },
    {
      "cell_type": "code",
      "source": [
        "all_data_fe = all_data.copy()\n",
        "\n",
        "all_data_fe['HasWoodDeck'] = (all_data_fe['WoodDeckSF'] == 0) * 1 # ここで新しい特徴量を追加する\n",
        "categorical_cols, numerical_cols = get_num_cat_column_names(all_data_fe, target)\n",
        "skewed_features, numerical_cols = get_skewed_column_names(all_data_fe, numerical_cols)\n",
        "preprocessor = ColumnTransformer(transformers=[(\"num\", numeric_transformer, list(set(numerical_cols)-set(skewed_features))), (\"cat\", categorical_transformer, categorical_cols), (\"skew\", skewed_transformer, skewed_features)])\n",
        "\n",
        "all_data_preprocessed = pd.DataFrame(preprocessor.fit_transform(all_data_fe), columns=get_feature_names(preprocessor))\n",
        "all_data_preprocessed[target] = list(all_data_fe[target])"
      ],
      "metadata": {
        "id": "v0AoS3MYRigV"
      },
      "execution_count": 39,
      "outputs": []
    },
    {
      "cell_type": "code",
      "source": [
        "train_X = all_data_preprocessed.iloc[:train.shape[0]][all_data_preprocessed.columns.drop(target)]\n",
        "train_y = pd.DataFrame(all_data_preprocessed.iloc[:train.shape[0]][target], columns=[target])\n",
        "test_X = all_data_preprocessed.iloc[train.shape[0]:][all_data_preprocessed.columns.drop(target)]\n",
        "cv = StratifiedKFold(n_splits=5, shuffle=True, random_state=1)\n",
        "model = lgb.LGBMRegressor()\n",
        "scores = cross_validate(model, train_X, train_y, scoring='neg_root_mean_squared_error', cv=cv, n_jobs=-1, error_score='raise', return_estimator=False) # model の状態を確認したい場合はreturn_estimator をTrueにする\n",
        "new_score = mean(scores[\"test_score\"])\n",
        "\n",
        "if original_score > new_score:\n",
        "  print(\"Original is better.\")\n",
        "else:\n",
        "  print(\"New score is better\")\n",
        "print(f\"Original:{score_mean}\\nNew:{new_score}\")"
      ],
      "metadata": {
        "colab": {
          "base_uri": "https://localhost:8080/"
        },
        "id": "MwLhlfYd7XFy",
        "outputId": "c219be85-f9e8-4900-9399-dc97f4519603"
      },
      "execution_count": 40,
      "outputs": [
        {
          "output_type": "stream",
          "name": "stdout",
          "text": [
            "New score is better\n",
            "Original:-29596.029941591074\n",
            "New:-29595.593231094797\n"
          ]
        }
      ]
    },
    {
      "cell_type": "markdown",
      "source": [
        "### オープンポーチを持っていることをを明示的に表すカラム（効果なし）"
      ],
      "metadata": {
        "id": "IdnunvaA7nzX"
      }
    },
    {
      "cell_type": "code",
      "source": [
        "all_data_fe = all_data.copy()\n",
        "\n",
        "all_data_fe['HasOpenPorch'] = (all_data_fe['OpenPorchSF'] == 0) * 1 # ここで新しい特徴量を追加する\n",
        "categorical_cols, numerical_cols = get_num_cat_column_names(all_data_fe, target)\n",
        "skewed_features, numerical_cols = get_skewed_column_names(all_data_fe, numerical_cols)\n",
        "preprocessor = ColumnTransformer(transformers=[(\"num\", numeric_transformer, list(set(numerical_cols)-set(skewed_features))), (\"cat\", categorical_transformer, categorical_cols), (\"skew\", skewed_transformer, skewed_features)])\n",
        "\n",
        "all_data_preprocessed = pd.DataFrame(preprocessor.fit_transform(all_data_fe), columns=get_feature_names(preprocessor))\n",
        "all_data_preprocessed[target] = list(all_data_fe[target])\n",
        "train_X = all_data_preprocessed.iloc[:train.shape[0]][all_data_preprocessed.columns.drop(target)]\n",
        "train_y = pd.DataFrame(all_data_preprocessed.iloc[:train.shape[0]][target], columns=[target])\n",
        "test_X = all_data_preprocessed.iloc[train.shape[0]:][all_data_preprocessed.columns.drop(target)]\n",
        "cv = StratifiedKFold(n_splits=5, shuffle=True, random_state=1)\n",
        "model = lgb.LGBMRegressor()\n",
        "scores = cross_validate(model, train_X, train_y, scoring='neg_root_mean_squared_error', cv=cv, n_jobs=-1, error_score='raise', return_estimator=False) # model の状態を確認したい場合はreturn_estimator をTrueにする\n",
        "new_score = mean(scores[\"test_score\"])\n",
        "\n",
        "if original_score > new_score:\n",
        "  print(\"Original is better.\")\n",
        "else:\n",
        "  print(\"New score is better\")\n",
        "print(f\"Original:{score_mean}\\nNew:{new_score}\")"
      ],
      "metadata": {
        "colab": {
          "base_uri": "https://localhost:8080/"
        },
        "id": "nWntjZBS7cgS",
        "outputId": "1e81ba01-105e-493d-ea81-9d263b0ba4ec"
      },
      "execution_count": 41,
      "outputs": [
        {
          "output_type": "stream",
          "name": "stdout",
          "text": [
            "Original is better.\n",
            "Original:-29596.029941591074\n",
            "New:-29597.084277850918\n"
          ]
        }
      ]
    },
    {
      "cell_type": "markdown",
      "source": [
        "### EnclosedPorchを持っていることをを明示的に表すカラム（効果なし）"
      ],
      "metadata": {
        "id": "J4bbOG9U82TC"
      }
    },
    {
      "cell_type": "code",
      "source": [
        "all_data_fe = all_data.copy()\n",
        "\n",
        "all_data_fe['HasEnclosedPorch'] = (all_data_fe['EnclosedPorch'] == 0) * 1 # ここで新しい特徴量を追加する\n",
        "categorical_cols, numerical_cols = get_num_cat_column_names(all_data_fe, target)\n",
        "skewed_features, numerical_cols = get_skewed_column_names(all_data_fe, numerical_cols)\n",
        "preprocessor = ColumnTransformer(transformers=[(\"num\", numeric_transformer, list(set(numerical_cols)-set(skewed_features))), (\"cat\", categorical_transformer, categorical_cols), (\"skew\", skewed_transformer, skewed_features)])\n",
        "\n",
        "all_data_preprocessed = pd.DataFrame(preprocessor.fit_transform(all_data_fe), columns=get_feature_names(preprocessor))\n",
        "all_data_preprocessed[target] = list(all_data_fe[target])\n",
        "train_X = all_data_preprocessed.iloc[:train.shape[0]][all_data_preprocessed.columns.drop(target)]\n",
        "train_y = pd.DataFrame(all_data_preprocessed.iloc[:train.shape[0]][target], columns=[target])\n",
        "test_X = all_data_preprocessed.iloc[train.shape[0]:][all_data_preprocessed.columns.drop(target)]\n",
        "cv = StratifiedKFold(n_splits=5, shuffle=True, random_state=1)\n",
        "model = lgb.LGBMRegressor()\n",
        "scores = cross_validate(model, train_X, train_y, scoring='neg_root_mean_squared_error', cv=cv, n_jobs=-1, error_score='raise', return_estimator=False) # model の状態を確認したい場合はreturn_estimator をTrueにする\n",
        "new_score = mean(scores[\"test_score\"])\n",
        "\n",
        "if original_score > new_score:\n",
        "  print(\"Original is better.\")\n",
        "else:\n",
        "  print(\"New score is better\")\n",
        "print(f\"Original:{score_mean}\\nNew:{new_score}\")"
      ],
      "metadata": {
        "colab": {
          "base_uri": "https://localhost:8080/"
        },
        "id": "xqyZ9JxX7vwc",
        "outputId": "3fcb8989-0328-4d88-f1a7-5b1345ff7119"
      },
      "execution_count": 42,
      "outputs": [
        {
          "output_type": "stream",
          "name": "stdout",
          "text": [
            "New score is better\n",
            "Original:-29596.029941591074\n",
            "New:-29596.029941591074\n"
          ]
        }
      ]
    },
    {
      "cell_type": "markdown",
      "source": [
        "### 3SsnPorchを持っていることをを明示的に表すカラム（効果なし）"
      ],
      "metadata": {
        "id": "qc-5i2aw9RKB"
      }
    },
    {
      "cell_type": "code",
      "source": [
        "all_data_fe = all_data.copy()\n",
        "\n",
        "all_data_fe['Has3SsnPorch'] = (all_data_fe['3SsnPorch'] == 0) * 1 # ここで新しい特徴量を追加する\n",
        "categorical_cols, numerical_cols = get_num_cat_column_names(all_data_fe, target)\n",
        "skewed_features, numerical_cols = get_skewed_column_names(all_data_fe, numerical_cols)\n",
        "preprocessor = ColumnTransformer(transformers=[(\"num\", numeric_transformer, list(set(numerical_cols)-set(skewed_features))), (\"cat\", categorical_transformer, categorical_cols), (\"skew\", skewed_transformer, skewed_features)])\n",
        "\n",
        "all_data_preprocessed = pd.DataFrame(preprocessor.fit_transform(all_data_fe), columns=get_feature_names(preprocessor))\n",
        "all_data_preprocessed[target] = list(all_data_fe[target])\n",
        "train_X = all_data_preprocessed.iloc[:train.shape[0]][all_data_preprocessed.columns.drop(target)]\n",
        "train_y = pd.DataFrame(all_data_preprocessed.iloc[:train.shape[0]][target], columns=[target])\n",
        "test_X = all_data_preprocessed.iloc[train.shape[0]:][all_data_preprocessed.columns.drop(target)]\n",
        "cv = StratifiedKFold(n_splits=5, shuffle=True, random_state=1)\n",
        "model = lgb.LGBMRegressor()\n",
        "scores = cross_validate(model, train_X, train_y, scoring='neg_root_mean_squared_error', cv=cv, n_jobs=-1, error_score='raise', return_estimator=False) # model の状態を確認したい場合はreturn_estimator をTrueにする\n",
        "new_score = mean(scores[\"test_score\"])\n",
        "\n",
        "if original_score > new_score:\n",
        "  print(\"Original is better.\")\n",
        "else:\n",
        "  print(\"New score is better\")\n",
        "print(f\"Original:{score_mean}\\nNew:{new_score}\")"
      ],
      "metadata": {
        "colab": {
          "base_uri": "https://localhost:8080/"
        },
        "id": "oSEaWj8Z8z4c",
        "outputId": "16705e95-82bd-4f19-85ff-0ee521fff663"
      },
      "execution_count": 43,
      "outputs": [
        {
          "output_type": "stream",
          "name": "stdout",
          "text": [
            "New score is better\n",
            "Original:-29596.029941591074\n",
            "New:-29596.029941591074\n"
          ]
        }
      ]
    },
    {
      "cell_type": "markdown",
      "source": [
        "### 家全体のQualityを表現するカラムを追加（効果あり）"
      ],
      "metadata": {
        "id": "bUA4U0py9p1_"
      }
    },
    {
      "cell_type": "code",
      "source": [
        "all_data_fe = all_data.copy()\n",
        "\n",
        "all_data_fe['Total_Home_Quality'] = all_data_fe['OverallQual'] + all_data_fe['OverallCond'] # ここで新しい特徴量を追加する\n",
        "\n",
        "categorical_cols, numerical_cols = get_num_cat_column_names(all_data_fe, target)\n",
        "skewed_features, numerical_cols = get_skewed_column_names(all_data_fe, numerical_cols)\n",
        "preprocessor = ColumnTransformer(transformers=[(\"num\", numeric_transformer, list(set(numerical_cols)-set(skewed_features))), (\"cat\", categorical_transformer, categorical_cols), (\"skew\", skewed_transformer, skewed_features)])\n",
        "\n",
        "all_data_preprocessed = pd.DataFrame(preprocessor.fit_transform(all_data_fe), columns=get_feature_names(preprocessor))\n",
        "all_data_preprocessed[target] = list(all_data_fe[target])\n",
        "train_X = all_data_preprocessed.iloc[:train.shape[0]][all_data_preprocessed.columns.drop(target)]\n",
        "train_y = pd.DataFrame(all_data_preprocessed.iloc[:train.shape[0]][target], columns=[target])\n",
        "test_X = all_data_preprocessed.iloc[train.shape[0]:][all_data_preprocessed.columns.drop(target)]\n",
        "cv = StratifiedKFold(n_splits=5, shuffle=True, random_state=1)\n",
        "model = lgb.LGBMRegressor()\n",
        "scores = cross_validate(model, train_X, train_y, scoring='neg_root_mean_squared_error', cv=cv, n_jobs=-1, error_score='raise', return_estimator=False) # model の状態を確認したい場合はreturn_estimator をTrueにする\n",
        "new_score = mean(scores[\"test_score\"])\n",
        "\n",
        "if original_score > new_score:\n",
        "  print(\"Original is better.\")\n",
        "else:\n",
        "  print(\"New score is better\")\n",
        "print(f\"Original:{score_mean}\\nNew:{new_score}\")"
      ],
      "metadata": {
        "colab": {
          "base_uri": "https://localhost:8080/"
        },
        "id": "WmfUKsJ79fHU",
        "outputId": "906f0429-8da4-4730-9c5e-f3bbca571412"
      },
      "execution_count": 44,
      "outputs": [
        {
          "output_type": "stream",
          "name": "stdout",
          "text": [
            "New score is better\n",
            "Original:-29596.029941591074\n",
            "New:-29557.67289922975\n"
          ]
        }
      ]
    },
    {
      "cell_type": "markdown",
      "source": [
        "### トータルの広さ（効果あり）"
      ],
      "metadata": {
        "id": "_j767ScA-G9Q"
      }
    },
    {
      "cell_type": "code",
      "source": [
        "all_data_fe = all_data.copy()\n",
        "\n",
        "all_data_fe['TotalSF'] = all_data_fe['TotalBsmtSF'] + all_data_fe['1stFlrSF'] + all_data_fe['2ndFlrSF'] # ここで新しい特徴量を追加する\n",
        "\n",
        "categorical_cols, numerical_cols = get_num_cat_column_names(all_data_fe, target)\n",
        "skewed_features, numerical_cols = get_skewed_column_names(all_data_fe, numerical_cols)\n",
        "preprocessor = ColumnTransformer(transformers=[(\"num\", numeric_transformer, list(set(numerical_cols)-set(skewed_features))), (\"cat\", categorical_transformer, categorical_cols), (\"skew\", skewed_transformer, skewed_features)])\n",
        "\n",
        "all_data_preprocessed = pd.DataFrame(preprocessor.fit_transform(all_data_fe), columns=get_feature_names(preprocessor))\n",
        "all_data_preprocessed[target] = list(all_data_fe[target])\n",
        "train_X = all_data_preprocessed.iloc[:train.shape[0]][all_data_preprocessed.columns.drop(target)]\n",
        "train_y = pd.DataFrame(all_data_preprocessed.iloc[:train.shape[0]][target], columns=[target])\n",
        "test_X = all_data_preprocessed.iloc[train.shape[0]:][all_data_preprocessed.columns.drop(target)]\n",
        "cv = StratifiedKFold(n_splits=5, shuffle=True, random_state=1)\n",
        "model = lgb.LGBMRegressor()\n",
        "scores = cross_validate(model, train_X, train_y, scoring='neg_root_mean_squared_error', cv=cv, n_jobs=-1, error_score='raise', return_estimator=False) # model の状態を確認したい場合はreturn_estimator をTrueにする\n",
        "new_score = mean(scores[\"test_score\"])\n",
        "\n",
        "if original_score > new_score:\n",
        "  print(\"Original is better.\")\n",
        "else:\n",
        "  print(\"New score is better\")\n",
        "print(f\"Original:{score_mean}\\nNew:{new_score}\")"
      ],
      "metadata": {
        "colab": {
          "base_uri": "https://localhost:8080/"
        },
        "id": "NhgMRjLO9nOW",
        "outputId": "add26b20-1b2a-4aa6-95ad-8741f66701be"
      },
      "execution_count": 45,
      "outputs": [
        {
          "output_type": "stream",
          "name": "stdout",
          "text": [
            "New score is better\n",
            "Original:-29596.029941591074\n",
            "New:-29452.477869424525\n"
          ]
        }
      ]
    },
    {
      "cell_type": "markdown",
      "source": [
        "### 2階があるかどうか（効果あり）"
      ],
      "metadata": {
        "id": "-mX1Rrvn-Yal"
      }
    },
    {
      "cell_type": "code",
      "source": [
        "all_data_fe = all_data.copy()\n",
        "\n",
        "all_data_fe['has2ndfloor'] = all_data_fe['2ndFlrSF'].apply(lambda x: 1 if x > 0 else 0) # ここで新しい特徴量を追加する\n",
        "\n",
        "categorical_cols, numerical_cols = get_num_cat_column_names(all_data_fe, target)\n",
        "skewed_features, numerical_cols = get_skewed_column_names(all_data_fe, numerical_cols)\n",
        "preprocessor = ColumnTransformer(transformers=[(\"num\", numeric_transformer, list(set(numerical_cols)-set(skewed_features))), (\"cat\", categorical_transformer, categorical_cols), (\"skew\", skewed_transformer, skewed_features)])\n",
        "\n",
        "all_data_preprocessed = pd.DataFrame(preprocessor.fit_transform(all_data_fe), columns=get_feature_names(preprocessor))\n",
        "all_data_preprocessed[target] = list(all_data_fe[target])\n",
        "train_X = all_data_preprocessed.iloc[:train.shape[0]][all_data_preprocessed.columns.drop(target)]\n",
        "train_y = pd.DataFrame(all_data_preprocessed.iloc[:train.shape[0]][target], columns=[target])\n",
        "test_X = all_data_preprocessed.iloc[train.shape[0]:][all_data_preprocessed.columns.drop(target)]\n",
        "cv = StratifiedKFold(n_splits=5, shuffle=True, random_state=1)\n",
        "model = lgb.LGBMRegressor()\n",
        "scores = cross_validate(model, train_X, train_y, scoring='neg_root_mean_squared_error', cv=cv, n_jobs=-1, error_score='raise', return_estimator=False) # model の状態を確認したい場合はreturn_estimator をTrueにする\n",
        "new_score = mean(scores[\"test_score\"])\n",
        "\n",
        "if original_score > new_score:\n",
        "  print(\"Original is better.\")\n",
        "else:\n",
        "  print(\"New score is better\")\n",
        "print(f\"Original:{score_mean}\\nNew:{new_score}\")"
      ],
      "metadata": {
        "colab": {
          "base_uri": "https://localhost:8080/"
        },
        "id": "rkZV4fx6-GPz",
        "outputId": "f6ac1792-0d3d-40ce-ffe6-fdb019163d4e"
      },
      "execution_count": 46,
      "outputs": [
        {
          "output_type": "stream",
          "name": "stdout",
          "text": [
            "New score is better\n",
            "Original:-29596.029941591074\n",
            "New:-29596.029941591074\n"
          ]
        }
      ]
    },
    {
      "cell_type": "markdown",
      "source": [
        "### ガレージがあるかどうか（効果あり）"
      ],
      "metadata": {
        "id": "ga2KVBzF-if-"
      }
    },
    {
      "cell_type": "code",
      "source": [
        "all_data_fe = all_data.copy()\n",
        "\n",
        "all_data_fe['hasgarage'] = all_data_fe['GarageArea'].apply(lambda x: 1 if x > 0 else 0) # ここで新しい特徴量を追加する\n",
        "\n",
        "categorical_cols, numerical_cols = get_num_cat_column_names(all_data_fe, target)\n",
        "skewed_features, numerical_cols = get_skewed_column_names(all_data_fe, numerical_cols)\n",
        "preprocessor = ColumnTransformer(transformers=[(\"num\", numeric_transformer, list(set(numerical_cols)-set(skewed_features))), (\"cat\", categorical_transformer, categorical_cols), (\"skew\", skewed_transformer, skewed_features)])\n",
        "\n",
        "all_data_preprocessed = pd.DataFrame(preprocessor.fit_transform(all_data_fe), columns=get_feature_names(preprocessor))\n",
        "all_data_preprocessed[target] = list(all_data_fe[target])\n",
        "train_X = all_data_preprocessed.iloc[:train.shape[0]][all_data_preprocessed.columns.drop(target)]\n",
        "train_y = pd.DataFrame(all_data_preprocessed.iloc[:train.shape[0]][target], columns=[target])\n",
        "test_X = all_data_preprocessed.iloc[train.shape[0]:][all_data_preprocessed.columns.drop(target)]\n",
        "cv = StratifiedKFold(n_splits=5, shuffle=True, random_state=1)\n",
        "model = lgb.LGBMRegressor()\n",
        "scores = cross_validate(model, train_X, train_y, scoring='neg_root_mean_squared_error', cv=cv, n_jobs=-1, error_score='raise', return_estimator=False) # model の状態を確認したい場合はreturn_estimator をTrueにする\n",
        "new_score = mean(scores[\"test_score\"])\n",
        "\n",
        "if original_score > new_score:\n",
        "  print(\"Original is better.\")\n",
        "else:\n",
        "  print(\"New score is better\")\n",
        "print(f\"Original:{score_mean}\\nNew:{new_score}\")"
      ],
      "metadata": {
        "colab": {
          "base_uri": "https://localhost:8080/"
        },
        "id": "HhhR4SBo-X0q",
        "outputId": "ced81d2c-c6a0-4721-9a49-9bbabe078fcf"
      },
      "execution_count": 47,
      "outputs": [
        {
          "output_type": "stream",
          "name": "stdout",
          "text": [
            "New score is better\n",
            "Original:-29596.029941591074\n",
            "New:-29596.029941591074\n"
          ]
        }
      ]
    },
    {
      "cell_type": "markdown",
      "source": [
        "### 地下があるかどうか（効果あり）"
      ],
      "metadata": {
        "id": "ckPttDrqJn_u"
      }
    },
    {
      "cell_type": "code",
      "source": [
        "all_data_fe = all_data.copy()\n",
        "\n",
        "all_data_fe['hasbsmt'] = all_data_fe['TotalBsmtSF'].apply(lambda x: 1 if x > 0 else 0) # ここで新しい特徴量を追加する\n",
        "\n",
        "categorical_cols, numerical_cols = get_num_cat_column_names(all_data_fe, target)\n",
        "skewed_features, numerical_cols = get_skewed_column_names(all_data_fe, numerical_cols)\n",
        "preprocessor = ColumnTransformer(transformers=[(\"num\", numeric_transformer, list(set(numerical_cols)-set(skewed_features))), (\"cat\", categorical_transformer, categorical_cols), (\"skew\", skewed_transformer, skewed_features)])\n",
        "\n",
        "all_data_preprocessed = pd.DataFrame(preprocessor.fit_transform(all_data_fe), columns=get_feature_names(preprocessor))\n",
        "all_data_preprocessed[target] = list(all_data_fe[target])\n",
        "train_X = all_data_preprocessed.iloc[:train.shape[0]][all_data_preprocessed.columns.drop(target)]\n",
        "train_y = pd.DataFrame(all_data_preprocessed.iloc[:train.shape[0]][target], columns=[target])\n",
        "test_X = all_data_preprocessed.iloc[train.shape[0]:][all_data_preprocessed.columns.drop(target)]\n",
        "cv = StratifiedKFold(n_splits=5, shuffle=True, random_state=1)\n",
        "model = lgb.LGBMRegressor()\n",
        "scores = cross_validate(model, train_X, train_y, scoring='neg_root_mean_squared_error', cv=cv, n_jobs=-1, error_score='raise', return_estimator=False) # model の状態を確認したい場合はreturn_estimator をTrueにする\n",
        "new_score = mean(scores[\"test_score\"])\n",
        "\n",
        "if original_score > new_score:\n",
        "  print(\"Original is better.\")\n",
        "else:\n",
        "  print(\"New score is better\")\n",
        "print(f\"Original:{score_mean}\\nNew:{new_score}\")"
      ],
      "metadata": {
        "colab": {
          "base_uri": "https://localhost:8080/"
        },
        "outputId": "ccf6b778-b829-4c6d-e2fa-3366ba657dd5",
        "id": "M124MTYGJoAE"
      },
      "execution_count": 48,
      "outputs": [
        {
          "output_type": "stream",
          "name": "stdout",
          "text": [
            "New score is better\n",
            "Original:-29596.029941591074\n",
            "New:-29596.029941591074\n"
          ]
        }
      ]
    },
    {
      "cell_type": "markdown",
      "source": [
        "### 暖炉があるかどうか（効果あり）"
      ],
      "metadata": {
        "id": "wVf70sfKJ90m"
      }
    },
    {
      "cell_type": "code",
      "source": [
        "all_data_fe = all_data.copy()\n",
        "\n",
        "all_data_fe['hasfireplace'] = all_data_fe['Fireplaces'].apply(lambda x: 1 if x > 0 else 0) # ここで新しい特徴量を追加する\n",
        "\n",
        "categorical_cols, numerical_cols = get_num_cat_column_names(all_data_fe, target)\n",
        "skewed_features, numerical_cols = get_skewed_column_names(all_data_fe, numerical_cols)\n",
        "preprocessor = ColumnTransformer(transformers=[(\"num\", numeric_transformer, list(set(numerical_cols)-set(skewed_features))), (\"cat\", categorical_transformer, categorical_cols), (\"skew\", skewed_transformer, skewed_features)])\n",
        "\n",
        "all_data_preprocessed = pd.DataFrame(preprocessor.fit_transform(all_data_fe), columns=get_feature_names(preprocessor))\n",
        "all_data_preprocessed[target] = list(all_data_fe[target])\n",
        "train_X = all_data_preprocessed.iloc[:train.shape[0]][all_data_preprocessed.columns.drop(target)]\n",
        "train_y = pd.DataFrame(all_data_preprocessed.iloc[:train.shape[0]][target], columns=[target])\n",
        "test_X = all_data_preprocessed.iloc[train.shape[0]:][all_data_preprocessed.columns.drop(target)]\n",
        "cv = StratifiedKFold(n_splits=5, shuffle=True, random_state=1)\n",
        "model = lgb.LGBMRegressor()\n",
        "scores = cross_validate(model, train_X, train_y, scoring='neg_root_mean_squared_error', cv=cv, n_jobs=-1, error_score='raise', return_estimator=False) # model の状態を確認したい場合はreturn_estimator をTrueにする\n",
        "new_score = mean(scores[\"test_score\"])\n",
        "\n",
        "if original_score > new_score:\n",
        "  print(\"Original is better.\")\n",
        "else:\n",
        "  print(\"New score is better\")\n",
        "print(f\"Original:{score_mean}\\nNew:{new_score}\")"
      ],
      "metadata": {
        "colab": {
          "base_uri": "https://localhost:8080/"
        },
        "outputId": "7774e165-3d62-4441-f7ee-5ac2ad32d69d",
        "id": "8TyvnUEgJ90o"
      },
      "execution_count": 49,
      "outputs": [
        {
          "output_type": "stream",
          "name": "stdout",
          "text": [
            "New score is better\n",
            "Original:-29596.029941591074\n",
            "New:-29596.029941591074\n"
          ]
        }
      ]
    },
    {
      "cell_type": "markdown",
      "source": [
        "### 効果のあった特徴量を追加した状態で推論する"
      ],
      "metadata": {
        "id": "vwA-cW-tYLD5"
      }
    },
    {
      "cell_type": "code",
      "source": [
        "all_data_fe = all_data.copy()\n",
        "\n",
        "all_data_fe[\"YearSinceRemodel\"] = all_data_fe[\"YrSold\"] - all_data_fe[\"YearBuilt\"] # ここで新しい特徴量を追加する\n",
        "all_data_fe['BsmtFinType1_Unf'] = 1*(all_data_fe['BsmtFinType1'] == 'Unf') # ここで新しい特徴量を追加する\n",
        "all_data_fe['HasWoodDeck'] = (all_data_fe['WoodDeckSF'] == 0) * 1 # ここで新しい特徴量を追加する\n",
        "all_data_fe['Total_Home_Quality'] = all_data_fe['OverallQual'] + all_data_fe['OverallCond'] # ここで新しい特徴量を追加する\n",
        "all_data_fe['TotalSF'] = all_data_fe['TotalBsmtSF'] + all_data_fe['1stFlrSF'] + all_data_fe['2ndFlrSF'] # ここで新しい特徴量を追加する\n",
        "all_data_fe['has2ndfloor'] = all_data_fe['2ndFlrSF'].apply(lambda x: 1 if x > 0 else 0) # ここで新しい特徴量を追加する\n",
        "all_data_fe['hasgarage'] = all_data_fe['GarageArea'].apply(lambda x: 1 if x > 0 else 0) # ここで新しい特徴量を追加する\n",
        "all_data_fe['hasbsmt'] = all_data_fe['TotalBsmtSF'].apply(lambda x: 1 if x > 0 else 0) # ここで新しい特徴量を追加する\n",
        "all_data_fe['hasfireplace'] = all_data_fe['Fireplaces'].apply(lambda x: 1 if x > 0 else 0) # ここで新しい特徴量を追加する\n",
        "\n",
        "categorical_cols, numerical_cols = get_num_cat_column_names(all_data_fe, target)\n",
        "skewed_features, numerical_cols = get_skewed_column_names(all_data_fe, numerical_cols)\n",
        "preprocessor = ColumnTransformer(transformers=[(\"num\", numeric_transformer, list(set(numerical_cols)-set(skewed_features))), (\"cat\", categorical_transformer, categorical_cols), (\"skew\", skewed_transformer, skewed_features)])\n",
        "\n",
        "all_data_preprocessed = pd.DataFrame(preprocessor.fit_transform(all_data_fe), columns=get_feature_names(preprocessor))\n",
        "all_data_preprocessed[target] = list(all_data_fe[target])\n",
        "train_X = all_data_preprocessed.iloc[:train.shape[0]][all_data_preprocessed.columns.drop(target)]\n",
        "train_y = pd.DataFrame(all_data_preprocessed.iloc[:train.shape[0]][target], columns=[target])\n",
        "test_X = all_data_preprocessed.iloc[train.shape[0]:][all_data_preprocessed.columns.drop(target)]\n",
        "cv = StratifiedKFold(n_splits=5, shuffle=True, random_state=1)\n",
        "model = lgb.LGBMRegressor()\n",
        "scores = cross_validate(model, train_X, train_y, scoring='neg_root_mean_squared_error', cv=cv, n_jobs=-1, error_score='raise', return_estimator=False) # model の状態を確認したい場合はreturn_estimator をTrueにする\n",
        "new_score = mean(scores[\"test_score\"])\n",
        "\n",
        "if original_score > new_score:\n",
        "  print(\"Original is better.\")\n",
        "else:\n",
        "  print(\"New score is better\")\n",
        "print(f\"Original:{score_mean}\\nNew:{new_score}\")"
      ],
      "metadata": {
        "id": "Gc3u1F5_-kJo",
        "colab": {
          "base_uri": "https://localhost:8080/"
        },
        "outputId": "7bf1bfe5-a411-45b9-bc7c-8bb9af62f3af"
      },
      "execution_count": 50,
      "outputs": [
        {
          "output_type": "stream",
          "name": "stdout",
          "text": [
            "New score is better\n",
            "Original:-29596.029941591074\n",
            "New:-28910.179860921122\n"
          ]
        }
      ]
    },
    {
      "cell_type": "markdown",
      "source": [
        "### 提出する（Score: 0.1335）"
      ],
      "metadata": {
        "id": "RJX5oJudaS61"
      }
    },
    {
      "cell_type": "code",
      "source": [
        "model.fit(train_X, train_y)\n",
        "y_pred = model.predict(test_X)\n",
        "y_pred\n",
        "output = pd.DataFrame({'Id': test[\"Id\"],\n",
        "                       'SalePrice': y_pred})\n",
        "\n",
        "path = \"/content/drive/MyDrive/Colab Notebooks/data/output.csv\"\n",
        "output.to_csv(path, index=False)\n",
        "output"
      ],
      "metadata": {
        "colab": {
          "base_uri": "https://localhost:8080/",
          "height": 424
        },
        "id": "hG2Qvms-Y3dF",
        "outputId": "13aaa93a-240e-4b0d-bbe5-9f13b186cb7e"
      },
      "execution_count": 51,
      "outputs": [
        {
          "output_type": "execute_result",
          "data": {
            "text/plain": [
              "        Id      SalePrice\n",
              "0     1461  133462.369857\n",
              "1     1462  154079.305585\n",
              "2     1463  181497.909950\n",
              "3     1464  190158.959055\n",
              "4     1465  179840.880258\n",
              "...    ...            ...\n",
              "1454  2915   77404.277955\n",
              "1455  2916   82880.606404\n",
              "1456  2917  156737.604020\n",
              "1457  2918  125989.201311\n",
              "1458  2919  230392.195205\n",
              "\n",
              "[1459 rows x 2 columns]"
            ],
            "text/html": [
              "\n",
              "\n",
              "  <div id=\"df-c506b30c-8a1a-4258-9013-a91e593c1bb4\">\n",
              "    <div class=\"colab-df-container\">\n",
              "      <div>\n",
              "<style scoped>\n",
              "    .dataframe tbody tr th:only-of-type {\n",
              "        vertical-align: middle;\n",
              "    }\n",
              "\n",
              "    .dataframe tbody tr th {\n",
              "        vertical-align: top;\n",
              "    }\n",
              "\n",
              "    .dataframe thead th {\n",
              "        text-align: right;\n",
              "    }\n",
              "</style>\n",
              "<table border=\"1\" class=\"dataframe\">\n",
              "  <thead>\n",
              "    <tr style=\"text-align: right;\">\n",
              "      <th></th>\n",
              "      <th>Id</th>\n",
              "      <th>SalePrice</th>\n",
              "    </tr>\n",
              "  </thead>\n",
              "  <tbody>\n",
              "    <tr>\n",
              "      <th>0</th>\n",
              "      <td>1461</td>\n",
              "      <td>133462.369857</td>\n",
              "    </tr>\n",
              "    <tr>\n",
              "      <th>1</th>\n",
              "      <td>1462</td>\n",
              "      <td>154079.305585</td>\n",
              "    </tr>\n",
              "    <tr>\n",
              "      <th>2</th>\n",
              "      <td>1463</td>\n",
              "      <td>181497.909950</td>\n",
              "    </tr>\n",
              "    <tr>\n",
              "      <th>3</th>\n",
              "      <td>1464</td>\n",
              "      <td>190158.959055</td>\n",
              "    </tr>\n",
              "    <tr>\n",
              "      <th>4</th>\n",
              "      <td>1465</td>\n",
              "      <td>179840.880258</td>\n",
              "    </tr>\n",
              "    <tr>\n",
              "      <th>...</th>\n",
              "      <td>...</td>\n",
              "      <td>...</td>\n",
              "    </tr>\n",
              "    <tr>\n",
              "      <th>1454</th>\n",
              "      <td>2915</td>\n",
              "      <td>77404.277955</td>\n",
              "    </tr>\n",
              "    <tr>\n",
              "      <th>1455</th>\n",
              "      <td>2916</td>\n",
              "      <td>82880.606404</td>\n",
              "    </tr>\n",
              "    <tr>\n",
              "      <th>1456</th>\n",
              "      <td>2917</td>\n",
              "      <td>156737.604020</td>\n",
              "    </tr>\n",
              "    <tr>\n",
              "      <th>1457</th>\n",
              "      <td>2918</td>\n",
              "      <td>125989.201311</td>\n",
              "    </tr>\n",
              "    <tr>\n",
              "      <th>1458</th>\n",
              "      <td>2919</td>\n",
              "      <td>230392.195205</td>\n",
              "    </tr>\n",
              "  </tbody>\n",
              "</table>\n",
              "<p>1459 rows × 2 columns</p>\n",
              "</div>\n",
              "      <button class=\"colab-df-convert\" onclick=\"convertToInteractive('df-c506b30c-8a1a-4258-9013-a91e593c1bb4')\"\n",
              "              title=\"Convert this dataframe to an interactive table.\"\n",
              "              style=\"display:none;\">\n",
              "\n",
              "  <svg xmlns=\"http://www.w3.org/2000/svg\" height=\"24px\"viewBox=\"0 0 24 24\"\n",
              "       width=\"24px\">\n",
              "    <path d=\"M0 0h24v24H0V0z\" fill=\"none\"/>\n",
              "    <path d=\"M18.56 5.44l.94 2.06.94-2.06 2.06-.94-2.06-.94-.94-2.06-.94 2.06-2.06.94zm-11 1L8.5 8.5l.94-2.06 2.06-.94-2.06-.94L8.5 2.5l-.94 2.06-2.06.94zm10 10l.94 2.06.94-2.06 2.06-.94-2.06-.94-.94-2.06-.94 2.06-2.06.94z\"/><path d=\"M17.41 7.96l-1.37-1.37c-.4-.4-.92-.59-1.43-.59-.52 0-1.04.2-1.43.59L10.3 9.45l-7.72 7.72c-.78.78-.78 2.05 0 2.83L4 21.41c.39.39.9.59 1.41.59.51 0 1.02-.2 1.41-.59l7.78-7.78 2.81-2.81c.8-.78.8-2.07 0-2.86zM5.41 20L4 18.59l7.72-7.72 1.47 1.35L5.41 20z\"/>\n",
              "  </svg>\n",
              "      </button>\n",
              "\n",
              "\n",
              "\n",
              "    <div id=\"df-2ac93cc2-c16f-4d51-a167-a41fa271014d\">\n",
              "      <button class=\"colab-df-quickchart\" onclick=\"quickchart('df-2ac93cc2-c16f-4d51-a167-a41fa271014d')\"\n",
              "              title=\"Suggest charts.\"\n",
              "              style=\"display:none;\">\n",
              "\n",
              "<svg xmlns=\"http://www.w3.org/2000/svg\" height=\"24px\"viewBox=\"0 0 24 24\"\n",
              "     width=\"24px\">\n",
              "    <g>\n",
              "        <path d=\"M19 3H5c-1.1 0-2 .9-2 2v14c0 1.1.9 2 2 2h14c1.1 0 2-.9 2-2V5c0-1.1-.9-2-2-2zM9 17H7v-7h2v7zm4 0h-2V7h2v10zm4 0h-2v-4h2v4z\"/>\n",
              "    </g>\n",
              "</svg>\n",
              "      </button>\n",
              "    </div>\n",
              "\n",
              "<style>\n",
              "  .colab-df-quickchart {\n",
              "    background-color: #E8F0FE;\n",
              "    border: none;\n",
              "    border-radius: 50%;\n",
              "    cursor: pointer;\n",
              "    display: none;\n",
              "    fill: #1967D2;\n",
              "    height: 32px;\n",
              "    padding: 0 0 0 0;\n",
              "    width: 32px;\n",
              "  }\n",
              "\n",
              "  .colab-df-quickchart:hover {\n",
              "    background-color: #E2EBFA;\n",
              "    box-shadow: 0px 1px 2px rgba(60, 64, 67, 0.3), 0px 1px 3px 1px rgba(60, 64, 67, 0.15);\n",
              "    fill: #174EA6;\n",
              "  }\n",
              "\n",
              "  [theme=dark] .colab-df-quickchart {\n",
              "    background-color: #3B4455;\n",
              "    fill: #D2E3FC;\n",
              "  }\n",
              "\n",
              "  [theme=dark] .colab-df-quickchart:hover {\n",
              "    background-color: #434B5C;\n",
              "    box-shadow: 0px 1px 3px 1px rgba(0, 0, 0, 0.15);\n",
              "    filter: drop-shadow(0px 1px 2px rgba(0, 0, 0, 0.3));\n",
              "    fill: #FFFFFF;\n",
              "  }\n",
              "</style>\n",
              "\n",
              "    <script>\n",
              "      async function quickchart(key) {\n",
              "        const containerElement = document.querySelector('#' + key);\n",
              "        const charts = await google.colab.kernel.invokeFunction(\n",
              "            'suggestCharts', [key], {});\n",
              "      }\n",
              "    </script>\n",
              "\n",
              "      <script>\n",
              "\n",
              "function displayQuickchartButton(domScope) {\n",
              "  let quickchartButtonEl =\n",
              "    domScope.querySelector('#df-2ac93cc2-c16f-4d51-a167-a41fa271014d button.colab-df-quickchart');\n",
              "  quickchartButtonEl.style.display =\n",
              "    google.colab.kernel.accessAllowed ? 'block' : 'none';\n",
              "}\n",
              "\n",
              "        displayQuickchartButton(document);\n",
              "      </script>\n",
              "      <style>\n",
              "    .colab-df-container {\n",
              "      display:flex;\n",
              "      flex-wrap:wrap;\n",
              "      gap: 12px;\n",
              "    }\n",
              "\n",
              "    .colab-df-convert {\n",
              "      background-color: #E8F0FE;\n",
              "      border: none;\n",
              "      border-radius: 50%;\n",
              "      cursor: pointer;\n",
              "      display: none;\n",
              "      fill: #1967D2;\n",
              "      height: 32px;\n",
              "      padding: 0 0 0 0;\n",
              "      width: 32px;\n",
              "    }\n",
              "\n",
              "    .colab-df-convert:hover {\n",
              "      background-color: #E2EBFA;\n",
              "      box-shadow: 0px 1px 2px rgba(60, 64, 67, 0.3), 0px 1px 3px 1px rgba(60, 64, 67, 0.15);\n",
              "      fill: #174EA6;\n",
              "    }\n",
              "\n",
              "    [theme=dark] .colab-df-convert {\n",
              "      background-color: #3B4455;\n",
              "      fill: #D2E3FC;\n",
              "    }\n",
              "\n",
              "    [theme=dark] .colab-df-convert:hover {\n",
              "      background-color: #434B5C;\n",
              "      box-shadow: 0px 1px 3px 1px rgba(0, 0, 0, 0.15);\n",
              "      filter: drop-shadow(0px 1px 2px rgba(0, 0, 0, 0.3));\n",
              "      fill: #FFFFFF;\n",
              "    }\n",
              "  </style>\n",
              "\n",
              "      <script>\n",
              "        const buttonEl =\n",
              "          document.querySelector('#df-c506b30c-8a1a-4258-9013-a91e593c1bb4 button.colab-df-convert');\n",
              "        buttonEl.style.display =\n",
              "          google.colab.kernel.accessAllowed ? 'block' : 'none';\n",
              "\n",
              "        async function convertToInteractive(key) {\n",
              "          const element = document.querySelector('#df-c506b30c-8a1a-4258-9013-a91e593c1bb4');\n",
              "          const dataTable =\n",
              "            await google.colab.kernel.invokeFunction('convertToInteractive',\n",
              "                                                     [key], {});\n",
              "          if (!dataTable) return;\n",
              "\n",
              "          const docLinkHtml = 'Like what you see? Visit the ' +\n",
              "            '<a target=\"_blank\" href=https://colab.research.google.com/notebooks/data_table.ipynb>data table notebook</a>'\n",
              "            + ' to learn more about interactive tables.';\n",
              "          element.innerHTML = '';\n",
              "          dataTable['output_type'] = 'display_data';\n",
              "          await google.colab.output.renderOutput(dataTable, element);\n",
              "          const docLink = document.createElement('div');\n",
              "          docLink.innerHTML = docLinkHtml;\n",
              "          element.appendChild(docLink);\n",
              "        }\n",
              "      </script>\n",
              "    </div>\n",
              "  </div>\n"
            ]
          },
          "metadata": {},
          "execution_count": 51
        }
      ]
    },
    {
      "cell_type": "markdown",
      "source": [
        "## 欠損値処理について、fill_valueをmedianから0に切り替える（効果あり）\n"
      ],
      "metadata": {
        "id": "C3sMOdbyAwCY"
      }
    },
    {
      "cell_type": "code",
      "source": [
        "all_data_fe = all_data.copy()\n",
        "\n",
        "categorical_cols, numerical_cols = get_num_cat_column_names(all_data_fe, target)\n",
        "skewed_features, numerical_cols = get_skewed_column_names(all_data_fe, numerical_cols)\n",
        "\n",
        "# Preprocessor 周りの工事をする\n",
        "numeric_transformer = Pipeline(steps=[('num_imputer', SimpleImputer(strategy='constant', fill_value=0)), (\"scaler\", StandardScaler())])\n",
        "skewed_transformer = Pipeline(steps=[('num_imputer', SimpleImputer(strategy='constant', fill_value=0)), (\"scaler\", StandardScaler()), (\"power\", PowerTransformer(method='yeo-johnson'))])\n",
        "categorical_transformer = Pipeline(steps=[(\"cat_imputer\", SimpleImputer(strategy=\"constant\", fill_value=\"unknown\")), (\"encoder\", OrdinalEncoder())])\n",
        "preprocessor = ColumnTransformer(transformers=[(\"num\", numeric_transformer, list(set(numerical_cols)-set(skewed_features))), (\"cat\", categorical_transformer, categorical_cols), (\"skew\", skewed_transformer, skewed_features)])\n",
        "\n",
        "all_data_preprocessed = pd.DataFrame(preprocessor.fit_transform(all_data_fe), columns=get_feature_names(preprocessor))\n",
        "all_data_preprocessed[target] = list(all_data_fe[target])\n",
        "train_X = all_data_preprocessed.iloc[:train.shape[0]][all_data_preprocessed.columns.drop(target)]\n",
        "train_y = pd.DataFrame(all_data_preprocessed.iloc[:train.shape[0]][target], columns=[target])\n",
        "test_X = all_data_preprocessed.iloc[train.shape[0]:][all_data_preprocessed.columns.drop(target)]\n",
        "cv = StratifiedKFold(n_splits=5, shuffle=True, random_state=1)\n",
        "model = lgb.LGBMRegressor()\n",
        "scores = cross_validate(model, train_X, train_y, scoring='neg_root_mean_squared_error', cv=cv, n_jobs=-1, error_score='raise', return_estimator=False) # model の状態を確認したい場合はreturn_estimator をTrueにする\n",
        "new_score = mean(scores[\"test_score\"])\n",
        "\n",
        "if original_score > new_score:\n",
        "  print(\"Original is better.\")\n",
        "else:\n",
        "  print(\"New score is better\")\n",
        "print(f\"Original:{score_mean}\\nNew:{new_score}\")"
      ],
      "metadata": {
        "colab": {
          "base_uri": "https://localhost:8080/"
        },
        "id": "jC6r2GcJA9Bz",
        "outputId": "bbe9fe06-9820-431b-a11a-4ee7ec1eaf8b"
      },
      "execution_count": 52,
      "outputs": [
        {
          "output_type": "stream",
          "name": "stdout",
          "text": [
            "New score is better\n",
            "Original:-29596.029941591074\n",
            "New:-29346.63559448343\n"
          ]
        }
      ]
    },
    {
      "cell_type": "markdown",
      "source": [
        "## 外れ値に対する処理"
      ],
      "metadata": {
        "id": "AV_VQsFHGsHT"
      }
    },
    {
      "cell_type": "markdown",
      "source": [
        "### LocalOutlierFactorで外れ値を検出し、SimpleImputer(strategy='mean')で埋める（パラメータによっては効果あり）\n",
        "- 0.1 ⇒ 悪化\n",
        "- 0.01 ⇒ 悪化\n",
        "- 0.001 ⇒ 良くなった"
      ],
      "metadata": {
        "id": "A0WXFS5JCPkP"
      }
    },
    {
      "cell_type": "code",
      "source": [
        "class CleanOutlier(BaseEstimator, TransformerMixin):\n",
        "    def __init__(self, contamination=0, strategy=\"mean\"):\n",
        "        self.contamination = contamination\n",
        "        self.strategy = strategy\n",
        "\n",
        "    def fit(self, X, y=None):\n",
        "        if self.contamination==0: return self\n",
        "        self.lof = LocalOutlierFactor(contamination=self.contamination, novelty=True)\n",
        "        self.lof.fit(X)\n",
        "        return self\n",
        "\n",
        "    def transform(self, X_):\n",
        "        X = deepcopy(X_)\n",
        "        if self.contamination==0: return X\n",
        "        idx_outlier = self.lof.predict(X)==-1\n",
        "        X[idx_outlier, :] = np.nan # set NaN to outlier value\n",
        "\n",
        "        simple_imputer = SimpleImputer(strategy=self.strategy)\n",
        "        X = simple_imputer.fit_transform(X) # fill outlier value usin simple_imputer\n",
        "\n",
        "        return X"
      ],
      "metadata": {
        "id": "eNuo7jwUC6EP"
      },
      "execution_count": 53,
      "outputs": []
    },
    {
      "cell_type": "code",
      "source": [
        "all_data_fe = all_data.copy()\n",
        "contamination=0.001\n",
        "\n",
        "categorical_cols, numerical_cols = get_num_cat_column_names(all_data_fe, target)\n",
        "skewed_features, numerical_cols = get_skewed_column_names(all_data_fe, numerical_cols)\n",
        "\n",
        "# numeric_transformer と skewed_transformerを工事をする\n",
        "numeric_transformer = Pipeline(steps=[('num_imputer', SimpleImputer(strategy=\"median\")), (\"scaler\", StandardScaler()), (\"outlier\", CleanOutlier(contamination=contamination, strategy=\"mean\"))])\n",
        "skewed_transformer = Pipeline(steps=[('num_imputer', SimpleImputer(strategy=\"median\")), (\"scaler\", StandardScaler()), (\"outlier\", CleanOutlier(contamination=contamination, strategy=\"mean\")), (\"power\", PowerTransformer(method='yeo-johnson'))])\n",
        "categorical_transformer = Pipeline(steps=[(\"cat_imputer\", SimpleImputer(strategy=\"constant\", fill_value=\"unknown\")), (\"encoder\", OrdinalEncoder())])\n",
        "preprocessor = ColumnTransformer(transformers=[(\"num\", numeric_transformer, list(set(numerical_cols)-set(skewed_features))), (\"cat\", categorical_transformer, categorical_cols), (\"skew\", skewed_transformer, skewed_features)])\n",
        "\n",
        "all_data_preprocessed = pd.DataFrame(preprocessor.fit_transform(all_data_fe), columns=get_feature_names(preprocessor))\n",
        "all_data_preprocessed[target] = list(all_data_fe[target])\n",
        "train_X = all_data_preprocessed.iloc[:train.shape[0]][all_data_preprocessed.columns.drop(target)]\n",
        "train_y = pd.DataFrame(all_data_preprocessed.iloc[:train.shape[0]][target], columns=[target])\n",
        "test_X = all_data_preprocessed.iloc[train.shape[0]:][all_data_preprocessed.columns.drop(target)]\n",
        "cv = StratifiedKFold(n_splits=5, shuffle=True, random_state=1)\n",
        "model = lgb.LGBMRegressor()\n",
        "scores = cross_validate(model, train_X, train_y, scoring='neg_root_mean_squared_error', cv=cv, n_jobs=-1, error_score='raise', return_estimator=False) # model の状態を確認したい場合はreturn_estimator をTrueにする\n",
        "new_score = mean(scores[\"test_score\"])\n",
        "\n",
        "if original_score > new_score:\n",
        "  print(\"Original is better.\")\n",
        "else:\n",
        "  print(\"New score is better\")\n",
        "print(f\"Original:{score_mean}\\nNew:{new_score}\")"
      ],
      "metadata": {
        "colab": {
          "base_uri": "https://localhost:8080/"
        },
        "id": "K1vaA3alHu3M",
        "outputId": "687e6324-89c4-4250-fafc-a2f7efd8f90a"
      },
      "execution_count": 54,
      "outputs": [
        {
          "output_type": "stream",
          "name": "stdout",
          "text": [
            "New score is better\n",
            "Original:-29596.029941591074\n",
            "New:-28337.392353506963\n"
          ]
        }
      ]
    },
    {
      "cell_type": "markdown",
      "source": [
        "### LocalOutlierFactorで外れ値を検出し、SimpleImputer(strategy='median')で埋める（パラメータによっては効果あり）\n"
      ],
      "metadata": {
        "id": "BUZz43xuHiQL"
      }
    },
    {
      "cell_type": "code",
      "source": [
        "all_data_fe = all_data.copy()\n",
        "contamination=0.001\n",
        "\n",
        "categorical_cols, numerical_cols = get_num_cat_column_names(all_data_fe, target)\n",
        "skewed_features, numerical_cols = get_skewed_column_names(all_data_fe, numerical_cols)\n",
        "\n",
        "# numeric_transformer と skewed_transformerを工事をする\n",
        "numeric_transformer = Pipeline(steps=[('num_imputer', SimpleImputer(strategy=\"median\")), (\"scaler\", StandardScaler()), (\"outlier\", CleanOutlier(contamination=contamination, strategy=\"median\"))])\n",
        "skewed_transformer = Pipeline(steps=[('num_imputer', SimpleImputer(strategy=\"median\")), (\"scaler\", StandardScaler()), (\"outlier\", CleanOutlier(contamination=contamination, strategy=\"median\")), (\"power\", PowerTransformer(method='yeo-johnson'))])\n",
        "categorical_transformer = Pipeline(steps=[(\"cat_imputer\", SimpleImputer(strategy=\"constant\", fill_value=\"unknown\")), (\"encoder\", OrdinalEncoder())])\n",
        "preprocessor = ColumnTransformer(transformers=[(\"num\", numeric_transformer, list(set(numerical_cols)-set(skewed_features))), (\"cat\", categorical_transformer, categorical_cols), (\"skew\", skewed_transformer, skewed_features)])\n",
        "\n",
        "all_data_preprocessed = pd.DataFrame(preprocessor.fit_transform(all_data_fe), columns=get_feature_names(preprocessor))\n",
        "all_data_preprocessed[target] = list(all_data_fe[target])\n",
        "train_X = all_data_preprocessed.iloc[:train.shape[0]][all_data_preprocessed.columns.drop(target)]\n",
        "train_y = pd.DataFrame(all_data_preprocessed.iloc[:train.shape[0]][target], columns=[target])\n",
        "test_X = all_data_preprocessed.iloc[train.shape[0]:][all_data_preprocessed.columns.drop(target)]\n",
        "cv = StratifiedKFold(n_splits=5, shuffle=True, random_state=1)\n",
        "model = lgb.LGBMRegressor()\n",
        "scores = cross_validate(model, train_X, train_y, scoring='neg_root_mean_squared_error', cv=cv, n_jobs=-1, error_score='raise', return_estimator=False) # model の状態を確認したい場合はreturn_estimator をTrueにする\n",
        "new_score = mean(scores[\"test_score\"])\n",
        "\n",
        "if original_score > new_score:\n",
        "  print(\"Original is better.\")\n",
        "else:\n",
        "  print(\"New score is better\")\n",
        "print(f\"Original:{score_mean}\\nNew:{new_score}\")"
      ],
      "metadata": {
        "colab": {
          "base_uri": "https://localhost:8080/"
        },
        "id": "Lrmu-BmTDb-8",
        "outputId": "7f82bbaf-4000-4f71-9360-bd9f46dc4462"
      },
      "execution_count": 55,
      "outputs": [
        {
          "output_type": "stream",
          "name": "stdout",
          "text": [
            "New score is better\n",
            "Original:-29596.029941591074\n",
            "New:-28624.70308192054\n"
          ]
        }
      ]
    },
    {
      "cell_type": "markdown",
      "source": [
        "### 3 sigma を超えたものを外れ値としてクリッピングする(sigma=4あたりが丁度よさそう）\n"
      ],
      "metadata": {
        "id": "FAqY4G9oOzTj"
      }
    },
    {
      "cell_type": "code",
      "source": [
        "class SigmaOutlier(BaseEstimator, TransformerMixin):\n",
        "    def __init__(self, sigma=3):\n",
        "        self.sigma = sigma\n",
        "\n",
        "    def fit(self, X, y=None):\n",
        "        return self\n",
        "\n",
        "    def transform(self, X_):\n",
        "        X = deepcopy(X_)\n",
        "        X = pd.DataFrame(X)\n",
        "        for col in X.columns:\n",
        "          m = np.mean(X[col])\n",
        "          sd = np.std(X[col])\n",
        "          X[X[col]>(sd*self.sigma+m)] = m + sd * self.sigma\n",
        "          X[X[col]<(sd*self.sigma*-1+m)] = m - sd * self.sigma\n",
        "\n",
        "        return X.to_numpy()"
      ],
      "metadata": {
        "id": "TffKyp8sO7Kt"
      },
      "execution_count": 56,
      "outputs": []
    },
    {
      "cell_type": "code",
      "source": [
        "all_data_fe = all_data.copy()\n",
        "sigma=4\n",
        "\n",
        "categorical_cols, numerical_cols = get_num_cat_column_names(all_data_fe, target)\n",
        "skewed_features, numerical_cols = get_skewed_column_names(all_data_fe, numerical_cols)\n",
        "\n",
        "# numeric_transformer と skewed_transformerを工事をする\n",
        "numeric_transformer = Pipeline(steps=[('num_imputer', SimpleImputer(strategy=\"median\")), (\"scaler\", StandardScaler()), (\"outlier\", SigmaOutlier(sigma=sigma))])\n",
        "skewed_transformer = Pipeline(steps=[('num_imputer', SimpleImputer(strategy=\"median\")), (\"scaler\", StandardScaler()), (\"outlier\", SigmaOutlier(sigma=sigma)), (\"power\", PowerTransformer(method='yeo-johnson'))])\n",
        "categorical_transformer = Pipeline(steps=[(\"cat_imputer\", SimpleImputer(strategy=\"constant\", fill_value=\"unknown\")), (\"encoder\", OrdinalEncoder())])\n",
        "preprocessor = ColumnTransformer(transformers=[(\"num\", numeric_transformer, list(set(numerical_cols)-set(skewed_features))), (\"cat\", categorical_transformer, categorical_cols), (\"skew\", skewed_transformer, skewed_features)])\n",
        "\n",
        "all_data_preprocessed = pd.DataFrame(preprocessor.fit_transform(all_data_fe), columns=get_feature_names(preprocessor))\n",
        "all_data_preprocessed[target] = list(all_data_fe[target])\n",
        "train_X = all_data_preprocessed.iloc[:train.shape[0]][all_data_preprocessed.columns.drop(target)]\n",
        "train_y = pd.DataFrame(all_data_preprocessed.iloc[:train.shape[0]][target], columns=[target])\n",
        "test_X = all_data_preprocessed.iloc[train.shape[0]:][all_data_preprocessed.columns.drop(target)]\n",
        "cv = StratifiedKFold(n_splits=5, shuffle=True, random_state=1)\n",
        "model = lgb.LGBMRegressor()\n",
        "scores = cross_validate(model, train_X, train_y, scoring='neg_root_mean_squared_error', cv=cv, n_jobs=-1, error_score='raise', return_estimator=False) # model の状態を確認したい場合はreturn_estimator をTrueにする\n",
        "new_score = mean(scores[\"test_score\"])\n",
        "\n",
        "if original_score > new_score:\n",
        "  print(\"Original is better.\")\n",
        "else:\n",
        "  print(\"New score is better\")\n",
        "print(f\"Original:{score_mean}\\nNew:{new_score}\")"
      ],
      "metadata": {
        "colab": {
          "base_uri": "https://localhost:8080/"
        },
        "id": "3Gn_YWc0Q5I6",
        "outputId": "7d3fbc61-2011-40a1-e628-e5ff870cd9e7"
      },
      "execution_count": 57,
      "outputs": [
        {
          "output_type": "stream",
          "name": "stdout",
          "text": [
            "New score is better\n",
            "Original:-29596.029941591074\n",
            "New:-28861.934756411065\n"
          ]
        }
      ]
    },
    {
      "cell_type": "markdown",
      "source": [
        "#### 動作確認（ちゃんと動いている）"
      ],
      "metadata": {
        "id": "zgGE-uFac_LG"
      }
    },
    {
      "cell_type": "code",
      "source": [
        "all_data_fe = all_data.copy()\n",
        "n_bin = 100\n",
        "x_max = all_data_fe[\"BsmtUnfSF\"].max()\n",
        "x_min = all_data_fe[\"BsmtUnfSF\"].min()\n",
        "bins = np.linspace(x_min, x_max, n_bin)\n",
        "\n",
        "plt.hist(all_data_fe[\"BsmtUnfSF\"], bins=bins, alpha=0.5)\n",
        "# plt.show()\n",
        "\n",
        "outlier = SigmaOutlier(sigma=1.5)\n",
        "all_data_dealed = outlier.fit_transform(all_data_fe[\"BsmtUnfSF\"])\n",
        "plt.hist(all_data_dealed, bins=bins, alpha=0.5)\n",
        "plt.show()"
      ],
      "metadata": {
        "colab": {
          "base_uri": "https://localhost:8080/",
          "height": 430
        },
        "id": "FhpnG_qNVk8o",
        "outputId": "ebbc54b9-8a5d-44e7-8f86-6f9fcb55ce63"
      },
      "execution_count": 58,
      "outputs": [
        {
          "output_type": "display_data",
          "data": {
            "text/plain": [
              "<Figure size 640x480 with 1 Axes>"
            ],
            "image/png": "[encoded data removed]"
          },
          "metadata": {}
        }
      ]
    },
    {
      "cell_type": "code",
      "source": [
        "len(all_data_fe[\"BsmtUnfSF\"])"
      ],
      "metadata": {
        "colab": {
          "base_uri": "https://localhost:8080/"
        },
        "id": "lqUXNUu8Y7ku",
        "outputId": "1e073a8e-bd10-4069-db0e-72a4046521d1"
      },
      "execution_count": 59,
      "outputs": [
        {
          "output_type": "execute_result",
          "data": {
            "text/plain": [
              "2919"
            ]
          },
          "metadata": {},
          "execution_count": 59
        }
      ]
    },
    {
      "cell_type": "markdown",
      "source": [
        "# 「Regularized Linear Models」を参考に特徴量を作成する\n",
        "https://www.kaggle.com/code/apapiu/regularized-linear-models"
      ],
      "metadata": {
        "id": "r0zxXRU1dr79"
      }
    },
    {
      "cell_type": "code",
      "source": [
        "def get_skewed_column_names(df, numerical_cols, threshold=0.75):\n",
        "  skewed_feats = df[numerical_cols].apply(lambda x: skew(x.dropna())).sort_values(ascending=False)\n",
        "  skewness = pd.DataFrame({'Skew' :skewed_feats})\n",
        "  skewness = skewness[skewness.abs() > threshold]\n",
        "  skewness.dropna(inplace=True)\n",
        "  skewed_features = skewness.index.copy()\n",
        "\n",
        "  new_numerical_cols = numerical_cols.copy()\n",
        "  for col in skewed_features:\n",
        "    new_numerical_cols.remove(col)\n",
        "\n",
        "  return skewed_features, new_numerical_cols"
      ],
      "metadata": {
        "id": "rCEUl0vod5U8"
      },
      "execution_count": 64,
      "outputs": []
    },
    {
      "cell_type": "code",
      "source": [
        "def split_data(data, target):\n",
        "  train_len = data.shape[0]-data[target].isna().sum()\n",
        "  train_X = data.iloc[:train_len][data.columns.drop(target)]\n",
        "  train_y = pd.DataFrame(data.iloc[:train_len][target], columns=[target])\n",
        "  test_X = data.iloc[train_len:][data.columns.drop(target)]\n",
        "\n",
        "  return train_X, train_y, test_X"
      ],
      "metadata": {
        "id": "0n3ryx-hd-aX"
      },
      "execution_count": 66,
      "outputs": []
    },
    {
      "cell_type": "code",
      "source": [
        "def feature_engineering(data):\n",
        "  # add new feature\n",
        "  data[\"YearSinceRemodel\"] = data[\"YrSold\"] - data[\"YearBuilt\"] # ここで新しい特徴量を追加する\n",
        "  data['BsmtFinType1_Unf'] = 1*(data['BsmtFinType1'] == 'Unf') # ここで新しい特徴量を追加する\n",
        "  data['HasWoodDeck'] = (data['WoodDeckSF'] == 0) * 1 # ここで新しい特徴量を追加する\n",
        "  data['Total_Home_Quality'] = data['OverallQual'] + data['OverallCond'] # ここで新しい特徴量を追加する\n",
        "  data['TotalSF'] = data['TotalBsmtSF'] + data['1stFlrSF'] + data['2ndFlrSF'] # ここで新しい特徴量を追加する\n",
        "  data['has2ndfloor'] = data['2ndFlrSF'].apply(lambda x: 1 if x > 0 else 0) # ここで新しい特徴量を追加する\n",
        "  data['hasgarage'] = data['GarageArea'].apply(lambda x: 1 if x > 0 else 0) # ここで新しい特徴量を追加する\n",
        "  data['hasbsmt'] = data['TotalBsmtSF'].apply(lambda x: 1 if x > 0 else 0) # ここで新しい特徴量を追加する\n",
        "  data['hasfireplace'] = data['Fireplaces'].apply(lambda x: 1 if x > 0 else 0) # ここで新しい特徴量を追加する\n",
        "  data['haspool'] = data['PoolArea'].apply(lambda x: 1 if x > 0 else 0)\n",
        "  data['YrBltAndRemod'] = data['YearBuilt'] + data['YearRemodAdd']\n",
        "  data['Total_sqr_footage'] = (data['BsmtFinSF1'] + data['BsmtFinSF2'] + data['1stFlrSF'] + data['2ndFlrSF'])\n",
        "  data['Total_Bathrooms'] = (data['FullBath'] + (0.5 * data['HalfBath']) + data['BsmtFullBath'] + (0.5 * data['BsmtHalfBath']))\n",
        "  data['Total_porch_sf'] = (data['OpenPorchSF'] + data['3SsnPorch'] + data['EnclosedPorch'] + data['ScreenPorch'] + data['WoodDeckSF'])\n",
        "\n",
        "  # delete features\n",
        "  data = data.drop(['Utilities', 'Street', 'PoolQC',], axis=1)\n",
        "  return data"
      ],
      "metadata": {
        "id": "kirlDMkjd0iJ"
      },
      "execution_count": 62,
      "outputs": []
    },
    {
      "cell_type": "code",
      "source": [
        "#Validation function\n",
        "n_folds = 5\n",
        "\n",
        "def get_rmse_CV(model, train_X, train_y):\n",
        "    cv = KFold(n_splits=n_folds, shuffle=True, random_state=42)\n",
        "    scores = cross_validate(model, train_X, train_y, scoring='neg_mean_squared_error', cv=cv, n_jobs=-1, error_score='raise', return_estimator=False) # model の状態を確認したい場合はreturn_estimator をTrueにする\n",
        "    rmse = np.sqrt(-scores[\"test_score\"])\n",
        "\n",
        "    return(rmse)"
      ],
      "metadata": {
        "id": "_1jTHPGQeIk1"
      },
      "execution_count": 91,
      "outputs": []
    },
    {
      "cell_type": "markdown",
      "source": [
        "## 基本コード"
      ],
      "metadata": {
        "id": "icB1GYH1fL-z"
      }
    },
    {
      "cell_type": "code",
      "source": [
        "def feature_engineering(data):\n",
        "  train_len = data.shape[0]-data[target].isna().sum()\n",
        "  # print(data[\"SalePrice\"][:train_len])\n",
        "  data[\"SalePrice\"][:train_len] = np.log1p(data[\"SalePrice\"][:train_len])\n",
        "  # add new feature\n",
        "  data[\"YearSinceRemodel\"] = data[\"YrSold\"] - data[\"YearBuilt\"] # ここで新しい特徴量を追加する\n",
        "  data['BsmtFinType1_Unf'] = 1*(data['BsmtFinType1'] == 'Unf') # ここで新しい特徴量を追加する\n",
        "  data['HasWoodDeck'] = (data['WoodDeckSF'] == 0) * 1 # ここで新しい特徴量を追加する\n",
        "  data['Total_Home_Quality'] = data['OverallQual'] + data['OverallCond'] # ここで新しい特徴量を追加する\n",
        "  data['TotalSF'] = data['TotalBsmtSF'] + data['1stFlrSF'] + data['2ndFlrSF'] # ここで新しい特徴量を追加する\n",
        "  data['has2ndfloor'] = data['2ndFlrSF'].apply(lambda x: 1 if x > 0 else 0) # ここで新しい特徴量を追加する\n",
        "  data['hasgarage'] = data['GarageArea'].apply(lambda x: 1 if x > 0 else 0) # ここで新しい特徴量を追加する\n",
        "  data['hasbsmt'] = data['TotalBsmtSF'].apply(lambda x: 1 if x > 0 else 0) # ここで新しい特徴量を追加する\n",
        "  data['hasfireplace'] = data['Fireplaces'].apply(lambda x: 1 if x > 0 else 0) # ここで新しい特徴量を追加する\n",
        "  data['haspool'] = data['PoolArea'].apply(lambda x: 1 if x > 0 else 0)\n",
        "  data['YrBltAndRemod'] = data['YearBuilt'] + data['YearRemodAdd']\n",
        "  data['Total_sqr_footage'] = (data['BsmtFinSF1'] + data['BsmtFinSF2'] + data['1stFlrSF'] + data['2ndFlrSF'])\n",
        "  data['Total_Bathrooms'] = (data['FullBath'] + (0.5 * data['HalfBath']) + data['BsmtFullBath'] + (0.5 * data['BsmtHalfBath']))\n",
        "  data['Total_porch_sf'] = (data['OpenPorchSF'] + data['3SsnPorch'] + data['EnclosedPorch'] + data['ScreenPorch'] + data['WoodDeckSF'])\n",
        "\n",
        "  # delete features\n",
        "  data = data.drop(['Utilities', 'Street', 'PoolQC',], axis=1)\n",
        "  return data"
      ],
      "metadata": {
        "id": "W5_RaNSOgi9U"
      },
      "execution_count": 124,
      "outputs": []
    },
    {
      "cell_type": "code",
      "source": [
        "from sklearn.preprocessing import FunctionTransformer\n",
        "# FunctionTransformerを用いてnp.log1pを適用するtransformerを作成\n",
        "log_transformer = FunctionTransformer(np.log1p)"
      ],
      "metadata": {
        "id": "F0-pHAlRjELn"
      },
      "execution_count": 86,
      "outputs": []
    },
    {
      "cell_type": "markdown",
      "source": [
        "## LGBM"
      ],
      "metadata": {
        "id": "v6sQs5jQlLD_"
      }
    },
    {
      "cell_type": "code",
      "source": [
        "# Feature Engineering 用のデータフレームを作る\n",
        "all_data_fe = all_data.copy()\n",
        "\n",
        "# 特徴量エンジニアリング\n",
        "all_data_fe =feature_engineering(all_data_fe)\n",
        "\n",
        "# 量的変数、カテゴリ変数、歪度のある量的変数を定義する\n",
        "categorical_cols, numerical_cols = get_num_cat_column_names(all_data_fe, target)\n",
        "skewed_features, numerical_cols = get_skewed_column_names(all_data_fe, numerical_cols, threshold=0.75)\n",
        "\n",
        "# 特徴量への前処理を行う Preprocessor を定義する\n",
        "numeric_transformer = Pipeline(steps=[('num_imputer', SimpleImputer(strategy=\"mean\")), ])\n",
        "skewed_transformer = Pipeline(steps=[('num_imputer', SimpleImputer(strategy=\"mean\")), (\"power\", log_transformer)])\n",
        "categorical_transformer = Pipeline(steps=[(\"cat_imputer\", SimpleImputer(strategy=\"constant\", fill_value=\"unknown\")), (\"encoder\", OrdinalEncoder(handle_unknown='use_encoded_value', unknown_value=-1))])\n",
        "preprocessor = ColumnTransformer(transformers=[(\"num\", numeric_transformer, numerical_cols), (\"cat\", categorical_transformer, categorical_cols), (\"skew\", skewed_transformer, skewed_features)])\n",
        "\n",
        "# Pipeline を定義する\n",
        "pipeline_lgbm = Pipeline([\n",
        "    ('preprocessing', preprocessor),\n",
        "    ('model', lgb.LGBMRegressor())\n",
        "])\n",
        "\n",
        "# 学習用データとテストデータを分ける\n",
        "train_X, train_y, test_X = split_data(all_data_fe, target)\n",
        "\n",
        "# 作成したPipelineの精度を評価する\n",
        "score = get_rmse_CV(pipeline_lgbm, train_X, train_y)\n",
        "print(\"LGBM score: {:.4f} ({:.4f})\\n\".format(score.mean(), score.std()))"
      ],
      "metadata": {
        "colab": {
          "base_uri": "https://localhost:8080/"
        },
        "id": "XVS5Hqjpdvfj",
        "outputId": "48619eb1-1e01-4d2b-d70a-891624937d25"
      },
      "execution_count": 128,
      "outputs": [
        {
          "output_type": "stream",
          "name": "stdout",
          "text": [
            "LGBM score: 0.1343 (0.0172)\n",
            "\n"
          ]
        }
      ]
    },
    {
      "cell_type": "code",
      "source": [
        "pipeline_lgbm.fit(train_X, train_y)\n",
        "preds = np.expm1(pipeline_lgbm.predict(test_X))\n",
        "output = pd.DataFrame({'Id': test[\"Id\"],\n",
        "                       'SalePrice': preds})\n",
        "\n",
        "path = \"/content/drive/MyDrive/Colab Notebooks/data/output.csv\"\n",
        "output.to_csv(path, index=False)\n",
        "output"
      ],
      "metadata": {
        "colab": {
          "base_uri": "https://localhost:8080/",
          "height": 424
        },
        "id": "JwQLoekAzQXN",
        "outputId": "be4651eb-a744-4386-859d-cbabb09d811b"
      },
      "execution_count": 149,
      "outputs": [
        {
          "output_type": "execute_result",
          "data": {
            "text/plain": [
              "        Id      SalePrice\n",
              "0     1461  133206.345262\n",
              "1     1462  157174.596595\n",
              "2     1463  176519.091957\n",
              "3     1464  192764.546369\n",
              "4     1465  184513.846081\n",
              "...    ...            ...\n",
              "1454  2915   79647.142502\n",
              "1455  2916   76871.370660\n",
              "1456  2917  161848.908913\n",
              "1457  2918  108045.471719\n",
              "1458  2919  214813.004915\n",
              "\n",
              "[1459 rows x 2 columns]"
            ],
            "text/html": [
              "\n",
              "\n",
              "  <div id=\"df-42f650f2-df0c-4029-914c-8895c5e0b180\">\n",
              "    <div class=\"colab-df-container\">\n",
              "      <div>\n",
              "<style scoped>\n",
              "    .dataframe tbody tr th:only-of-type {\n",
              "        vertical-align: middle;\n",
              "    }\n",
              "\n",
              "    .dataframe tbody tr th {\n",
              "        vertical-align: top;\n",
              "    }\n",
              "\n",
              "    .dataframe thead th {\n",
              "        text-align: right;\n",
              "    }\n",
              "</style>\n",
              "<table border=\"1\" class=\"dataframe\">\n",
              "  <thead>\n",
              "    <tr style=\"text-align: right;\">\n",
              "      <th></th>\n",
              "      <th>Id</th>\n",
              "      <th>SalePrice</th>\n",
              "    </tr>\n",
              "  </thead>\n",
              "  <tbody>\n",
              "    <tr>\n",
              "      <th>0</th>\n",
              "      <td>1461</td>\n",
              "      <td>133206.345262</td>\n",
              "    </tr>\n",
              "    <tr>\n",
              "      <th>1</th>\n",
              "      <td>1462</td>\n",
              "      <td>157174.596595</td>\n",
              "    </tr>\n",
              "    <tr>\n",
              "      <th>2</th>\n",
              "      <td>1463</td>\n",
              "      <td>176519.091957</td>\n",
              "    </tr>\n",
              "    <tr>\n",
              "      <th>3</th>\n",
              "      <td>1464</td>\n",
              "      <td>192764.546369</td>\n",
              "    </tr>\n",
              "    <tr>\n",
              "      <th>4</th>\n",
              "      <td>1465</td>\n",
              "      <td>184513.846081</td>\n",
              "    </tr>\n",
              "    <tr>\n",
              "      <th>...</th>\n",
              "      <td>...</td>\n",
              "      <td>...</td>\n",
              "    </tr>\n",
              "    <tr>\n",
              "      <th>1454</th>\n",
              "      <td>2915</td>\n",
              "      <td>79647.142502</td>\n",
              "    </tr>\n",
              "    <tr>\n",
              "      <th>1455</th>\n",
              "      <td>2916</td>\n",
              "      <td>76871.370660</td>\n",
              "    </tr>\n",
              "    <tr>\n",
              "      <th>1456</th>\n",
              "      <td>2917</td>\n",
              "      <td>161848.908913</td>\n",
              "    </tr>\n",
              "    <tr>\n",
              "      <th>1457</th>\n",
              "      <td>2918</td>\n",
              "      <td>108045.471719</td>\n",
              "    </tr>\n",
              "    <tr>\n",
              "      <th>1458</th>\n",
              "      <td>2919</td>\n",
              "      <td>214813.004915</td>\n",
              "    </tr>\n",
              "  </tbody>\n",
              "</table>\n",
              "<p>1459 rows × 2 columns</p>\n",
              "</div>\n",
              "      <button class=\"colab-df-convert\" onclick=\"convertToInteractive('df-42f650f2-df0c-4029-914c-8895c5e0b180')\"\n",
              "              title=\"Convert this dataframe to an interactive table.\"\n",
              "              style=\"display:none;\">\n",
              "\n",
              "  <svg xmlns=\"http://www.w3.org/2000/svg\" height=\"24px\"viewBox=\"0 0 24 24\"\n",
              "       width=\"24px\">\n",
              "    <path d=\"M0 0h24v24H0V0z\" fill=\"none\"/>\n",
              "    <path d=\"M18.56 5.44l.94 2.06.94-2.06 2.06-.94-2.06-.94-.94-2.06-.94 2.06-2.06.94zm-11 1L8.5 8.5l.94-2.06 2.06-.94-2.06-.94L8.5 2.5l-.94 2.06-2.06.94zm10 10l.94 2.06.94-2.06 2.06-.94-2.06-.94-.94-2.06-.94 2.06-2.06.94z\"/><path d=\"M17.41 7.96l-1.37-1.37c-.4-.4-.92-.59-1.43-.59-.52 0-1.04.2-1.43.59L10.3 9.45l-7.72 7.72c-.78.78-.78 2.05 0 2.83L4 21.41c.39.39.9.59 1.41.59.51 0 1.02-.2 1.41-.59l7.78-7.78 2.81-2.81c.8-.78.8-2.07 0-2.86zM5.41 20L4 18.59l7.72-7.72 1.47 1.35L5.41 20z\"/>\n",
              "  </svg>\n",
              "      </button>\n",
              "\n",
              "\n",
              "\n",
              "    <div id=\"df-52a620de-3f4a-42b3-8b20-c3098e036f5c\">\n",
              "      <button class=\"colab-df-quickchart\" onclick=\"quickchart('df-52a620de-3f4a-42b3-8b20-c3098e036f5c')\"\n",
              "              title=\"Suggest charts.\"\n",
              "              style=\"display:none;\">\n",
              "\n",
              "<svg xmlns=\"http://www.w3.org/2000/svg\" height=\"24px\"viewBox=\"0 0 24 24\"\n",
              "     width=\"24px\">\n",
              "    <g>\n",
              "        <path d=\"M19 3H5c-1.1 0-2 .9-2 2v14c0 1.1.9 2 2 2h14c1.1 0 2-.9 2-2V5c0-1.1-.9-2-2-2zM9 17H7v-7h2v7zm4 0h-2V7h2v10zm4 0h-2v-4h2v4z\"/>\n",
              "    </g>\n",
              "</svg>\n",
              "      </button>\n",
              "    </div>\n",
              "\n",
              "<style>\n",
              "  .colab-df-quickchart {\n",
              "    background-color: #E8F0FE;\n",
              "    border: none;\n",
              "    border-radius: 50%;\n",
              "    cursor: pointer;\n",
              "    display: none;\n",
              "    fill: #1967D2;\n",
              "    height: 32px;\n",
              "    padding: 0 0 0 0;\n",
              "    width: 32px;\n",
              "  }\n",
              "\n",
              "  .colab-df-quickchart:hover {\n",
              "    background-color: #E2EBFA;\n",
              "    box-shadow: 0px 1px 2px rgba(60, 64, 67, 0.3), 0px 1px 3px 1px rgba(60, 64, 67, 0.15);\n",
              "    fill: #174EA6;\n",
              "  }\n",
              "\n",
              "  [theme=dark] .colab-df-quickchart {\n",
              "    background-color: #3B4455;\n",
              "    fill: #D2E3FC;\n",
              "  }\n",
              "\n",
              "  [theme=dark] .colab-df-quickchart:hover {\n",
              "    background-color: #434B5C;\n",
              "    box-shadow: 0px 1px 3px 1px rgba(0, 0, 0, 0.15);\n",
              "    filter: drop-shadow(0px 1px 2px rgba(0, 0, 0, 0.3));\n",
              "    fill: #FFFFFF;\n",
              "  }\n",
              "</style>\n",
              "\n",
              "    <script>\n",
              "      async function quickchart(key) {\n",
              "        const containerElement = document.querySelector('#' + key);\n",
              "        const charts = await google.colab.kernel.invokeFunction(\n",
              "            'suggestCharts', [key], {});\n",
              "      }\n",
              "    </script>\n",
              "\n",
              "      <script>\n",
              "\n",
              "function displayQuickchartButton(domScope) {\n",
              "  let quickchartButtonEl =\n",
              "    domScope.querySelector('#df-52a620de-3f4a-42b3-8b20-c3098e036f5c button.colab-df-quickchart');\n",
              "  quickchartButtonEl.style.display =\n",
              "    google.colab.kernel.accessAllowed ? 'block' : 'none';\n",
              "}\n",
              "\n",
              "        displayQuickchartButton(document);\n",
              "      </script>\n",
              "      <style>\n",
              "    .colab-df-container {\n",
              "      display:flex;\n",
              "      flex-wrap:wrap;\n",
              "      gap: 12px;\n",
              "    }\n",
              "\n",
              "    .colab-df-convert {\n",
              "      background-color: #E8F0FE;\n",
              "      border: none;\n",
              "      border-radius: 50%;\n",
              "      cursor: pointer;\n",
              "      display: none;\n",
              "      fill: #1967D2;\n",
              "      height: 32px;\n",
              "      padding: 0 0 0 0;\n",
              "      width: 32px;\n",
              "    }\n",
              "\n",
              "    .colab-df-convert:hover {\n",
              "      background-color: #E2EBFA;\n",
              "      box-shadow: 0px 1px 2px rgba(60, 64, 67, 0.3), 0px 1px 3px 1px rgba(60, 64, 67, 0.15);\n",
              "      fill: #174EA6;\n",
              "    }\n",
              "\n",
              "    [theme=dark] .colab-df-convert {\n",
              "      background-color: #3B4455;\n",
              "      fill: #D2E3FC;\n",
              "    }\n",
              "\n",
              "    [theme=dark] .colab-df-convert:hover {\n",
              "      background-color: #434B5C;\n",
              "      box-shadow: 0px 1px 3px 1px rgba(0, 0, 0, 0.15);\n",
              "      filter: drop-shadow(0px 1px 2px rgba(0, 0, 0, 0.3));\n",
              "      fill: #FFFFFF;\n",
              "    }\n",
              "  </style>\n",
              "\n",
              "      <script>\n",
              "        const buttonEl =\n",
              "          document.querySelector('#df-42f650f2-df0c-4029-914c-8895c5e0b180 button.colab-df-convert');\n",
              "        buttonEl.style.display =\n",
              "          google.colab.kernel.accessAllowed ? 'block' : 'none';\n",
              "\n",
              "        async function convertToInteractive(key) {\n",
              "          const element = document.querySelector('#df-42f650f2-df0c-4029-914c-8895c5e0b180');\n",
              "          const dataTable =\n",
              "            await google.colab.kernel.invokeFunction('convertToInteractive',\n",
              "                                                     [key], {});\n",
              "          if (!dataTable) return;\n",
              "\n",
              "          const docLinkHtml = 'Like what you see? Visit the ' +\n",
              "            '<a target=\"_blank\" href=https://colab.research.google.com/notebooks/data_table.ipynb>data table notebook</a>'\n",
              "            + ' to learn more about interactive tables.';\n",
              "          element.innerHTML = '';\n",
              "          dataTable['output_type'] = 'display_data';\n",
              "          await google.colab.output.renderOutput(dataTable, element);\n",
              "          const docLink = document.createElement('div');\n",
              "          docLink.innerHTML = docLinkHtml;\n",
              "          element.appendChild(docLink);\n",
              "        }\n",
              "      </script>\n",
              "    </div>\n",
              "  </div>\n"
            ]
          },
          "metadata": {},
          "execution_count": 149
        }
      ]
    },
    {
      "cell_type": "markdown",
      "source": [
        "## Ridge (Label encoding)"
      ],
      "metadata": {
        "id": "7Rb60mV-lsQm"
      }
    },
    {
      "cell_type": "code",
      "source": [
        "from sklearn.linear_model import Ridge\n",
        "# Feature Engineering 用のデータフレームを作る\n",
        "all_data_fe = all_data.copy()\n",
        "\n",
        "# 特徴量エンジニアリング\n",
        "all_data_fe =feature_engineering(all_data_fe)\n",
        "\n",
        "# 学習用データとテストデータを分ける\n",
        "train_X, train_y, test_X = split_data(all_data_fe, target)\n",
        "\n",
        "# 量的変数、カテゴリ変数、歪度のある量的変数を定義する\n",
        "categorical_cols, numerical_cols = get_num_cat_column_names(all_data_fe, target)\n",
        "skewed_features, numerical_cols = get_skewed_column_names(all_data_fe, numerical_cols, threshold=0.75)\n",
        "\n",
        "# 特徴量への前処理を行う Preprocessor を定義する\n",
        "numeric_transformer = Pipeline(steps=[('num_imputer', SimpleImputer(strategy=\"mean\")), ])\n",
        "skewed_transformer = Pipeline(steps=[('num_imputer', SimpleImputer(strategy=\"mean\")), (\"power\", log_transformer)])\n",
        "categorical_transformer = Pipeline(steps=[(\"cat_imputer\", SimpleImputer(strategy=\"constant\", fill_value=\"unknown\")), (\"encoder\", OrdinalEncoder(handle_unknown='use_encoded_value', unknown_value=-1))])\n",
        "preprocessor = ColumnTransformer(transformers=[(\"num\", numeric_transformer, numerical_cols), (\"cat\", categorical_transformer, categorical_cols), (\"skew\", skewed_transformer, skewed_features)])\n",
        "\n",
        "# Pipeline を定義する\n",
        "pipeline_ridge = Pipeline([\n",
        "    ('preprocessing', preprocessor),\n",
        "    ('model', Ridge())\n",
        "])\n",
        "\n",
        "# 作成したPipelineの精度を評価する\n",
        "alphas = [0.05, 0.1, 0.3, 1, 3, 5, 10, 15, 30, 50, 75]\n",
        "cv_ridge = [get_rmse_CV(pipeline_ridge.set_params(model__alpha = alpha), train_X, train_y).mean()\n",
        "            for alpha in alphas]\n",
        "cv_ridge = pd.Series(cv_ridge, index = alphas)\n",
        "cv_ridge.plot(title = \"Validation\")\n",
        "plt.xlabel(\"alpha\")\n",
        "plt.ylabel(\"rmse\")\n",
        "cv_ridge.min()"
      ],
      "metadata": {
        "colab": {
          "base_uri": "https://localhost:8080/",
          "height": 581
        },
        "id": "tdD0QR5jlt4B",
        "outputId": "e0edbf60-5400-44ab-a001-42a349491d38"
      },
      "execution_count": 126,
      "outputs": [
        {
          "output_type": "execute_result",
          "data": {
            "text/plain": [
              "0.13971316173175527"
            ]
          },
          "metadata": {},
          "execution_count": 126
        },
        {
          "output_type": "display_data",
          "data": {
            "text/plain": [
              "<Figure size 600x600 with 1 Axes>"
            ],
            "image/png": "[encoded data removed]"
          },
          "metadata": {}
        }
      ]
    },
    {
      "cell_type": "markdown",
      "source": [
        "## Ridge (One-hot encoding)"
      ],
      "metadata": {
        "id": "xXuZKqjcnch7"
      }
    },
    {
      "cell_type": "code",
      "source": [
        "from sklearn.linear_model import Ridge\n",
        "# Feature Engineering 用のデータフレームを作る\n",
        "all_data_fe = all_data.copy()\n",
        "\n",
        "# 特徴量エンジニアリング\n",
        "all_data_fe =feature_engineering(all_data_fe)\n",
        "\n",
        "# 学習用データとテストデータを分ける\n",
        "train_X, train_y, test_X = split_data(all_data_fe, target)\n",
        "\n",
        "# 量的変数、カテゴリ変数、歪度のある量的変数を定義する\n",
        "categorical_cols, numerical_cols = get_num_cat_column_names(all_data_fe, target)\n",
        "skewed_features, numerical_cols = get_skewed_column_names(all_data_fe, numerical_cols, threshold=0.75)\n",
        "\n",
        "# 特徴量への前処理を行う Preprocessor を定義する\n",
        "numeric_transformer = Pipeline(steps=[('num_imputer', SimpleImputer(strategy=\"mean\")), ])\n",
        "skewed_transformer = Pipeline(steps=[('num_imputer', SimpleImputer(strategy=\"mean\")), (\"power\", log_transformer)])\n",
        "categorical_transformer = Pipeline(steps=[(\"cat_imputer\", SimpleImputer(strategy=\"constant\", fill_value=\"unknown\")), (\"encoder\", OneHotEncoder(handle_unknown='ignore'))])\n",
        "preprocessor = ColumnTransformer(transformers=[(\"num\", numeric_transformer, numerical_cols), (\"cat\", categorical_transformer, categorical_cols), (\"skew\", skewed_transformer, skewed_features)])\n",
        "\n",
        "# Pipeline を定義する\n",
        "pipeline_ridge = Pipeline([\n",
        "    ('preprocessing', preprocessor),\n",
        "    ('model', Ridge())\n",
        "])\n",
        "\n",
        "# 作成したPipelineの精度を評価する\n",
        "alphas = [0.05, 0.1, 0.3, 1, 3, 5, 10, 15, 30, 50, 75]\n",
        "cv_ridge = [get_rmse_CV(pipeline_ridge.set_params(model__alpha = alpha), train_X, train_y).mean()\n",
        "            for alpha in alphas]\n",
        "cv_ridge = pd.Series(cv_ridge, index = alphas)\n",
        "cv_ridge.plot(title = \"Validation\")\n",
        "plt.xlabel(\"alpha\")\n",
        "plt.ylabel(\"rmse\")\n",
        "cv_ridge.min()"
      ],
      "metadata": {
        "colab": {
          "base_uri": "https://localhost:8080/",
          "height": 581
        },
        "id": "kG_CPswUne5Z",
        "outputId": "29c3e3e8-7ee8-42d4-beb2-0e232c234336"
      },
      "execution_count": 125,
      "outputs": [
        {
          "output_type": "execute_result",
          "data": {
            "text/plain": [
              "0.13134265440860876"
            ]
          },
          "metadata": {},
          "execution_count": 125
        },
        {
          "output_type": "display_data",
          "data": {
            "text/plain": [
              "<Figure size 600x600 with 1 Axes>"
            ],
            "image/png": "[encoded data removed]"
          },
          "metadata": {}
        }
      ]
    },
    {
      "cell_type": "code",
      "source": [
        "pipeline_ridge.fit(train_X, train_y)\n",
        "preds = pipeline_ridge.predict(train_X).ravel() # Added .ravel() to convert the predictions to a 1D array\n",
        "preds_df = pd.DataFrame({\"preds\":preds, \"true\":train_y.values.ravel()}) # Also ensure train_y is a 1D array\n",
        "preds_df[\"residuals\"] = preds_df[\"true\"] - preds_df[\"preds\"]\n",
        "preds_df.plot(x = \"preds\", y = \"residuals\",kind = \"scatter\")"
      ],
      "metadata": {
        "colab": {
          "base_uri": "https://localhost:8080/",
          "height": 559
        },
        "id": "uGHKL56ppe9d",
        "outputId": "5d804678-7714-4fac-875c-468543b56740"
      },
      "execution_count": 127,
      "outputs": [
        {
          "output_type": "execute_result",
          "data": {
            "text/plain": [
              "<Axes: xlabel='preds', ylabel='residuals'>"
            ]
          },
          "metadata": {},
          "execution_count": 127
        },
        {
          "output_type": "display_data",
          "data": {
            "text/plain": [
              "<Figure size 600x600 with 1 Axes>"
            ],
            "image/png": "[encoded data removed]"
          },
          "metadata": {}
        }
      ]
    },
    {
      "cell_type": "markdown",
      "source": [
        "## XGboost"
      ],
      "metadata": {
        "id": "-0lbf3USvda7"
      }
    },
    {
      "cell_type": "code",
      "source": [
        "from xgboost import XGBRegressor\n",
        "# Feature Engineering 用のデータフレームを作る\n",
        "all_data_fe = all_data.copy()\n",
        "\n",
        "# 特徴量エンジニアリング\n",
        "all_data_fe =feature_engineering(all_data_fe)\n",
        "\n",
        "# 学習用データとテストデータを分ける\n",
        "train_X, train_y, test_X = split_data(all_data_fe, target)\n",
        "\n",
        "# 量的変数、カテゴリ変数、歪度のある量的変数を定義する\n",
        "categorical_cols, numerical_cols = get_num_cat_column_names(all_data_fe, target)\n",
        "skewed_features, numerical_cols = get_skewed_column_names(all_data_fe, numerical_cols, threshold=0.75)\n",
        "\n",
        "# 特徴量への前処理を行う Preprocessor を定義する\n",
        "numeric_transformer = Pipeline(steps=[('num_imputer', SimpleImputer(strategy=\"mean\")), ])\n",
        "skewed_transformer = Pipeline(steps=[('num_imputer', SimpleImputer(strategy=\"mean\")), (\"power\", log_transformer)])\n",
        "categorical_transformer = Pipeline(steps=[(\"cat_imputer\", SimpleImputer(strategy=\"constant\", fill_value=\"unknown\")), (\"encoder\", OneHotEncoder(handle_unknown='ignore'))])\n",
        "preprocessor = ColumnTransformer(transformers=[(\"num\", numeric_transformer, numerical_cols), (\"cat\", categorical_transformer, categorical_cols), (\"skew\", skewed_transformer, skewed_features)])\n",
        "\n",
        "# Pipeline を定義する\n",
        "pipeline_xgb = Pipeline([\n",
        "    ('preprocessing', preprocessor),\n",
        "    ('model', XGBRegressor(n_estimators=360, max_depth=2, learning_rate=0.1))\n",
        "])\n",
        "\n",
        "\n",
        "# 作成したPipelineの精度を評価する\n",
        "score = get_rmse_CV(pipeline_xgb, train_X, train_y)\n",
        "print(\"XGBT score: {:.4f} ({:.4f})\\n\".format(score.mean(), score.std()))"
      ],
      "metadata": {
        "colab": {
          "base_uri": "https://localhost:8080/"
        },
        "id": "QytJCINhvchj",
        "outputId": "824defdd-4562-4972-8364-c5e3a6775686"
      },
      "execution_count": 131,
      "outputs": [
        {
          "output_type": "stream",
          "name": "stdout",
          "text": [
            "XGBT score: 0.1321 (0.0198)\n",
            "\n"
          ]
        }
      ]
    },
    {
      "cell_type": "code",
      "source": [
        "pipeline_xgb.fit(train_X, train_y)\n",
        "pipeline_ridge.fit(train_X, train_y)"
      ],
      "metadata": {
        "colab": {
          "base_uri": "https://localhost:8080/",
          "height": 227
        },
        "id": "EYCgj1n9xB8J",
        "outputId": "2c0649af-9cc9-4256-c989-b7b016881a89"
      },
      "execution_count": 132,
      "outputs": [
        {
          "output_type": "execute_result",
          "data": {
            "text/plain": [
              "Pipeline(steps=[('preprocessing',\n",
              "                 ColumnTransformer(transformers=[('num',\n",
              "                                                  Pipeline(steps=[('num_imputer',\n",
              "                                                                   SimpleImputer())]),\n",
              "                                                  ['Id', 'OverallQual',\n",
              "                                                   'OverallCond', 'YearBuilt',\n",
              "                                                   'YearRemodAdd',\n",
              "                                                   'BsmtFullBath', 'FullBath',\n",
              "                                                   'HalfBath', 'BedroomAbvGr',\n",
              "                                                   'Fireplaces', 'GarageYrBlt',\n",
              "                                                   'GarageCars', 'GarageArea',\n",
              "                                                   'MoSold', 'YrSold',\n",
              "                                                   'YearSinceRemodel',\n",
              "                                                   'HasWoodDeck',\n",
              "                                                   'Total_Home...\n",
              "       '3SsnPorch', 'KitchenAbvGr', 'BsmtFinSF2', 'EnclosedPorch',\n",
              "       'ScreenPorch', 'BsmtHalfBath', 'MasVnrArea', 'OpenPorchSF',\n",
              "       'WoodDeckSF', 'Total_sqr_footage', 'TotalSF', 'LotFrontage', '1stFlrSF',\n",
              "       'BsmtFinSF1', 'Total_porch_sf', 'GrLivArea', 'TotalBsmtSF', 'BsmtUnfSF',\n",
              "       'BsmtFinType1_Unf', '2ndFlrSF', 'TotRmsAbvGrd', 'hasgarage', 'hasbsmt'],\n",
              "      dtype='object'))])),\n",
              "                ('model', Ridge(alpha=75))])"
            ],
            "text/html": [
              "<style>#sk-container-id-2 {color: black;background-color: white;}#sk-container-id-2 pre{padding: 0;}#sk-container-id-2 div.sk-toggleable {background-color: white;}#sk-container-id-2 label.sk-toggleable__label {cursor: pointer;display: block;width: 100%;margin-bottom: 0;padding: 0.3em;box-sizing: border-box;text-align: center;}#sk-container-id-2 label.sk-toggleable__label-arrow:before {content: \"▸\";float: left;margin-right: 0.25em;color: #696969;}#sk-container-id-2 label.sk-toggleable__label-arrow:hover:before {color: black;}#sk-container-id-2 div.sk-estimator:hover label.sk-toggleable__label-arrow:before {color: black;}#sk-container-id-2 div.sk-toggleable__content {max-height: 0;max-width: 0;overflow: hidden;text-align: left;background-color: #f0f8ff;}#sk-container-id-2 div.sk-toggleable__content pre {margin: 0.2em;color: black;border-radius: 0.25em;background-color: #f0f8ff;}#sk-container-id-2 input.sk-toggleable__control:checked~div.sk-toggleable__content {max-height: 200px;max-width: 100%;overflow: auto;}#sk-container-id-2 input.sk-toggleable__control:checked~label.sk-toggleable__label-arrow:before {content: \"▾\";}#sk-container-id-2 div.sk-estimator input.sk-toggleable__control:checked~label.sk-toggleable__label {background-color: #d4ebff;}#sk-container-id-2 div.sk-label input.sk-toggleable__control:checked~label.sk-toggleable__label {background-color: #d4ebff;}#sk-container-id-2 input.sk-hidden--visually {border: 0;clip: rect(1px 1px 1px 1px);clip: rect(1px, 1px, 1px, 1px);height: 1px;margin: -1px;overflow: hidden;padding: 0;position: absolute;width: 1px;}#sk-container-id-2 div.sk-estimator {font-family: monospace;background-color: #f0f8ff;border: 1px dotted black;border-radius: 0.25em;box-sizing: border-box;margin-bottom: 0.5em;}#sk-container-id-2 div.sk-estimator:hover {background-color: #d4ebff;}#sk-container-id-2 div.sk-parallel-item::after {content: \"\";width: 100%;border-bottom: 1px solid gray;flex-grow: 1;}#sk-container-id-2 div.sk-label:hover label.sk-toggleable__label {background-color: #d4ebff;}#sk-container-id-2 div.sk-serial::before {content: \"\";position: absolute;border-left: 1px solid gray;box-sizing: border-box;top: 0;bottom: 0;left: 50%;z-index: 0;}#sk-container-id-2 div.sk-serial {display: flex;flex-direction: column;align-items: center;background-color: white;padding-right: 0.2em;padding-left: 0.2em;position: relative;}#sk-container-id-2 div.sk-item {position: relative;z-index: 1;}#sk-container-id-2 div.sk-parallel {display: flex;align-items: stretch;justify-content: center;background-color: white;position: relative;}#sk-container-id-2 div.sk-item::before, #sk-container-id-2 div.sk-parallel-item::before {content: \"\";position: absolute;border-left: 1px solid gray;box-sizing: border-box;top: 0;bottom: 0;left: 50%;z-index: -1;}#sk-container-id-2 div.sk-parallel-item {display: flex;flex-direction: column;z-index: 1;position: relative;background-color: white;}#sk-container-id-2 div.sk-parallel-item:first-child::after {align-self: flex-end;width: 50%;}#sk-container-id-2 div.sk-parallel-item:last-child::after {align-self: flex-start;width: 50%;}#sk-container-id-2 div.sk-parallel-item:only-child::after {width: 0;}#sk-container-id-2 div.sk-dashed-wrapped {border: 1px dashed gray;margin: 0 0.4em 0.5em 0.4em;box-sizing: border-box;padding-bottom: 0.4em;background-color: white;}#sk-container-id-2 div.sk-label label {font-family: monospace;font-weight: bold;display: inline-block;line-height: 1.2em;}#sk-container-id-2 div.sk-label-container {text-align: center;}#sk-container-id-2 div.sk-container {/* jupyter's `normalize.less` sets `[hidden] { display: none; }` but bootstrap.min.css set `[hidden] { display: none !important; }` so we also need the `!important` here to be able to override the default hidden behavior on the sphinx rendered scikit-learn.org. See: https://github.com/scikit-learn/scikit-learn/issues/21755 */display: inline-block !important;position: relative;}#sk-container-id-2 div.sk-text-repr-fallback {display: none;}</style><div id=\"sk-container-id-2\" class=\"sk-top-container\"><div class=\"sk-text-repr-fallback\"><pre>Pipeline(steps=[(&#x27;preprocessing&#x27;,\n",
              "                 ColumnTransformer(transformers=[(&#x27;num&#x27;,\n",
              "                                                  Pipeline(steps=[(&#x27;num_imputer&#x27;,\n",
              "                                                                   SimpleImputer())]),\n",
              "                                                  [&#x27;Id&#x27;, &#x27;OverallQual&#x27;,\n",
              "                                                   &#x27;OverallCond&#x27;, &#x27;YearBuilt&#x27;,\n",
              "                                                   &#x27;YearRemodAdd&#x27;,\n",
              "                                                   &#x27;BsmtFullBath&#x27;, &#x27;FullBath&#x27;,\n",
              "                                                   &#x27;HalfBath&#x27;, &#x27;BedroomAbvGr&#x27;,\n",
              "                                                   &#x27;Fireplaces&#x27;, &#x27;GarageYrBlt&#x27;,\n",
              "                                                   &#x27;GarageCars&#x27;, &#x27;GarageArea&#x27;,\n",
              "                                                   &#x27;MoSold&#x27;, &#x27;YrSold&#x27;,\n",
              "                                                   &#x27;YearSinceRemodel&#x27;,\n",
              "                                                   &#x27;HasWoodDeck&#x27;,\n",
              "                                                   &#x27;Total_Home...\n",
              "       &#x27;3SsnPorch&#x27;, &#x27;KitchenAbvGr&#x27;, &#x27;BsmtFinSF2&#x27;, &#x27;EnclosedPorch&#x27;,\n",
              "       &#x27;ScreenPorch&#x27;, &#x27;BsmtHalfBath&#x27;, &#x27;MasVnrArea&#x27;, &#x27;OpenPorchSF&#x27;,\n",
              "       &#x27;WoodDeckSF&#x27;, &#x27;Total_sqr_footage&#x27;, &#x27;TotalSF&#x27;, &#x27;LotFrontage&#x27;, &#x27;1stFlrSF&#x27;,\n",
              "       &#x27;BsmtFinSF1&#x27;, &#x27;Total_porch_sf&#x27;, &#x27;GrLivArea&#x27;, &#x27;TotalBsmtSF&#x27;, &#x27;BsmtUnfSF&#x27;,\n",
              "       &#x27;BsmtFinType1_Unf&#x27;, &#x27;2ndFlrSF&#x27;, &#x27;TotRmsAbvGrd&#x27;, &#x27;hasgarage&#x27;, &#x27;hasbsmt&#x27;],\n",
              "      dtype=&#x27;object&#x27;))])),\n",
              "                (&#x27;model&#x27;, Ridge(alpha=75))])</pre><b>In a Jupyter environment, please rerun this cell to show the HTML representation or trust the notebook. <br />On GitHub, the HTML representation is unable to render, please try loading this page with nbviewer.org.</b></div><div class=\"sk-container\" hidden><div class=\"sk-item sk-dashed-wrapped\"><div class=\"sk-label-container\"><div class=\"sk-label sk-toggleable\"><input class=\"sk-toggleable__control sk-hidden--visually\" id=\"sk-estimator-id-14\" type=\"checkbox\" ><label for=\"sk-estimator-id-14\" class=\"sk-toggleable__label sk-toggleable__label-arrow\">Pipeline</label><div class=\"sk-toggleable__content\"><pre>Pipeline(steps=[(&#x27;preprocessing&#x27;,\n",
              "                 ColumnTransformer(transformers=[(&#x27;num&#x27;,\n",
              "                                                  Pipeline(steps=[(&#x27;num_imputer&#x27;,\n",
              "                                                                   SimpleImputer())]),\n",
              "                                                  [&#x27;Id&#x27;, &#x27;OverallQual&#x27;,\n",
              "                                                   &#x27;OverallCond&#x27;, &#x27;YearBuilt&#x27;,\n",
              "                                                   &#x27;YearRemodAdd&#x27;,\n",
              "                                                   &#x27;BsmtFullBath&#x27;, &#x27;FullBath&#x27;,\n",
              "                                                   &#x27;HalfBath&#x27;, &#x27;BedroomAbvGr&#x27;,\n",
              "                                                   &#x27;Fireplaces&#x27;, &#x27;GarageYrBlt&#x27;,\n",
              "                                                   &#x27;GarageCars&#x27;, &#x27;GarageArea&#x27;,\n",
              "                                                   &#x27;MoSold&#x27;, &#x27;YrSold&#x27;,\n",
              "                                                   &#x27;YearSinceRemodel&#x27;,\n",
              "                                                   &#x27;HasWoodDeck&#x27;,\n",
              "                                                   &#x27;Total_Home...\n",
              "       &#x27;3SsnPorch&#x27;, &#x27;KitchenAbvGr&#x27;, &#x27;BsmtFinSF2&#x27;, &#x27;EnclosedPorch&#x27;,\n",
              "       &#x27;ScreenPorch&#x27;, &#x27;BsmtHalfBath&#x27;, &#x27;MasVnrArea&#x27;, &#x27;OpenPorchSF&#x27;,\n",
              "       &#x27;WoodDeckSF&#x27;, &#x27;Total_sqr_footage&#x27;, &#x27;TotalSF&#x27;, &#x27;LotFrontage&#x27;, &#x27;1stFlrSF&#x27;,\n",
              "       &#x27;BsmtFinSF1&#x27;, &#x27;Total_porch_sf&#x27;, &#x27;GrLivArea&#x27;, &#x27;TotalBsmtSF&#x27;, &#x27;BsmtUnfSF&#x27;,\n",
              "       &#x27;BsmtFinType1_Unf&#x27;, &#x27;2ndFlrSF&#x27;, &#x27;TotRmsAbvGrd&#x27;, &#x27;hasgarage&#x27;, &#x27;hasbsmt&#x27;],\n",
              "      dtype=&#x27;object&#x27;))])),\n",
              "                (&#x27;model&#x27;, Ridge(alpha=75))])</pre></div></div></div><div class=\"sk-serial\"><div class=\"sk-item sk-dashed-wrapped\"><div class=\"sk-label-container\"><div class=\"sk-label sk-toggleable\"><input class=\"sk-toggleable__control sk-hidden--visually\" id=\"sk-estimator-id-15\" type=\"checkbox\" ><label for=\"sk-estimator-id-15\" class=\"sk-toggleable__label sk-toggleable__label-arrow\">preprocessing: ColumnTransformer</label><div class=\"sk-toggleable__content\"><pre>ColumnTransformer(transformers=[(&#x27;num&#x27;,\n",
              "                                 Pipeline(steps=[(&#x27;num_imputer&#x27;,\n",
              "                                                  SimpleImputer())]),\n",
              "                                 [&#x27;Id&#x27;, &#x27;OverallQual&#x27;, &#x27;OverallCond&#x27;,\n",
              "                                  &#x27;YearBuilt&#x27;, &#x27;YearRemodAdd&#x27;, &#x27;BsmtFullBath&#x27;,\n",
              "                                  &#x27;FullBath&#x27;, &#x27;HalfBath&#x27;, &#x27;BedroomAbvGr&#x27;,\n",
              "                                  &#x27;Fireplaces&#x27;, &#x27;GarageYrBlt&#x27;, &#x27;GarageCars&#x27;,\n",
              "                                  &#x27;GarageArea&#x27;, &#x27;MoSold&#x27;, &#x27;YrSold&#x27;,\n",
              "                                  &#x27;YearSinceRemodel&#x27;, &#x27;HasWoodDeck&#x27;,\n",
              "                                  &#x27;Total_Home_Quality&#x27;, &#x27;has2ndfloor&#x27;,\n",
              "                                  &#x27;hasfirep...\n",
              "                                 Index([&#x27;MiscVal&#x27;, &#x27;PoolArea&#x27;, &#x27;haspool&#x27;, &#x27;LotArea&#x27;, &#x27;LowQualFinSF&#x27;,\n",
              "       &#x27;3SsnPorch&#x27;, &#x27;KitchenAbvGr&#x27;, &#x27;BsmtFinSF2&#x27;, &#x27;EnclosedPorch&#x27;,\n",
              "       &#x27;ScreenPorch&#x27;, &#x27;BsmtHalfBath&#x27;, &#x27;MasVnrArea&#x27;, &#x27;OpenPorchSF&#x27;,\n",
              "       &#x27;WoodDeckSF&#x27;, &#x27;Total_sqr_footage&#x27;, &#x27;TotalSF&#x27;, &#x27;LotFrontage&#x27;, &#x27;1stFlrSF&#x27;,\n",
              "       &#x27;BsmtFinSF1&#x27;, &#x27;Total_porch_sf&#x27;, &#x27;GrLivArea&#x27;, &#x27;TotalBsmtSF&#x27;, &#x27;BsmtUnfSF&#x27;,\n",
              "       &#x27;BsmtFinType1_Unf&#x27;, &#x27;2ndFlrSF&#x27;, &#x27;TotRmsAbvGrd&#x27;, &#x27;hasgarage&#x27;, &#x27;hasbsmt&#x27;],\n",
              "      dtype=&#x27;object&#x27;))])</pre></div></div></div><div class=\"sk-parallel\"><div class=\"sk-parallel-item\"><div class=\"sk-item\"><div class=\"sk-label-container\"><div class=\"sk-label sk-toggleable\"><input class=\"sk-toggleable__control sk-hidden--visually\" id=\"sk-estimator-id-16\" type=\"checkbox\" ><label for=\"sk-estimator-id-16\" class=\"sk-toggleable__label sk-toggleable__label-arrow\">num</label><div class=\"sk-toggleable__content\"><pre>[&#x27;Id&#x27;, &#x27;OverallQual&#x27;, &#x27;OverallCond&#x27;, &#x27;YearBuilt&#x27;, &#x27;YearRemodAdd&#x27;, &#x27;BsmtFullBath&#x27;, &#x27;FullBath&#x27;, &#x27;HalfBath&#x27;, &#x27;BedroomAbvGr&#x27;, &#x27;Fireplaces&#x27;, &#x27;GarageYrBlt&#x27;, &#x27;GarageCars&#x27;, &#x27;GarageArea&#x27;, &#x27;MoSold&#x27;, &#x27;YrSold&#x27;, &#x27;YearSinceRemodel&#x27;, &#x27;HasWoodDeck&#x27;, &#x27;Total_Home_Quality&#x27;, &#x27;has2ndfloor&#x27;, &#x27;hasfireplace&#x27;, &#x27;YrBltAndRemod&#x27;, &#x27;Total_Bathrooms&#x27;]</pre></div></div></div><div class=\"sk-serial\"><div class=\"sk-item\"><div class=\"sk-serial\"><div class=\"sk-item\"><div class=\"sk-estimator sk-toggleable\"><input class=\"sk-toggleable__control sk-hidden--visually\" id=\"sk-estimator-id-17\" type=\"checkbox\" ><label for=\"sk-estimator-id-17\" class=\"sk-toggleable__label sk-toggleable__label-arrow\">SimpleImputer</label><div class=\"sk-toggleable__content\"><pre>SimpleImputer()</pre></div></div></div></div></div></div></div></div><div class=\"sk-parallel-item\"><div class=\"sk-item\"><div class=\"sk-label-container\"><div class=\"sk-label sk-toggleable\"><input class=\"sk-toggleable__control sk-hidden--visually\" id=\"sk-estimator-id-18\" type=\"checkbox\" ><label for=\"sk-estimator-id-18\" class=\"sk-toggleable__label sk-toggleable__label-arrow\">cat</label><div class=\"sk-toggleable__content\"><pre>[&#x27;MSSubClass&#x27;, &#x27;MSZoning&#x27;, &#x27;Alley&#x27;, &#x27;LotShape&#x27;, &#x27;LandContour&#x27;, &#x27;LotConfig&#x27;, &#x27;LandSlope&#x27;, &#x27;Neighborhood&#x27;, &#x27;Condition1&#x27;, &#x27;Condition2&#x27;, &#x27;BldgType&#x27;, &#x27;HouseStyle&#x27;, &#x27;RoofStyle&#x27;, &#x27;RoofMatl&#x27;, &#x27;Exterior1st&#x27;, &#x27;Exterior2nd&#x27;, &#x27;MasVnrType&#x27;, &#x27;ExterQual&#x27;, &#x27;ExterCond&#x27;, &#x27;Foundation&#x27;, &#x27;BsmtQual&#x27;, &#x27;BsmtCond&#x27;, &#x27;BsmtExposure&#x27;, &#x27;BsmtFinType1&#x27;, &#x27;BsmtFinType2&#x27;, &#x27;Heating&#x27;, &#x27;HeatingQC&#x27;, &#x27;CentralAir&#x27;, &#x27;Electrical&#x27;, &#x27;KitchenQual&#x27;, &#x27;Functional&#x27;, &#x27;FireplaceQu&#x27;, &#x27;GarageType&#x27;, &#x27;GarageFinish&#x27;, &#x27;GarageQual&#x27;, &#x27;GarageCond&#x27;, &#x27;PavedDrive&#x27;, &#x27;Fence&#x27;, &#x27;MiscFeature&#x27;, &#x27;SaleType&#x27;, &#x27;SaleCondition&#x27;]</pre></div></div></div><div class=\"sk-serial\"><div class=\"sk-item\"><div class=\"sk-serial\"><div class=\"sk-item\"><div class=\"sk-estimator sk-toggleable\"><input class=\"sk-toggleable__control sk-hidden--visually\" id=\"sk-estimator-id-19\" type=\"checkbox\" ><label for=\"sk-estimator-id-19\" class=\"sk-toggleable__label sk-toggleable__label-arrow\">SimpleImputer</label><div class=\"sk-toggleable__content\"><pre>SimpleImputer(fill_value=&#x27;unknown&#x27;, strategy=&#x27;constant&#x27;)</pre></div></div></div><div class=\"sk-item\"><div class=\"sk-estimator sk-toggleable\"><input class=\"sk-toggleable__control sk-hidden--visually\" id=\"sk-estimator-id-20\" type=\"checkbox\" ><label for=\"sk-estimator-id-20\" class=\"sk-toggleable__label sk-toggleable__label-arrow\">OrdinalEncoder</label><div class=\"sk-toggleable__content\"><pre>OrdinalEncoder(handle_unknown=&#x27;use_encoded_value&#x27;, unknown_value=-1)</pre></div></div></div></div></div></div></div></div><div class=\"sk-parallel-item\"><div class=\"sk-item\"><div class=\"sk-label-container\"><div class=\"sk-label sk-toggleable\"><input class=\"sk-toggleable__control sk-hidden--visually\" id=\"sk-estimator-id-21\" type=\"checkbox\" ><label for=\"sk-estimator-id-21\" class=\"sk-toggleable__label sk-toggleable__label-arrow\">skew</label><div class=\"sk-toggleable__content\"><pre>Index([&#x27;MiscVal&#x27;, &#x27;PoolArea&#x27;, &#x27;haspool&#x27;, &#x27;LotArea&#x27;, &#x27;LowQualFinSF&#x27;,\n",
              "       &#x27;3SsnPorch&#x27;, &#x27;KitchenAbvGr&#x27;, &#x27;BsmtFinSF2&#x27;, &#x27;EnclosedPorch&#x27;,\n",
              "       &#x27;ScreenPorch&#x27;, &#x27;BsmtHalfBath&#x27;, &#x27;MasVnrArea&#x27;, &#x27;OpenPorchSF&#x27;,\n",
              "       &#x27;WoodDeckSF&#x27;, &#x27;Total_sqr_footage&#x27;, &#x27;TotalSF&#x27;, &#x27;LotFrontage&#x27;, &#x27;1stFlrSF&#x27;,\n",
              "       &#x27;BsmtFinSF1&#x27;, &#x27;Total_porch_sf&#x27;, &#x27;GrLivArea&#x27;, &#x27;TotalBsmtSF&#x27;, &#x27;BsmtUnfSF&#x27;,\n",
              "       &#x27;BsmtFinType1_Unf&#x27;, &#x27;2ndFlrSF&#x27;, &#x27;TotRmsAbvGrd&#x27;, &#x27;hasgarage&#x27;, &#x27;hasbsmt&#x27;],\n",
              "      dtype=&#x27;object&#x27;)</pre></div></div></div><div class=\"sk-serial\"><div class=\"sk-item\"><div class=\"sk-serial\"><div class=\"sk-item\"><div class=\"sk-estimator sk-toggleable\"><input class=\"sk-toggleable__control sk-hidden--visually\" id=\"sk-estimator-id-22\" type=\"checkbox\" ><label for=\"sk-estimator-id-22\" class=\"sk-toggleable__label sk-toggleable__label-arrow\">SimpleImputer</label><div class=\"sk-toggleable__content\"><pre>SimpleImputer()</pre></div></div></div><div class=\"sk-item\"><div class=\"sk-estimator sk-toggleable\"><input class=\"sk-toggleable__control sk-hidden--visually\" id=\"sk-estimator-id-23\" type=\"checkbox\" ><label for=\"sk-estimator-id-23\" class=\"sk-toggleable__label sk-toggleable__label-arrow\">FunctionTransformer</label><div class=\"sk-toggleable__content\"><pre>FunctionTransformer(func=&lt;ufunc &#x27;log1p&#x27;&gt;)</pre></div></div></div></div></div></div></div></div></div></div><div class=\"sk-item\"><div class=\"sk-estimator sk-toggleable\"><input class=\"sk-toggleable__control sk-hidden--visually\" id=\"sk-estimator-id-24\" type=\"checkbox\" ><label for=\"sk-estimator-id-24\" class=\"sk-toggleable__label sk-toggleable__label-arrow\">Ridge</label><div class=\"sk-toggleable__content\"><pre>Ridge(alpha=75)</pre></div></div></div></div></div></div></div>"
            ]
          },
          "metadata": {},
          "execution_count": 132
        }
      ]
    },
    {
      "cell_type": "code",
      "source": [
        "xgb_preds = np.expm1(pipeline_xgb.predict(test_X))\n",
        "lasso_preds = np.expm1(pipeline_ridge.predict(test_X))"
      ],
      "metadata": {
        "id": "fig7n_UpxS47"
      },
      "execution_count": 134,
      "outputs": []
    },
    {
      "cell_type": "code",
      "source": [
        "list(xgb_preds)"
      ],
      "metadata": {
        "id": "tSwnnP8-xgz5"
      },
      "execution_count": null,
      "outputs": []
    },
    {
      "cell_type": "code",
      "source": [
        "predictions = pd.DataFrame({\"xgb\":list(xgb_preds), \"lasso\":list(lasso_preds)})\n",
        "predictions.plot(x = \"xgb\", y = \"lasso\", kind = \"scatter\")"
      ],
      "metadata": {
        "colab": {
          "base_uri": "https://localhost:8080/",
          "height": 559
        },
        "id": "dbTIFWnzxbe7",
        "outputId": "946a9e07-dd6d-45ad-c590-abd48d8c0e41"
      },
      "execution_count": 142,
      "outputs": [
        {
          "output_type": "execute_result",
          "data": {
            "text/plain": [
              "<Axes: xlabel='xgb', ylabel='lasso'>"
            ]
          },
          "metadata": {},
          "execution_count": 142
        },
        {
          "output_type": "display_data",
          "data": {
            "text/plain": [
              "<Figure size 600x600 with 1 Axes>"
            ],
            "image/png": "[encoded data removed]"
          },
          "metadata": {}
        }
      ]
    },
    {
      "cell_type": "code",
      "source": [
        "preds = 0.7*xgb_preds + 0.3*xgb_preds\n",
        "# solution = pd.DataFrame({\"id\":test.Id, \"SalePrice\":preds})\n",
        "# display(solution)\n",
        "# solution.to_csv(\"output.csv\", index = False)\n",
        "\n",
        "output = pd.DataFrame({'Id': test[\"Id\"],\n",
        "                       'SalePrice': preds})\n",
        "\n",
        "path = \"/content/drive/MyDrive/Colab Notebooks/data/output.csv\"\n",
        "output.to_csv(path, index=False)\n",
        "output"
      ],
      "metadata": {
        "colab": {
          "base_uri": "https://localhost:8080/",
          "height": 424
        },
        "id": "tKMJ8P5Cx64A",
        "outputId": "05393926-f033-43bd-d600-fd7cf89718db"
      },
      "execution_count": 147,
      "outputs": [
        {
          "output_type": "execute_result",
          "data": {
            "text/plain": [
              "        Id      SalePrice\n",
              "0     1461  125149.375000\n",
              "1     1462  163927.703125\n",
              "2     1463  181607.343750\n",
              "3     1464  193061.593750\n",
              "4     1465  197062.125000\n",
              "...    ...            ...\n",
              "1454  2915   87332.718750\n",
              "1455  2916   85839.125000\n",
              "1456  2917  168332.734375\n",
              "1457  2918  116600.257812\n",
              "1458  2919  227072.015625\n",
              "\n",
              "[1459 rows x 2 columns]"
            ],
            "text/html": [
              "\n",
              "\n",
              "  <div id=\"df-fd76b007-d90e-4ca5-a6e7-dc8a122f8a7c\">\n",
              "    <div class=\"colab-df-container\">\n",
              "      <div>\n",
              "<style scoped>\n",
              "    .dataframe tbody tr th:only-of-type {\n",
              "        vertical-align: middle;\n",
              "    }\n",
              "\n",
              "    .dataframe tbody tr th {\n",
              "        vertical-align: top;\n",
              "    }\n",
              "\n",
              "    .dataframe thead th {\n",
              "        text-align: right;\n",
              "    }\n",
              "</style>\n",
              "<table border=\"1\" class=\"dataframe\">\n",
              "  <thead>\n",
              "    <tr style=\"text-align: right;\">\n",
              "      <th></th>\n",
              "      <th>Id</th>\n",
              "      <th>SalePrice</th>\n",
              "    </tr>\n",
              "  </thead>\n",
              "  <tbody>\n",
              "    <tr>\n",
              "      <th>0</th>\n",
              "      <td>1461</td>\n",
              "      <td>125149.375000</td>\n",
              "    </tr>\n",
              "    <tr>\n",
              "      <th>1</th>\n",
              "      <td>1462</td>\n",
              "      <td>163927.703125</td>\n",
              "    </tr>\n",
              "    <tr>\n",
              "      <th>2</th>\n",
              "      <td>1463</td>\n",
              "      <td>181607.343750</td>\n",
              "    </tr>\n",
              "    <tr>\n",
              "      <th>3</th>\n",
              "      <td>1464</td>\n",
              "      <td>193061.593750</td>\n",
              "    </tr>\n",
              "    <tr>\n",
              "      <th>4</th>\n",
              "      <td>1465</td>\n",
              "      <td>197062.125000</td>\n",
              "    </tr>\n",
              "    <tr>\n",
              "      <th>...</th>\n",
              "      <td>...</td>\n",
              "      <td>...</td>\n",
              "    </tr>\n",
              "    <tr>\n",
              "      <th>1454</th>\n",
              "      <td>2915</td>\n",
              "      <td>87332.718750</td>\n",
              "    </tr>\n",
              "    <tr>\n",
              "      <th>1455</th>\n",
              "      <td>2916</td>\n",
              "      <td>85839.125000</td>\n",
              "    </tr>\n",
              "    <tr>\n",
              "      <th>1456</th>\n",
              "      <td>2917</td>\n",
              "      <td>168332.734375</td>\n",
              "    </tr>\n",
              "    <tr>\n",
              "      <th>1457</th>\n",
              "      <td>2918</td>\n",
              "      <td>116600.257812</td>\n",
              "    </tr>\n",
              "    <tr>\n",
              "      <th>1458</th>\n",
              "      <td>2919</td>\n",
              "      <td>227072.015625</td>\n",
              "    </tr>\n",
              "  </tbody>\n",
              "</table>\n",
              "<p>1459 rows × 2 columns</p>\n",
              "</div>\n",
              "      <button class=\"colab-df-convert\" onclick=\"convertToInteractive('df-fd76b007-d90e-4ca5-a6e7-dc8a122f8a7c')\"\n",
              "              title=\"Convert this dataframe to an interactive table.\"\n",
              "              style=\"display:none;\">\n",
              "\n",
              "  <svg xmlns=\"http://www.w3.org/2000/svg\" height=\"24px\"viewBox=\"0 0 24 24\"\n",
              "       width=\"24px\">\n",
              "    <path d=\"M0 0h24v24H0V0z\" fill=\"none\"/>\n",
              "    <path d=\"M18.56 5.44l.94 2.06.94-2.06 2.06-.94-2.06-.94-.94-2.06-.94 2.06-2.06.94zm-11 1L8.5 8.5l.94-2.06 2.06-.94-2.06-.94L8.5 2.5l-.94 2.06-2.06.94zm10 10l.94 2.06.94-2.06 2.06-.94-2.06-.94-.94-2.06-.94 2.06-2.06.94z\"/><path d=\"M17.41 7.96l-1.37-1.37c-.4-.4-.92-.59-1.43-.59-.52 0-1.04.2-1.43.59L10.3 9.45l-7.72 7.72c-.78.78-.78 2.05 0 2.83L4 21.41c.39.39.9.59 1.41.59.51 0 1.02-.2 1.41-.59l7.78-7.78 2.81-2.81c.8-.78.8-2.07 0-2.86zM5.41 20L4 18.59l7.72-7.72 1.47 1.35L5.41 20z\"/>\n",
              "  </svg>\n",
              "      </button>\n",
              "\n",
              "\n",
              "\n",
              "    <div id=\"df-c304cebc-a3fe-432c-87c0-57d7285a1a1e\">\n",
              "      <button class=\"colab-df-quickchart\" onclick=\"quickchart('df-c304cebc-a3fe-432c-87c0-57d7285a1a1e')\"\n",
              "              title=\"Suggest charts.\"\n",
              "              style=\"display:none;\">\n",
              "\n",
              "<svg xmlns=\"http://www.w3.org/2000/svg\" height=\"24px\"viewBox=\"0 0 24 24\"\n",
              "     width=\"24px\">\n",
              "    <g>\n",
              "        <path d=\"M19 3H5c-1.1 0-2 .9-2 2v14c0 1.1.9 2 2 2h14c1.1 0 2-.9 2-2V5c0-1.1-.9-2-2-2zM9 17H7v-7h2v7zm4 0h-2V7h2v10zm4 0h-2v-4h2v4z\"/>\n",
              "    </g>\n",
              "</svg>\n",
              "      </button>\n",
              "    </div>\n",
              "\n",
              "<style>\n",
              "  .colab-df-quickchart {\n",
              "    background-color: #E8F0FE;\n",
              "    border: none;\n",
              "    border-radius: 50%;\n",
              "    cursor: pointer;\n",
              "    display: none;\n",
              "    fill: #1967D2;\n",
              "    height: 32px;\n",
              "    padding: 0 0 0 0;\n",
              "    width: 32px;\n",
              "  }\n",
              "\n",
              "  .colab-df-quickchart:hover {\n",
              "    background-color: #E2EBFA;\n",
              "    box-shadow: 0px 1px 2px rgba(60, 64, 67, 0.3), 0px 1px 3px 1px rgba(60, 64, 67, 0.15);\n",
              "    fill: #174EA6;\n",
              "  }\n",
              "\n",
              "  [theme=dark] .colab-df-quickchart {\n",
              "    background-color: #3B4455;\n",
              "    fill: #D2E3FC;\n",
              "  }\n",
              "\n",
              "  [theme=dark] .colab-df-quickchart:hover {\n",
              "    background-color: #434B5C;\n",
              "    box-shadow: 0px 1px 3px 1px rgba(0, 0, 0, 0.15);\n",
              "    filter: drop-shadow(0px 1px 2px rgba(0, 0, 0, 0.3));\n",
              "    fill: #FFFFFF;\n",
              "  }\n",
              "</style>\n",
              "\n",
              "    <script>\n",
              "      async function quickchart(key) {\n",
              "        const containerElement = document.querySelector('#' + key);\n",
              "        const charts = await google.colab.kernel.invokeFunction(\n",
              "            'suggestCharts', [key], {});\n",
              "      }\n",
              "    </script>\n",
              "\n",
              "      <script>\n",
              "\n",
              "function displayQuickchartButton(domScope) {\n",
              "  let quickchartButtonEl =\n",
              "    domScope.querySelector('#df-c304cebc-a3fe-432c-87c0-57d7285a1a1e button.colab-df-quickchart');\n",
              "  quickchartButtonEl.style.display =\n",
              "    google.colab.kernel.accessAllowed ? 'block' : 'none';\n",
              "}\n",
              "\n",
              "        displayQuickchartButton(document);\n",
              "      </script>\n",
              "      <style>\n",
              "    .colab-df-container {\n",
              "      display:flex;\n",
              "      flex-wrap:wrap;\n",
              "      gap: 12px;\n",
              "    }\n",
              "\n",
              "    .colab-df-convert {\n",
              "      background-color: #E8F0FE;\n",
              "      border: none;\n",
              "      border-radius: 50%;\n",
              "      cursor: pointer;\n",
              "      display: none;\n",
              "      fill: #1967D2;\n",
              "      height: 32px;\n",
              "      padding: 0 0 0 0;\n",
              "      width: 32px;\n",
              "    }\n",
              "\n",
              "    .colab-df-convert:hover {\n",
              "      background-color: #E2EBFA;\n",
              "      box-shadow: 0px 1px 2px rgba(60, 64, 67, 0.3), 0px 1px 3px 1px rgba(60, 64, 67, 0.15);\n",
              "      fill: #174EA6;\n",
              "    }\n",
              "\n",
              "    [theme=dark] .colab-df-convert {\n",
              "      background-color: #3B4455;\n",
              "      fill: #D2E3FC;\n",
              "    }\n",
              "\n",
              "    [theme=dark] .colab-df-convert:hover {\n",
              "      background-color: #434B5C;\n",
              "      box-shadow: 0px 1px 3px 1px rgba(0, 0, 0, 0.15);\n",
              "      filter: drop-shadow(0px 1px 2px rgba(0, 0, 0, 0.3));\n",
              "      fill: #FFFFFF;\n",
              "    }\n",
              "  </style>\n",
              "\n",
              "      <script>\n",
              "        const buttonEl =\n",
              "          document.querySelector('#df-fd76b007-d90e-4ca5-a6e7-dc8a122f8a7c button.colab-df-convert');\n",
              "        buttonEl.style.display =\n",
              "          google.colab.kernel.accessAllowed ? 'block' : 'none';\n",
              "\n",
              "        async function convertToInteractive(key) {\n",
              "          const element = document.querySelector('#df-fd76b007-d90e-4ca5-a6e7-dc8a122f8a7c');\n",
              "          const dataTable =\n",
              "            await google.colab.kernel.invokeFunction('convertToInteractive',\n",
              "                                                     [key], {});\n",
              "          if (!dataTable) return;\n",
              "\n",
              "          const docLinkHtml = 'Like what you see? Visit the ' +\n",
              "            '<a target=\"_blank\" href=https://colab.research.google.com/notebooks/data_table.ipynb>data table notebook</a>'\n",
              "            + ' to learn more about interactive tables.';\n",
              "          element.innerHTML = '';\n",
              "          dataTable['output_type'] = 'display_data';\n",
              "          await google.colab.output.renderOutput(dataTable, element);\n",
              "          const docLink = document.createElement('div');\n",
              "          docLink.innerHTML = docLinkHtml;\n",
              "          element.appendChild(docLink);\n",
              "        }\n",
              "      </script>\n",
              "    </div>\n",
              "  </div>\n"
            ]
          },
          "metadata": {},
          "execution_count": 147
        }
      ]
    },
    {
      "cell_type": "markdown",
      "source": [
        "# 以下、実験する用のセルたち"
      ],
      "metadata": {
        "id": "km2mu5DrB-7h"
      }
    },
    {
      "cell_type": "code",
      "source": [
        "stop"
      ],
      "metadata": {
        "colab": {
          "base_uri": "https://localhost:8080/",
          "height": 170
        },
        "id": "tpURCOHhB0fV",
        "outputId": "052a3e0d-ce89-42fa-db2d-f36f28a76349"
      },
      "execution_count": 60,
      "outputs": [
        {
          "output_type": "error",
          "ename": "NameError",
          "evalue": "ignored",
          "traceback": [
            "\u001b[0;31m---------------------------------------------------------------------------\u001b[0m",
            "\u001b[0;31mNameError\u001b[0m                                 Traceback (most recent call last)",
            "\u001b[0;32m<ipython-input-60-4f76a9dad686>\u001b[0m in \u001b[0;36m<cell line: 1>\u001b[0;34m()\u001b[0m\n\u001b[0;32m----> 1\u001b[0;31m \u001b[0mstop\u001b[0m\u001b[0;34m\u001b[0m\u001b[0;34m\u001b[0m\u001b[0m\n\u001b[0m",
            "\u001b[0;31mNameError\u001b[0m: name 'stop' is not defined"
          ]
        }
      ]
    },
    {
      "cell_type": "markdown",
      "source": [
        "## *** mitty 欠損値処理　***"
      ],
      "metadata": {
        "id": "f0IT2jgfHZbf"
      }
    },
    {
      "cell_type": "markdown",
      "source": [
        "### 欠損値対象説明変数"
      ],
      "metadata": {
        "id": "mQHcYaB-HfSb"
      }
    },
    {
      "cell_type": "markdown",
      "source": [
        "- LotArea\n",
        "- Neighborhood\n",
        "- YearBuilt\n",
        "- BsmtFinSF1\n",
        "- BsmtUnfSF\n",
        "- TotalBsmtSF\n",
        "- 1stFlrSF\n",
        "- GrLivArea\n",
        "- GarageArea"
      ],
      "metadata": {
        "id": "SFZTctm6HrXh"
      }
    },
    {
      "cell_type": "code",
      "source": [
        "all_data_fe = all_data.copy()"
      ],
      "metadata": {
        "id": "LFsgKeF6-Kw1"
      },
      "execution_count": null,
      "outputs": []
    },
    {
      "cell_type": "code",
      "source": [
        "target_col = ['LotArea',\n",
        " 'Neighborhood',\n",
        " 'YearBuilt',\n",
        " 'BsmtFinSF1',\n",
        " 'BsmtUnfSF',\n",
        " 'TotalBsmtSF',\n",
        " '1stFlrSF',\n",
        " 'GrLivArea',\n",
        " 'GarageArea']"
      ],
      "metadata": {
        "id": "vHlgDWllItZf"
      },
      "execution_count": null,
      "outputs": []
    },
    {
      "cell_type": "code",
      "source": [
        "all_data_fe[target_col].isnull().sum()"
      ],
      "metadata": {
        "id": "UgwgqjET7wib"
      },
      "execution_count": null,
      "outputs": []
    },
    {
      "cell_type": "markdown",
      "source": [
        "### BSMT系をみる"
      ],
      "metadata": {
        "id": "0iBPDdDRKFjr"
      }
    },
    {
      "cell_type": "code",
      "source": [
        "for col in all_data_fe.columns[all_data_fe.columns.str.contains(\"Bsmt\")]:\n",
        "  print(all_data_fe[all_data_fe['BsmtFinSF1'].isnull()][col])"
      ],
      "metadata": {
        "id": "PGuQriqUJM16"
      },
      "execution_count": null,
      "outputs": []
    },
    {
      "cell_type": "markdown",
      "source": [
        "- BsmtSF1の欠損値と同じ行のBsmt系は全て欠損値であることがわかった\n",
        "- 評価・品質がなし、1以降のBsmtも欠損値であることから、そもそも地下室がないため、featは0として補完することが最も適切"
      ],
      "metadata": {
        "id": "aWsW2kkRKRc-"
      }
    },
    {
      "cell_type": "code",
      "source": [
        "ext_col = [\"BsmtFinSF1\", \"BsmtUnfSF\", \"TotalBsmtSF\"]\n",
        "all_data_fe[ext_col]"
      ],
      "metadata": {
        "id": "kUzMKEk3MdO8"
      },
      "execution_count": null,
      "outputs": []
    },
    {
      "cell_type": "markdown",
      "source": [
        "## simple impで欠損値補完"
      ],
      "metadata": {
        "id": "EQ_zOKLbM4jS"
      }
    },
    {
      "cell_type": "code",
      "source": [
        "imp_instant = SimpleImputer(strategy='constant', fill_value=0)\n",
        "imp_instant.fit(all_data_fe[ext_col])\n",
        "all_data_fe[ext_col] = pd.DataFrame(imp_instant.transform(all_data_fe[ext_col]), columns = ext_col)"
      ],
      "metadata": {
        "id": "YN72ZJXvKIcH"
      },
      "execution_count": null,
      "outputs": []
    },
    {
      "cell_type": "code",
      "source": [
        "all_data_fe[target_col].isnull().sum()"
      ],
      "metadata": {
        "id": "14ly5VgOKljL"
      },
      "execution_count": null,
      "outputs": []
    },
    {
      "cell_type": "markdown",
      "source": [
        "## Garage系をみる"
      ],
      "metadata": {
        "id": "noDbimSKO9Ud"
      }
    },
    {
      "cell_type": "code",
      "source": [
        "for col in all_data_fe.columns[all_data_fe.columns.str.contains(\"Garage\")]:\n",
        "  print(all_data_fe[all_data_fe['GarageArea'].isnull()][col])"
      ],
      "metadata": {
        "id": "dUbSvMx0M-_3"
      },
      "execution_count": null,
      "outputs": []
    },
    {
      "cell_type": "markdown",
      "source": [
        "- Detchd >> Detached from home:家から離れている"
      ],
      "metadata": {
        "id": "q-L79BbfPbh4"
      }
    },
    {
      "cell_type": "markdown",
      "source": [
        "- つまり家とは別で契約しているため家の料金には含まれない？\n",
        "- 他のGarage系も欠損していることから、もともとガレッジは家についていないため、0で補完して良さそう。"
      ],
      "metadata": {
        "id": "U1FVb697PlND"
      }
    },
    {
      "cell_type": "markdown",
      "source": [
        "- simpl imp 使わずにfillnaをする笑"
      ],
      "metadata": {
        "id": "3n8UK0IJQO68"
      }
    },
    {
      "cell_type": "code",
      "source": [
        "all_data_fe['GarageArea'] = all_data_fe['GarageArea'].fillna(0)"
      ],
      "metadata": {
        "id": "3HfKuqaONm8-"
      },
      "execution_count": null,
      "outputs": []
    },
    {
      "cell_type": "code",
      "source": [
        "all_data_fe[target_col].isnull().sum()"
      ],
      "metadata": {
        "id": "exA6bxcjQL4C"
      },
      "execution_count": null,
      "outputs": []
    },
    {
      "cell_type": "markdown",
      "source": [
        "- これで絞った欠損値は全て補完した"
      ],
      "metadata": {
        "id": "s8ys_3j1QWoJ"
      }
    },
    {
      "cell_type": "markdown",
      "source": [
        "## その他欠損値処理"
      ],
      "metadata": {
        "id": "Irb8FI2TbZeY"
      }
    },
    {
      "cell_type": "code",
      "source": [
        "imp_zero = SimpleImputer(strategy='constant', fill_value=0)"
      ],
      "metadata": {
        "id": "cAm5Rdz2QN1L"
      },
      "execution_count": null,
      "outputs": []
    },
    {
      "cell_type": "code",
      "source": [
        "categorical_cols, numerical_cols = get_num_cat_column_names(all_data_fe, \"SalePrice\")\n",
        "skewed_features, numerical_cols = get_skewed_column_names(all_data_fe, numerical_cols)"
      ],
      "metadata": {
        "id": "OufQaTWsfjkX"
      },
      "execution_count": null,
      "outputs": []
    },
    {
      "cell_type": "markdown",
      "source": [
        "## 量的変数は0置換、カテゴリカル変数は評価できないことを意味する値\"Unknown\"で置換"
      ],
      "metadata": {
        "id": "86NXNktVhLJX"
      }
    },
    {
      "cell_type": "code",
      "source": [
        "# 量的変数の前処理\n",
        "numeric_transformer = Pipeline(steps=[('num_imputer', SimpleImputer(strategy='constant', fill_value=0)), (\"scaler\", StandardScaler())])\n",
        "skewed_transformer = Pipeline(steps=[('num_imputer', SimpleImputer(strategy='constant', fill_value=0)), (\"scaler\", StandardScaler()), (\"power\", PowerTransformer(method='yeo-johnson'))])\n",
        "\n",
        "# カテゴリ変数の前処理\n",
        "categorical_transformer = Pipeline(steps=[(\"cat_imputer\", SimpleImputer(strategy=\"constant\", fill_value=\"unknown\")), (\"encoder\", OrdinalEncoder())])\n",
        "preprocessor = ColumnTransformer(transformers=[(\"num\", numeric_transformer, list(set(numerical_cols)-set(skewed_features))), (\"cat\", categorical_transformer, categorical_cols), (\"skew\", skewed_transformer, skewed_features)])"
      ],
      "metadata": {
        "id": "nHccM5EueUFf"
      },
      "execution_count": null,
      "outputs": []
    },
    {
      "cell_type": "code",
      "source": [
        "all_data_preprocessed = pd.DataFrame(preprocessor.fit_transform(all_data_fe), columns=get_feature_names(preprocessor))\n",
        "all_data_preprocessed"
      ],
      "metadata": {
        "id": "sztLlJkxiQ6M"
      },
      "execution_count": null,
      "outputs": []
    },
    {
      "cell_type": "markdown",
      "source": [
        "### preprocess前とpreprocess後の分布を確認"
      ],
      "metadata": {
        "id": "P9Jxeu7ui7Sy"
      }
    },
    {
      "cell_type": "code",
      "source": [
        "all_data_fe[numerical_cols].hist(figsize=(16, 20), bins=50, xlabelsize=8, ylabelsize=8)"
      ],
      "metadata": {
        "id": "T_41qNgPiURB"
      },
      "execution_count": null,
      "outputs": []
    },
    {
      "cell_type": "code",
      "source": [
        "cat_cols_preprocessed = []\n",
        "num_cols_preprocessed = []\n",
        "for i in all_data_preprocessed.columns.tolist():\n",
        "    if all_data_preprocessed[i].dtype=='object':\n",
        "        cat_cols_preprocessed.append(i)\n",
        "    else:\n",
        "        num_cols_preprocessed.append(i)\n",
        "all_data_preprocessed[num_cols_preprocessed].hist(figsize=(16, 20), bins=50, xlabelsize=8, ylabelsize=8)"
      ],
      "metadata": {
        "id": "KrtMYVH-ipTW"
      },
      "execution_count": null,
      "outputs": []
    },
    {
      "cell_type": "markdown",
      "source": [
        "- 正規分布に近い分布に処理されていることが確認できた。"
      ],
      "metadata": {
        "id": "OuxE3EH9mq0r"
      }
    },
    {
      "cell_type": "markdown",
      "source": [
        "## *** mitty 外れ値処理 ***\n",
        "- もう手遅れだけど、外れ値 >> pipelineで欠損値処理とBOXCOXをやるべき"
      ],
      "metadata": {
        "id": "jUMru81HnCgl"
      }
    },
    {
      "cell_type": "code",
      "source": [
        "all_data_fe[numerical_cols].describe()"
      ],
      "metadata": {
        "id": "FFk8M4O-mZaU"
      },
      "execution_count": null,
      "outputs": []
    },
    {
      "cell_type": "markdown",
      "source": [
        "![image.png](data:image/png;base64,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)\n",
        "- 尖度は外れ値が存在するかどうかを判定するための尺度となりうる\n",
        "- 例えば、赤い線の分布よりも、緑の方が平らなため、分布が多い範囲が広くなっているため、3σ以上離れたデータが少ないことを意味する"
      ],
      "metadata": {
        "id": "Q2lV9TPgr2_u"
      }
    },
    {
      "cell_type": "code",
      "source": [
        "kurt_list = []\n",
        "for col in numerical_cols[1:]:\n",
        "  print(f\"{col} Kurtosis is: \" + str(train[col].kurt()))\n",
        "  if train[col].kurt() > 1:\n",
        "    kurt_list.append(col)\n"
      ],
      "metadata": {
        "id": "WORSXmVzn6j9"
      },
      "execution_count": null,
      "outputs": []
    },
    {
      "cell_type": "code",
      "source": [
        "train = all_data_fe[all_data_fe[\"SalePrice\"].notnull()]\n",
        "test = all_data_fe[all_data_fe[\"SalePrice\"].isnull()]\n",
        "for col in kurt_list:\n",
        "  train.plot.scatter(x=col, y='SalePrice', ylim=(0,800000));"
      ],
      "metadata": {
        "id": "EleJGCs6puqb"
      },
      "execution_count": null,
      "outputs": []
    },
    {
      "cell_type": "markdown",
      "source": [
        "- カテゴリカル変数も含まれているため消去する"
      ],
      "metadata": {
        "id": "wNEPup73wxbX"
      }
    },
    {
      "cell_type": "code",
      "source": [
        "for col in kurt_list:\n",
        "  if train[col].nunique() < 20:\n",
        "    continue\n",
        "  else:\n",
        "    train.plot.scatter(x=col, y='SalePrice', ylim=(0,800000));"
      ],
      "metadata": {
        "id": "TjuTP7IrvSbO"
      },
      "execution_count": null,
      "outputs": []
    }
  ],
  "metadata": {
    "colab": {
      "provenance": []
    },
    "kernelspec": {
      "display_name": "Python 3",
      "name": "python3"
    },
    "language_info": {
      "name": "python"
    }
  },
  "nbformat": 4,
  "nbformat_minor": 0
}